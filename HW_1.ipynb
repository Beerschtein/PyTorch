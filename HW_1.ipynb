{
  "cells": [
    {
      "cell_type": "markdown",
      "metadata": {
        "id": "view-in-github",
        "colab_type": "text"
      },
      "source": [
        "<a href=\"https://colab.research.google.com/github/Beerschtein/PyTorch/blob/main/HW_1.ipynb\" target=\"_parent\"><img src=\"https://colab.research.google.com/assets/colab-badge.svg\" alt=\"Open In Colab\"/></a>"
      ]
    },
    {
      "cell_type": "code",
      "source": [
        "# !pip3 install torch torchvision"
      ],
      "metadata": {
        "colab": {
          "base_uri": "https://localhost:8080/"
        },
        "id": "v-p1zgxRTwhr",
        "outputId": "e6eb2a29-bf02-4e1b-d2f5-9d4df3b63866"
      },
      "execution_count": null,
      "outputs": [
        {
          "output_type": "stream",
          "name": "stdout",
          "text": [
            "Looking in indexes: https://pypi.org/simple, https://us-python.pkg.dev/colab-wheels/public/simple/\n",
            "Requirement already satisfied: torch in /usr/local/lib/python3.7/dist-packages (1.12.0+cu113)\n",
            "Requirement already satisfied: torchvision in /usr/local/lib/python3.7/dist-packages (0.13.0+cu113)\n",
            "Requirement already satisfied: typing-extensions in /usr/local/lib/python3.7/dist-packages (from torch) (4.1.1)\n",
            "Requirement already satisfied: numpy in /usr/local/lib/python3.7/dist-packages (from torchvision) (1.21.6)\n",
            "Requirement already satisfied: requests in /usr/local/lib/python3.7/dist-packages (from torchvision) (2.23.0)\n",
            "Requirement already satisfied: pillow!=8.3.*,>=5.3.0 in /usr/local/lib/python3.7/dist-packages (from torchvision) (7.1.2)\n",
            "Requirement already satisfied: urllib3!=1.25.0,!=1.25.1,<1.26,>=1.21.1 in /usr/local/lib/python3.7/dist-packages (from requests->torchvision) (1.24.3)\n",
            "Requirement already satisfied: certifi>=2017.4.17 in /usr/local/lib/python3.7/dist-packages (from requests->torchvision) (2022.6.15)\n",
            "Requirement already satisfied: idna<3,>=2.5 in /usr/local/lib/python3.7/dist-packages (from requests->torchvision) (2.10)\n",
            "Requirement already satisfied: chardet<4,>=3.0.2 in /usr/local/lib/python3.7/dist-packages (from requests->torchvision) (3.0.4)\n"
          ]
        }
      ]
    },
    {
      "cell_type": "code",
      "execution_count": 1,
      "metadata": {
        "id": "_CNZn_3CofVO"
      },
      "outputs": [],
      "source": [
        "import torch\n",
        "from IPython import display\n",
        "import numpy as np\n",
        "import random"
      ]
    },
    {
      "cell_type": "code",
      "execution_count": 2,
      "metadata": {
        "id": "QGYTKAxeofVR",
        "colab": {
          "base_uri": "https://localhost:8080/"
        },
        "outputId": "8ed552e8-a1ad-4154-88fc-bdfaf5c8579e"
      },
      "outputs": [
        {
          "output_type": "execute_result",
          "data": {
            "text/plain": [
              "tensor([[[ 2.3131,  0.9252,  0.3832,  1.8600, -0.1040],\n",
              "         [-0.2052,  0.3623, -0.3293, -0.0560,  0.4311],\n",
              "         [ 2.2705,  1.0010, -1.1665,  0.7576,  0.0171],\n",
              "         [-0.3278, -0.1843,  1.3840, -0.8594, -0.7188]],\n",
              "\n",
              "        [[-0.4351, -0.0600, -0.9068, -2.1411,  1.7967],\n",
              "         [ 0.2052,  0.7363, -0.4056,  1.4246,  1.9047],\n",
              "         [ 0.6493,  1.0378,  0.2961, -0.1206, -1.4165],\n",
              "         [ 1.0136,  0.4381,  0.6249,  1.4204, -0.9215]],\n",
              "\n",
              "        [[ 0.0097,  1.4935,  0.8897, -0.5492, -0.5181],\n",
              "         [-1.5922,  1.6315,  0.6646, -0.5642,  1.9105],\n",
              "         [-0.0306, -0.7260, -1.0251,  0.0617, -0.3630],\n",
              "         [ 0.4667, -0.1279, -0.9968, -0.9976, -1.6062]]])"
            ]
          },
          "metadata": {},
          "execution_count": 2
        }
      ],
      "source": [
        "# 1. Создайте случайный FloatTensor размера 3x4x5\n",
        "a = torch.randn(3, 4, 5)\n",
        "a"
      ]
    },
    {
      "cell_type": "code",
      "execution_count": 3,
      "metadata": {
        "id": "7GV_q8DdofVV",
        "colab": {
          "base_uri": "https://localhost:8080/"
        },
        "outputId": "c98ccabc-aec2-41ea-dee6-a64694c5732d"
      },
      "outputs": [
        {
          "output_type": "execute_result",
          "data": {
            "text/plain": [
              "torch.Size([3, 4, 5])"
            ]
          },
          "metadata": {},
          "execution_count": 3
        }
      ],
      "source": [
        "# 2. Выведите его форму (shape)\n",
        "a.size()"
      ]
    },
    {
      "cell_type": "code",
      "source": [
        "print(a.type())"
      ],
      "metadata": {
        "colab": {
          "base_uri": "https://localhost:8080/"
        },
        "id": "HokAQrOHa83-",
        "outputId": "0433064e-0e73-4d52-b9cf-ae0455ada247"
      },
      "execution_count": 4,
      "outputs": [
        {
          "output_type": "stream",
          "name": "stdout",
          "text": [
            "torch.FloatTensor\n"
          ]
        }
      ]
    },
    {
      "cell_type": "code",
      "execution_count": 5,
      "metadata": {
        "id": "f1OTy65FofVX",
        "colab": {
          "base_uri": "https://localhost:8080/"
        },
        "outputId": "c479e8cd-7a6e-4332-f533-b7d5784bb819"
      },
      "outputs": [
        {
          "output_type": "execute_result",
          "data": {
            "text/plain": [
              "tensor([[ 2.3131,  0.9252,  0.3832,  1.8600, -0.1040, -0.2052,  0.3623, -0.3293,\n",
              "         -0.0560,  0.4311],\n",
              "        [ 2.2705,  1.0010, -1.1665,  0.7576,  0.0171, -0.3278, -0.1843,  1.3840,\n",
              "         -0.8594, -0.7188],\n",
              "        [-0.4351, -0.0600, -0.9068, -2.1411,  1.7967,  0.2052,  0.7363, -0.4056,\n",
              "          1.4246,  1.9047],\n",
              "        [ 0.6493,  1.0378,  0.2961, -0.1206, -1.4165,  1.0136,  0.4381,  0.6249,\n",
              "          1.4204, -0.9215],\n",
              "        [ 0.0097,  1.4935,  0.8897, -0.5492, -0.5181, -1.5922,  1.6315,  0.6646,\n",
              "         -0.5642,  1.9105],\n",
              "        [-0.0306, -0.7260, -1.0251,  0.0617, -0.3630,  0.4667, -0.1279, -0.9968,\n",
              "         -0.9976, -1.6062]])"
            ]
          },
          "metadata": {},
          "execution_count": 5
        }
      ],
      "source": [
        "# 3. Приведите его к форме 6х10\n",
        "a = a.reshape(6, 10)\n",
        "a"
      ]
    },
    {
      "cell_type": "code",
      "execution_count": 6,
      "metadata": {
        "id": "BEVOv9_TofVe",
        "colab": {
          "base_uri": "https://localhost:8080/"
        },
        "outputId": "1d985b33-6039-4994-ea3b-7f75cfa1a00e"
      },
      "outputs": [
        {
          "output_type": "execute_result",
          "data": {
            "text/plain": [
              "tensor([ 1,  0, -1,  0,  0, -1,  0, -1,  1, -1], dtype=torch.int32)"
            ]
          },
          "metadata": {},
          "execution_count": 6
        }
      ],
      "source": [
        "# 4. Создайте случайный IntTensor размера 10\n",
        "b = torch.randn(10).type(torch.IntTensor)\n",
        "b"
      ]
    },
    {
      "cell_type": "code",
      "source": [
        "print(b.type())"
      ],
      "metadata": {
        "colab": {
          "base_uri": "https://localhost:8080/"
        },
        "id": "Zr1lVV7mXZHc",
        "outputId": "1bce1641-0c12-470d-b765-c35b0af8493a"
      },
      "execution_count": 7,
      "outputs": [
        {
          "output_type": "stream",
          "name": "stdout",
          "text": [
            "torch.IntTensor\n"
          ]
        }
      ]
    },
    {
      "cell_type": "code",
      "source": [
        "b.shape"
      ],
      "metadata": {
        "colab": {
          "base_uri": "https://localhost:8080/"
        },
        "id": "DDk29wowgNM7",
        "outputId": "cfe384e4-f285-42ea-d85c-03c378398c2d"
      },
      "execution_count": 8,
      "outputs": [
        {
          "output_type": "execute_result",
          "data": {
            "text/plain": [
              "torch.Size([10])"
            ]
          },
          "metadata": {},
          "execution_count": 8
        }
      ]
    },
    {
      "cell_type": "markdown",
      "source": [
        ""
      ],
      "metadata": {
        "id": "z0Jf_2zadXB3"
      }
    },
    {
      "cell_type": "code",
      "source": [
        "# Ещё один случайный IntTensor размера 10, но из заданного множества\n",
        "c = torch.randint(100, size=(10,)).type(torch.IntTensor)\n",
        "c"
      ],
      "metadata": {
        "colab": {
          "base_uri": "https://localhost:8080/"
        },
        "id": "MGdFDYBrX86r",
        "outputId": "abe70abb-8c9f-4d4d-97df-73180daf7db7"
      },
      "execution_count": 9,
      "outputs": [
        {
          "output_type": "execute_result",
          "data": {
            "text/plain": [
              "tensor([98, 40, 32, 57, 27, 90, 75, 83, 55, 61], dtype=torch.int32)"
            ]
          },
          "metadata": {},
          "execution_count": 9
        }
      ]
    },
    {
      "cell_type": "code",
      "source": [
        "print(c.type())"
      ],
      "metadata": {
        "colab": {
          "base_uri": "https://localhost:8080/"
        },
        "id": "KQ8z81lpYiqy",
        "outputId": "4c6efb13-4411-475c-bee3-ece4cb5bf496"
      },
      "execution_count": 10,
      "outputs": [
        {
          "output_type": "stream",
          "name": "stdout",
          "text": [
            "torch.IntTensor\n"
          ]
        }
      ]
    },
    {
      "cell_type": "code",
      "source": [
        "# 5. Умножьте созданный FloatTensor на созданный IntTensor поэлементно\n",
        "d = torch.mul(a, b)"
      ],
      "metadata": {
        "id": "TAX3DUiSa07K"
      },
      "execution_count": 11,
      "outputs": []
    },
    {
      "cell_type": "code",
      "source": [
        "print(d)"
      ],
      "metadata": {
        "colab": {
          "base_uri": "https://localhost:8080/"
        },
        "id": "S9P0iVr1eMf3",
        "outputId": "05365859-dd82-4b39-c9f6-0b071af438fe"
      },
      "execution_count": 12,
      "outputs": [
        {
          "output_type": "stream",
          "name": "stdout",
          "text": [
            "tensor([[ 2.3131,  0.0000, -0.3832,  0.0000, -0.0000,  0.2052,  0.0000,  0.3293,\n",
            "         -0.0560, -0.4311],\n",
            "        [ 2.2705,  0.0000,  1.1665,  0.0000,  0.0000,  0.3278, -0.0000, -1.3840,\n",
            "         -0.8594,  0.7188],\n",
            "        [-0.4351, -0.0000,  0.9068, -0.0000,  0.0000, -0.2052,  0.0000,  0.4056,\n",
            "          1.4246, -1.9047],\n",
            "        [ 0.6493,  0.0000, -0.2961, -0.0000, -0.0000, -1.0136,  0.0000, -0.6249,\n",
            "          1.4204,  0.9215],\n",
            "        [ 0.0097,  0.0000, -0.8897, -0.0000, -0.0000,  1.5922,  0.0000, -0.6646,\n",
            "         -0.5642, -1.9105],\n",
            "        [-0.0306, -0.0000,  1.0251,  0.0000, -0.0000, -0.4667, -0.0000,  0.9968,\n",
            "         -0.9976,  1.6062]])\n"
          ]
        }
      ]
    },
    {
      "cell_type": "code",
      "execution_count": 13,
      "metadata": {
        "id": "eUxdWlQZofVi",
        "colab": {
          "base_uri": "https://localhost:8080/"
        },
        "outputId": "87ed481a-2e70-43fa-bc24-8ada9ea5c72e"
      },
      "outputs": [
        {
          "output_type": "execute_result",
          "data": {
            "text/plain": [
              "tensor([[ 2.3131,  2.2705, -0.4351,  0.6493,  0.0097, -0.0306],\n",
              "        [ 0.0000,  0.0000, -0.0000,  0.0000,  0.0000, -0.0000],\n",
              "        [-0.3832,  1.1665,  0.9068, -0.2961, -0.8897,  1.0251],\n",
              "        [ 0.0000,  0.0000, -0.0000, -0.0000, -0.0000,  0.0000],\n",
              "        [-0.0000,  0.0000,  0.0000, -0.0000, -0.0000, -0.0000],\n",
              "        [ 0.2052,  0.3278, -0.2052, -1.0136,  1.5922, -0.4667],\n",
              "        [ 0.0000, -0.0000,  0.0000,  0.0000,  0.0000, -0.0000],\n",
              "        [ 0.3293, -1.3840,  0.4056, -0.6249, -0.6646,  0.9968],\n",
              "        [-0.0560, -0.8594,  1.4246,  1.4204, -0.5642, -0.9976],\n",
              "        [-0.4311,  0.7188, -1.9047,  0.9215, -1.9105,  1.6062]])"
            ]
          },
          "metadata": {},
          "execution_count": 13
        }
      ],
      "source": [
        "# 6. Умножьте тензор матрично на себя, чтобы результат был размерности 6x6\n",
        "# Подсказка: .dot может не подойти\n",
        "x = d.T\n",
        "x"
      ]
    },
    {
      "cell_type": "code",
      "source": [
        "d_matr = torch.mm(d, x, out=None)"
      ],
      "metadata": {
        "id": "A9ORjqWvjj_k"
      },
      "execution_count": 14,
      "outputs": []
    },
    {
      "cell_type": "code",
      "source": [
        "d_matr"
      ],
      "metadata": {
        "colab": {
          "base_uri": "https://localhost:8080/"
        },
        "id": "daOIXyrtjquD",
        "outputId": "8d8227d1-f815-4382-9a1a-729629a2a4bf"
      },
      "execution_count": 15,
      "outputs": [
        {
          "output_type": "execute_result",
          "data": {
            "text/plain": [
              "tensor([[ 5.8368,  4.1546, -0.5212,  0.7248,  1.3266, -0.8677],\n",
              "        [ 4.1546,  9.7940, -3.1521,  1.1032, -0.4625,  1.6058],\n",
              "        [-0.5212, -3.1521,  6.8755, -0.3281,  1.4277, -3.0375],\n",
              "        [ 0.7248,  1.1032, -0.3281,  4.7939, -3.4906, -0.4102],\n",
              "        [ 1.3266, -0.4625,  1.4277, -3.4906,  7.7367, -4.8237],\n",
              "        [-0.8677,  1.6058, -3.0375, -0.4102, -4.8237,  5.8384]])"
            ]
          },
          "metadata": {},
          "execution_count": 15
        }
      ]
    },
    {
      "cell_type": "code",
      "source": [
        "d_matr.size()"
      ],
      "metadata": {
        "colab": {
          "base_uri": "https://localhost:8080/"
        },
        "id": "7H9SqlPTgLPw",
        "outputId": "0ce5f691-27ad-417d-f913-e9786b61ad92"
      },
      "execution_count": 16,
      "outputs": [
        {
          "output_type": "execute_result",
          "data": {
            "text/plain": [
              "torch.Size([6, 6])"
            ]
          },
          "metadata": {},
          "execution_count": 16
        }
      ]
    },
    {
      "cell_type": "code",
      "execution_count": 26,
      "metadata": {
        "id": "u3V6CsNkofVj"
      },
      "outputs": [],
      "source": [
        "# 7. Посчитайте производную функции y = x**3 + z - 75t в точке (1, 0.5, 2)\n",
        "\n",
        "x = torch.tensor([1.0], requires_grad=True)\n",
        "z = torch.tensor([0.5], requires_grad=True)\n",
        "t = torch.tensor([2.0], requires_grad=True)\n"
      ]
    },
    {
      "cell_type": "code",
      "source": [
        "y = x ** 3 + 1 * z - 75 * t\n",
        "y.backward(x, z, t)"
      ],
      "metadata": {
        "id": "f6RzE4NnnCr3"
      },
      "execution_count": 27,
      "outputs": []
    },
    {
      "cell_type": "code",
      "source": [
        "x.grad"
      ],
      "metadata": {
        "colab": {
          "base_uri": "https://localhost:8080/"
        },
        "id": "ptXaCQFtl9oU",
        "outputId": "87533986-4cc5-4e2e-a645-6cd43e8a5fe7"
      },
      "execution_count": 28,
      "outputs": [
        {
          "output_type": "execute_result",
          "data": {
            "text/plain": [
              "tensor([3.], grad_fn=<CopyBackwards>)"
            ]
          },
          "metadata": {},
          "execution_count": 28
        }
      ]
    },
    {
      "cell_type": "code",
      "source": [
        "z.grad"
      ],
      "metadata": {
        "colab": {
          "base_uri": "https://localhost:8080/"
        },
        "id": "2ZOvVlbBme7T",
        "outputId": "456c1025-0016-45ec-fbc1-d7b607b3234b"
      },
      "execution_count": 29,
      "outputs": [
        {
          "output_type": "execute_result",
          "data": {
            "text/plain": [
              "tensor([1.], grad_fn=<CopyBackwards>)"
            ]
          },
          "metadata": {},
          "execution_count": 29
        }
      ]
    },
    {
      "cell_type": "code",
      "source": [
        "t.grad"
      ],
      "metadata": {
        "colab": {
          "base_uri": "https://localhost:8080/"
        },
        "id": "dumrGXLumkU6",
        "outputId": "e7b74599-833a-4123-aa4b-6060d3e3be7c"
      },
      "execution_count": 30,
      "outputs": [
        {
          "output_type": "execute_result",
          "data": {
            "text/plain": [
              "tensor([-75.], grad_fn=<CopyBackwards>)"
            ]
          },
          "metadata": {},
          "execution_count": 30
        }
      ]
    },
    {
      "cell_type": "code",
      "execution_count": null,
      "metadata": {
        "id": "FzH6QkyxofVm",
        "colab": {
          "base_uri": "https://localhost:8080/"
        },
        "outputId": "d67fe14d-c968-43ff-93dd-eebf36168c34"
      },
      "outputs": [
        {
          "output_type": "execute_result",
          "data": {
            "text/plain": [
              "tensor([[ 1.2974, -0.5696, -0.8840, -0.0413, -1.0470, -0.3920],\n",
              "        [ 0.5095, -0.0980,  0.0874, -1.2118, -0.4353, -0.2600],\n",
              "        [-0.3722,  1.1890,  0.6100, -0.5904, -0.0410,  0.2466],\n",
              "        [ 0.1999, -0.1572, -0.0843,  0.3788, -0.3595,  0.0622],\n",
              "        [ 1.6800, -1.3026, -1.3412,  0.3889, -1.4305, -1.4083]])"
            ]
          },
          "metadata": {},
          "execution_count": 72
        }
      ],
      "source": [
        "# 8. Создайте единичный тензор размера 5x6\n",
        "z = torch.randn(5, 6)\n",
        "z"
      ]
    },
    {
      "cell_type": "code",
      "execution_count": null,
      "metadata": {
        "id": "z49ttvWPofVo",
        "colab": {
          "base_uri": "https://localhost:8080/"
        },
        "outputId": "7092e4e4-1b01-44c4-9940-06412c9b3898"
      },
      "outputs": [
        {
          "output_type": "execute_result",
          "data": {
            "text/plain": [
              "array([[ 1.2974216 , -0.56960297, -0.8839749 , -0.04133503, -1.0470216 ,\n",
              "        -0.3919515 ],\n",
              "       [ 0.5095299 , -0.09799053,  0.08742466, -1.2118319 , -0.43530098,\n",
              "        -0.259996  ],\n",
              "       [-0.3721625 ,  1.1889815 ,  0.6099601 , -0.590413  , -0.04098548,\n",
              "         0.24656633],\n",
              "       [ 0.19986428, -0.1571976 , -0.08433155,  0.3788261 , -0.35950917,\n",
              "         0.06217149],\n",
              "       [ 1.6800207 , -1.3025749 , -1.3411934 ,  0.38891506, -1.4305401 ,\n",
              "        -1.4082584 ]], dtype=float32)"
            ]
          },
          "metadata": {},
          "execution_count": 73
        }
      ],
      "source": [
        "# 9. Переведите его в формат numpy\n",
        "z.numpy()"
      ]
    }
  ],
  "metadata": {
    "kernelspec": {
      "display_name": "Python 3",
      "language": "python",
      "name": "python3"
    },
    "language_info": {
      "codemirror_mode": {
        "name": "ipython",
        "version": 3
      },
      "file_extension": ".py",
      "mimetype": "text/x-python",
      "name": "python",
      "nbconvert_exporter": "python",
      "pygments_lexer": "ipython3",
      "version": "3.7.4"
    },
    "colab": {
      "name": "HW_1.ipynb",
      "provenance": [],
      "collapsed_sections": [],
      "include_colab_link": true
    }
  },
  "nbformat": 4,
  "nbformat_minor": 0
}