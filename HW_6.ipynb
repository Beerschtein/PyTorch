{
  "cells": [
    {
      "cell_type": "markdown",
      "metadata": {
        "id": "view-in-github",
        "colab_type": "text"
      },
      "source": [
        "<a href=\"https://colab.research.google.com/github/Beerschtein/PyTorch/blob/main/HW_6.ipynb\" target=\"_parent\"><img src=\"https://colab.research.google.com/assets/colab-badge.svg\" alt=\"Open In Colab\"/></a>"
      ]
    },
    {
      "cell_type": "markdown",
      "source": [
        "# Домашнее задание 6"
      ],
      "metadata": {
        "id": "bavzgzwwCsdq"
      }
    },
    {
      "cell_type": "markdown",
      "source": [
        "1. Попробуйте обучить нейронную сеть с применением одномерных сверток для предсказания сентимента сообщений с твитера на примере https://www.kaggle.com/datasets/arkhoshghalb/twitter-sentiment-analysis-hatred-speech"
      ],
      "metadata": {
        "id": "a5OH2jXGC587"
      }
    },
    {
      "cell_type": "markdown",
      "source": [
        "2. Опишите, какой результат вы получили? Что помогло вам улучшить ее точность?"
      ],
      "metadata": {
        "id": "fyNTNCRUDD5y"
      }
    },
    {
      "cell_type": "markdown",
      "source": [
        "У кого нет возможности работать через каггл (нет верификации), то можете данные взять по ссылке: https://disk.yandex.ru/d/LV1cYS1orMyRWA"
      ],
      "metadata": {
        "id": "sVynZezwDLRP"
      }
    },
    {
      "cell_type": "markdown",
      "source": [
        "### Скачаем датасет и посмотрим на данные."
      ],
      "metadata": {
        "id": "crX5YvljK6PX"
      }
    },
    {
      "cell_type": "code",
      "source": [
        "!wget 'https://drive.google.com/uc?export=download&confirm=no_antivirus&id=1sVla-Yr8ysd2W8m3xNUCMDb2MCDcn0VY' -O twitter_sentiment.zip"
      ],
      "metadata": {
        "colab": {
          "base_uri": "https://localhost:8080/"
        },
        "id": "kAcbPjyeRSkQ",
        "outputId": "8aef4b10-344f-43a2-eb96-d40a382d201b"
      },
      "execution_count": 1,
      "outputs": [
        {
          "output_type": "stream",
          "name": "stdout",
          "text": [
            "--2022-09-01 09:28:14--  https://drive.google.com/uc?export=download&confirm=no_antivirus&id=1sVla-Yr8ysd2W8m3xNUCMDb2MCDcn0VY\n",
            "Resolving drive.google.com (drive.google.com)... 142.250.4.113, 142.250.4.101, 142.250.4.100, ...\n",
            "Connecting to drive.google.com (drive.google.com)|142.250.4.113|:443... connected.\n",
            "HTTP request sent, awaiting response... 303 See Other\n",
            "Location: https://doc-00-18-docs.googleusercontent.com/docs/securesc/ha0ro937gcuc7l7deffksulhg5h7mbp1/hhc1i55jkcbc9oso9vi2rj566gvse8ln/1662024450000/06840004559052771215/*/1sVla-Yr8ysd2W8m3xNUCMDb2MCDcn0VY?e=download&uuid=c6882ee3-071f-4b15-a4d1-abbd18933463 [following]\n",
            "Warning: wildcards not supported in HTTP.\n",
            "--2022-09-01 09:28:16--  https://doc-00-18-docs.googleusercontent.com/docs/securesc/ha0ro937gcuc7l7deffksulhg5h7mbp1/hhc1i55jkcbc9oso9vi2rj566gvse8ln/1662024450000/06840004559052771215/*/1sVla-Yr8ysd2W8m3xNUCMDb2MCDcn0VY?e=download&uuid=c6882ee3-071f-4b15-a4d1-abbd18933463\n",
            "Resolving doc-00-18-docs.googleusercontent.com (doc-00-18-docs.googleusercontent.com)... 142.251.10.132, 2404:6800:4003:c0f::84\n",
            "Connecting to doc-00-18-docs.googleusercontent.com (doc-00-18-docs.googleusercontent.com)|142.251.10.132|:443... connected.\n",
            "HTTP request sent, awaiting response... 200 OK\n",
            "Length: 1982527 (1.9M) [application/zip]\n",
            "Saving to: ‘twitter_sentiment.zip’\n",
            "\n",
            "twitter_sentiment.z 100%[===================>]   1.89M  --.-KB/s    in 0.01s   \n",
            "\n",
            "2022-09-01 09:28:17 (160 MB/s) - ‘twitter_sentiment.zip’ saved [1982527/1982527]\n",
            "\n"
          ]
        }
      ]
    },
    {
      "cell_type": "code",
      "source": [
        "!unzip twitter_sentiment.zip"
      ],
      "metadata": {
        "colab": {
          "base_uri": "https://localhost:8080/"
        },
        "id": "mjAuCojERXaa",
        "outputId": "071b9463-344a-4b7b-ab6a-3483878314d2"
      },
      "execution_count": 2,
      "outputs": [
        {
          "output_type": "stream",
          "name": "stdout",
          "text": [
            "Archive:  twitter_sentiment.zip\n",
            "replace test.csv? [y]es, [n]o, [A]ll, [N]one, [r]ename: A\n",
            "  inflating: test.csv                \n",
            "  inflating: train.csv               \n"
          ]
        }
      ]
    },
    {
      "cell_type": "code",
      "source": [
        "import numpy as np\n",
        "import pandas as pd\n",
        "from sklearn.model_selection import train_test_split"
      ],
      "metadata": {
        "id": "0vrHvihCDuIc"
      },
      "execution_count": 3,
      "outputs": []
    },
    {
      "cell_type": "code",
      "execution_count": 4,
      "metadata": {
        "id": "LUCk-5M2yg3S"
      },
      "outputs": [],
      "source": [
        "df = pd.read_csv(\"train.csv\")\n",
        "df_test = pd.read_csv(\"test.csv\")"
      ]
    },
    {
      "cell_type": "code",
      "execution_count": 5,
      "metadata": {
        "colab": {
          "base_uri": "https://localhost:8080/",
          "height": 206
        },
        "id": "KBSf-OfDzWOI",
        "outputId": "ab0ae9e9-52f4-414d-80dc-0d5cfa7915a4"
      },
      "outputs": [
        {
          "output_type": "execute_result",
          "data": {
            "text/plain": [
              "   id  label                                              tweet\n",
              "0   1      0   @user when a father is dysfunctional and is s...\n",
              "1   2      0  @user @user thanks for #lyft credit i can't us...\n",
              "2   3      0                                bihday your majesty\n",
              "3   4      0  #model   i love u take with u all the time in ...\n",
              "4   5      0             factsguide: society now    #motivation"
            ],
            "text/html": [
              "\n",
              "  <div id=\"df-56565a90-d680-4e21-a1b7-9a1c42e9d4c7\">\n",
              "    <div class=\"colab-df-container\">\n",
              "      <div>\n",
              "<style scoped>\n",
              "    .dataframe tbody tr th:only-of-type {\n",
              "        vertical-align: middle;\n",
              "    }\n",
              "\n",
              "    .dataframe tbody tr th {\n",
              "        vertical-align: top;\n",
              "    }\n",
              "\n",
              "    .dataframe thead th {\n",
              "        text-align: right;\n",
              "    }\n",
              "</style>\n",
              "<table border=\"1\" class=\"dataframe\">\n",
              "  <thead>\n",
              "    <tr style=\"text-align: right;\">\n",
              "      <th></th>\n",
              "      <th>id</th>\n",
              "      <th>label</th>\n",
              "      <th>tweet</th>\n",
              "    </tr>\n",
              "  </thead>\n",
              "  <tbody>\n",
              "    <tr>\n",
              "      <th>0</th>\n",
              "      <td>1</td>\n",
              "      <td>0</td>\n",
              "      <td>@user when a father is dysfunctional and is s...</td>\n",
              "    </tr>\n",
              "    <tr>\n",
              "      <th>1</th>\n",
              "      <td>2</td>\n",
              "      <td>0</td>\n",
              "      <td>@user @user thanks for #lyft credit i can't us...</td>\n",
              "    </tr>\n",
              "    <tr>\n",
              "      <th>2</th>\n",
              "      <td>3</td>\n",
              "      <td>0</td>\n",
              "      <td>bihday your majesty</td>\n",
              "    </tr>\n",
              "    <tr>\n",
              "      <th>3</th>\n",
              "      <td>4</td>\n",
              "      <td>0</td>\n",
              "      <td>#model   i love u take with u all the time in ...</td>\n",
              "    </tr>\n",
              "    <tr>\n",
              "      <th>4</th>\n",
              "      <td>5</td>\n",
              "      <td>0</td>\n",
              "      <td>factsguide: society now    #motivation</td>\n",
              "    </tr>\n",
              "  </tbody>\n",
              "</table>\n",
              "</div>\n",
              "      <button class=\"colab-df-convert\" onclick=\"convertToInteractive('df-56565a90-d680-4e21-a1b7-9a1c42e9d4c7')\"\n",
              "              title=\"Convert this dataframe to an interactive table.\"\n",
              "              style=\"display:none;\">\n",
              "        \n",
              "  <svg xmlns=\"http://www.w3.org/2000/svg\" height=\"24px\"viewBox=\"0 0 24 24\"\n",
              "       width=\"24px\">\n",
              "    <path d=\"M0 0h24v24H0V0z\" fill=\"none\"/>\n",
              "    <path d=\"M18.56 5.44l.94 2.06.94-2.06 2.06-.94-2.06-.94-.94-2.06-.94 2.06-2.06.94zm-11 1L8.5 8.5l.94-2.06 2.06-.94-2.06-.94L8.5 2.5l-.94 2.06-2.06.94zm10 10l.94 2.06.94-2.06 2.06-.94-2.06-.94-.94-2.06-.94 2.06-2.06.94z\"/><path d=\"M17.41 7.96l-1.37-1.37c-.4-.4-.92-.59-1.43-.59-.52 0-1.04.2-1.43.59L10.3 9.45l-7.72 7.72c-.78.78-.78 2.05 0 2.83L4 21.41c.39.39.9.59 1.41.59.51 0 1.02-.2 1.41-.59l7.78-7.78 2.81-2.81c.8-.78.8-2.07 0-2.86zM5.41 20L4 18.59l7.72-7.72 1.47 1.35L5.41 20z\"/>\n",
              "  </svg>\n",
              "      </button>\n",
              "      \n",
              "  <style>\n",
              "    .colab-df-container {\n",
              "      display:flex;\n",
              "      flex-wrap:wrap;\n",
              "      gap: 12px;\n",
              "    }\n",
              "\n",
              "    .colab-df-convert {\n",
              "      background-color: #E8F0FE;\n",
              "      border: none;\n",
              "      border-radius: 50%;\n",
              "      cursor: pointer;\n",
              "      display: none;\n",
              "      fill: #1967D2;\n",
              "      height: 32px;\n",
              "      padding: 0 0 0 0;\n",
              "      width: 32px;\n",
              "    }\n",
              "\n",
              "    .colab-df-convert:hover {\n",
              "      background-color: #E2EBFA;\n",
              "      box-shadow: 0px 1px 2px rgba(60, 64, 67, 0.3), 0px 1px 3px 1px rgba(60, 64, 67, 0.15);\n",
              "      fill: #174EA6;\n",
              "    }\n",
              "\n",
              "    [theme=dark] .colab-df-convert {\n",
              "      background-color: #3B4455;\n",
              "      fill: #D2E3FC;\n",
              "    }\n",
              "\n",
              "    [theme=dark] .colab-df-convert:hover {\n",
              "      background-color: #434B5C;\n",
              "      box-shadow: 0px 1px 3px 1px rgba(0, 0, 0, 0.15);\n",
              "      filter: drop-shadow(0px 1px 2px rgba(0, 0, 0, 0.3));\n",
              "      fill: #FFFFFF;\n",
              "    }\n",
              "  </style>\n",
              "\n",
              "      <script>\n",
              "        const buttonEl =\n",
              "          document.querySelector('#df-56565a90-d680-4e21-a1b7-9a1c42e9d4c7 button.colab-df-convert');\n",
              "        buttonEl.style.display =\n",
              "          google.colab.kernel.accessAllowed ? 'block' : 'none';\n",
              "\n",
              "        async function convertToInteractive(key) {\n",
              "          const element = document.querySelector('#df-56565a90-d680-4e21-a1b7-9a1c42e9d4c7');\n",
              "          const dataTable =\n",
              "            await google.colab.kernel.invokeFunction('convertToInteractive',\n",
              "                                                     [key], {});\n",
              "          if (!dataTable) return;\n",
              "\n",
              "          const docLinkHtml = 'Like what you see? Visit the ' +\n",
              "            '<a target=\"_blank\" href=https://colab.research.google.com/notebooks/data_table.ipynb>data table notebook</a>'\n",
              "            + ' to learn more about interactive tables.';\n",
              "          element.innerHTML = '';\n",
              "          dataTable['output_type'] = 'display_data';\n",
              "          await google.colab.output.renderOutput(dataTable, element);\n",
              "          const docLink = document.createElement('div');\n",
              "          docLink.innerHTML = docLinkHtml;\n",
              "          element.appendChild(docLink);\n",
              "        }\n",
              "      </script>\n",
              "    </div>\n",
              "  </div>\n",
              "  "
            ]
          },
          "metadata": {},
          "execution_count": 5
        }
      ],
      "source": [
        "df.head()"
      ]
    },
    {
      "cell_type": "markdown",
      "source": [
        "### Проверим датасет на пропуски и типы данных"
      ],
      "metadata": {
        "id": "8Ft6z8-GL36R"
      }
    },
    {
      "cell_type": "code",
      "source": [
        "df.info()"
      ],
      "metadata": {
        "colab": {
          "base_uri": "https://localhost:8080/"
        },
        "id": "mt3XumWiIE9t",
        "outputId": "93e9b199-3ddb-4f45-cb6c-b62e616cf456"
      },
      "execution_count": 6,
      "outputs": [
        {
          "output_type": "stream",
          "name": "stdout",
          "text": [
            "<class 'pandas.core.frame.DataFrame'>\n",
            "RangeIndex: 31962 entries, 0 to 31961\n",
            "Data columns (total 3 columns):\n",
            " #   Column  Non-Null Count  Dtype \n",
            "---  ------  --------------  ----- \n",
            " 0   id      31962 non-null  int64 \n",
            " 1   label   31962 non-null  int64 \n",
            " 2   tweet   31962 non-null  object\n",
            "dtypes: int64(2), object(1)\n",
            "memory usage: 749.2+ KB\n"
          ]
        }
      ]
    },
    {
      "cell_type": "markdown",
      "source": [
        "### А так же на наличие дубликатов"
      ],
      "metadata": {
        "id": "Wj0xl3aqL_Sw"
      }
    },
    {
      "cell_type": "code",
      "source": [
        "df.duplicated().sum()"
      ],
      "metadata": {
        "colab": {
          "base_uri": "https://localhost:8080/"
        },
        "id": "RVnOxF32KNtv",
        "outputId": "f8b0cc6f-4d8d-43d7-80b7-01330b305942"
      },
      "execution_count": 7,
      "outputs": [
        {
          "output_type": "execute_result",
          "data": {
            "text/plain": [
              "0"
            ]
          },
          "metadata": {},
          "execution_count": 7
        }
      ]
    },
    {
      "cell_type": "markdown",
      "source": [
        "### Посмотрим на количество и соотношение меток целевого класса"
      ],
      "metadata": {
        "id": "qwQeHKWIMXCx"
      }
    },
    {
      "cell_type": "code",
      "source": [
        "df['label'].value_counts()"
      ],
      "metadata": {
        "colab": {
          "base_uri": "https://localhost:8080/"
        },
        "id": "DqZ8414mJQlK",
        "outputId": "01fb7ce2-281a-49e2-c85f-5351195dd976"
      },
      "execution_count": 8,
      "outputs": [
        {
          "output_type": "execute_result",
          "data": {
            "text/plain": [
              "0    29720\n",
              "1     2242\n",
              "Name: label, dtype: int64"
            ]
          },
          "metadata": {},
          "execution_count": 8
        }
      ]
    },
    {
      "cell_type": "markdown",
      "source": [
        "### В датасете собраны твиты двух тональностей. Значит необходимо произвести классификацию на два класса."
      ],
      "metadata": {
        "id": "AgalVrmSPFqN"
      }
    },
    {
      "cell_type": "markdown",
      "source": [
        "1 - negative<br>\n",
        "0 - positive"
      ],
      "metadata": {
        "id": "CRaO-Ub5e8hx"
      }
    },
    {
      "cell_type": "markdown",
      "source": [
        "### Посмотрим на тестовый датасет"
      ],
      "metadata": {
        "id": "FUDyhNO1NSmt"
      }
    },
    {
      "cell_type": "code",
      "source": [
        "df_test.head()"
      ],
      "metadata": {
        "colab": {
          "base_uri": "https://localhost:8080/",
          "height": 206
        },
        "id": "ugfI8qoXG_mU",
        "outputId": "3fcc7336-92d6-4b3c-e72d-32bcf38dbd80"
      },
      "execution_count": 9,
      "outputs": [
        {
          "output_type": "execute_result",
          "data": {
            "text/plain": [
              "      id                                              tweet\n",
              "0  31963  #studiolife #aislife #requires #passion #dedic...\n",
              "1  31964   @user #white #supremacists want everyone to s...\n",
              "2  31965  safe ways to heal your #acne!!    #altwaystohe...\n",
              "3  31966  is the hp and the cursed child book up for res...\n",
              "4  31967    3rd #bihday to my amazing, hilarious #nephew..."
            ],
            "text/html": [
              "\n",
              "  <div id=\"df-fd077d17-491d-4f28-89ae-2b447b7f55a0\">\n",
              "    <div class=\"colab-df-container\">\n",
              "      <div>\n",
              "<style scoped>\n",
              "    .dataframe tbody tr th:only-of-type {\n",
              "        vertical-align: middle;\n",
              "    }\n",
              "\n",
              "    .dataframe tbody tr th {\n",
              "        vertical-align: top;\n",
              "    }\n",
              "\n",
              "    .dataframe thead th {\n",
              "        text-align: right;\n",
              "    }\n",
              "</style>\n",
              "<table border=\"1\" class=\"dataframe\">\n",
              "  <thead>\n",
              "    <tr style=\"text-align: right;\">\n",
              "      <th></th>\n",
              "      <th>id</th>\n",
              "      <th>tweet</th>\n",
              "    </tr>\n",
              "  </thead>\n",
              "  <tbody>\n",
              "    <tr>\n",
              "      <th>0</th>\n",
              "      <td>31963</td>\n",
              "      <td>#studiolife #aislife #requires #passion #dedic...</td>\n",
              "    </tr>\n",
              "    <tr>\n",
              "      <th>1</th>\n",
              "      <td>31964</td>\n",
              "      <td>@user #white #supremacists want everyone to s...</td>\n",
              "    </tr>\n",
              "    <tr>\n",
              "      <th>2</th>\n",
              "      <td>31965</td>\n",
              "      <td>safe ways to heal your #acne!!    #altwaystohe...</td>\n",
              "    </tr>\n",
              "    <tr>\n",
              "      <th>3</th>\n",
              "      <td>31966</td>\n",
              "      <td>is the hp and the cursed child book up for res...</td>\n",
              "    </tr>\n",
              "    <tr>\n",
              "      <th>4</th>\n",
              "      <td>31967</td>\n",
              "      <td>3rd #bihday to my amazing, hilarious #nephew...</td>\n",
              "    </tr>\n",
              "  </tbody>\n",
              "</table>\n",
              "</div>\n",
              "      <button class=\"colab-df-convert\" onclick=\"convertToInteractive('df-fd077d17-491d-4f28-89ae-2b447b7f55a0')\"\n",
              "              title=\"Convert this dataframe to an interactive table.\"\n",
              "              style=\"display:none;\">\n",
              "        \n",
              "  <svg xmlns=\"http://www.w3.org/2000/svg\" height=\"24px\"viewBox=\"0 0 24 24\"\n",
              "       width=\"24px\">\n",
              "    <path d=\"M0 0h24v24H0V0z\" fill=\"none\"/>\n",
              "    <path d=\"M18.56 5.44l.94 2.06.94-2.06 2.06-.94-2.06-.94-.94-2.06-.94 2.06-2.06.94zm-11 1L8.5 8.5l.94-2.06 2.06-.94-2.06-.94L8.5 2.5l-.94 2.06-2.06.94zm10 10l.94 2.06.94-2.06 2.06-.94-2.06-.94-.94-2.06-.94 2.06-2.06.94z\"/><path d=\"M17.41 7.96l-1.37-1.37c-.4-.4-.92-.59-1.43-.59-.52 0-1.04.2-1.43.59L10.3 9.45l-7.72 7.72c-.78.78-.78 2.05 0 2.83L4 21.41c.39.39.9.59 1.41.59.51 0 1.02-.2 1.41-.59l7.78-7.78 2.81-2.81c.8-.78.8-2.07 0-2.86zM5.41 20L4 18.59l7.72-7.72 1.47 1.35L5.41 20z\"/>\n",
              "  </svg>\n",
              "      </button>\n",
              "      \n",
              "  <style>\n",
              "    .colab-df-container {\n",
              "      display:flex;\n",
              "      flex-wrap:wrap;\n",
              "      gap: 12px;\n",
              "    }\n",
              "\n",
              "    .colab-df-convert {\n",
              "      background-color: #E8F0FE;\n",
              "      border: none;\n",
              "      border-radius: 50%;\n",
              "      cursor: pointer;\n",
              "      display: none;\n",
              "      fill: #1967D2;\n",
              "      height: 32px;\n",
              "      padding: 0 0 0 0;\n",
              "      width: 32px;\n",
              "    }\n",
              "\n",
              "    .colab-df-convert:hover {\n",
              "      background-color: #E2EBFA;\n",
              "      box-shadow: 0px 1px 2px rgba(60, 64, 67, 0.3), 0px 1px 3px 1px rgba(60, 64, 67, 0.15);\n",
              "      fill: #174EA6;\n",
              "    }\n",
              "\n",
              "    [theme=dark] .colab-df-convert {\n",
              "      background-color: #3B4455;\n",
              "      fill: #D2E3FC;\n",
              "    }\n",
              "\n",
              "    [theme=dark] .colab-df-convert:hover {\n",
              "      background-color: #434B5C;\n",
              "      box-shadow: 0px 1px 3px 1px rgba(0, 0, 0, 0.15);\n",
              "      filter: drop-shadow(0px 1px 2px rgba(0, 0, 0, 0.3));\n",
              "      fill: #FFFFFF;\n",
              "    }\n",
              "  </style>\n",
              "\n",
              "      <script>\n",
              "        const buttonEl =\n",
              "          document.querySelector('#df-fd077d17-491d-4f28-89ae-2b447b7f55a0 button.colab-df-convert');\n",
              "        buttonEl.style.display =\n",
              "          google.colab.kernel.accessAllowed ? 'block' : 'none';\n",
              "\n",
              "        async function convertToInteractive(key) {\n",
              "          const element = document.querySelector('#df-fd077d17-491d-4f28-89ae-2b447b7f55a0');\n",
              "          const dataTable =\n",
              "            await google.colab.kernel.invokeFunction('convertToInteractive',\n",
              "                                                     [key], {});\n",
              "          if (!dataTable) return;\n",
              "\n",
              "          const docLinkHtml = 'Like what you see? Visit the ' +\n",
              "            '<a target=\"_blank\" href=https://colab.research.google.com/notebooks/data_table.ipynb>data table notebook</a>'\n",
              "            + ' to learn more about interactive tables.';\n",
              "          element.innerHTML = '';\n",
              "          dataTable['output_type'] = 'display_data';\n",
              "          await google.colab.output.renderOutput(dataTable, element);\n",
              "          const docLink = document.createElement('div');\n",
              "          docLink.innerHTML = docLinkHtml;\n",
              "          element.appendChild(docLink);\n",
              "        }\n",
              "      </script>\n",
              "    </div>\n",
              "  </div>\n",
              "  "
            ]
          },
          "metadata": {},
          "execution_count": 9
        }
      ]
    },
    {
      "cell_type": "code",
      "source": [
        "df_test.info()"
      ],
      "metadata": {
        "colab": {
          "base_uri": "https://localhost:8080/"
        },
        "id": "E81e8rflI4Ii",
        "outputId": "5659a243-66a3-4ea7-c1b1-85abf8a25837"
      },
      "execution_count": 10,
      "outputs": [
        {
          "output_type": "stream",
          "name": "stdout",
          "text": [
            "<class 'pandas.core.frame.DataFrame'>\n",
            "RangeIndex: 17197 entries, 0 to 17196\n",
            "Data columns (total 2 columns):\n",
            " #   Column  Non-Null Count  Dtype \n",
            "---  ------  --------------  ----- \n",
            " 0   id      17197 non-null  int64 \n",
            " 1   tweet   17197 non-null  object\n",
            "dtypes: int64(1), object(1)\n",
            "memory usage: 268.8+ KB\n"
          ]
        }
      ]
    },
    {
      "cell_type": "markdown",
      "source": [
        "### Датасет содержит только id и tweet-текст.\n",
        "\n"
      ],
      "metadata": {
        "id": "c0nxsAsfNatV"
      }
    },
    {
      "cell_type": "markdown",
      "source": [
        "### Так как в размеченном датасете наблюлается сильный дисбаланс классов, то для корректной работы сети применим стратифицированное разделение на тренировочный и валидационный датасет. "
      ],
      "metadata": {
        "id": "lXLfaayGORlj"
      }
    },
    {
      "cell_type": "code",
      "source": [
        "fractions = np.array([0.7, 0.3])\n",
        "# shuffle your input\n",
        "df = df.sample(frac=1) \n",
        "# split into 2 parts\n",
        "df_train, df_val = np.array_split(\n",
        "    df, (fractions[:-1].cumsum() * len(df)).astype(int))"
      ],
      "metadata": {
        "id": "qSNGQh54bLHk"
      },
      "execution_count": 11,
      "outputs": []
    },
    {
      "cell_type": "code",
      "source": [
        "df_train.head()"
      ],
      "metadata": {
        "colab": {
          "base_uri": "https://localhost:8080/",
          "height": 206
        },
        "id": "GFibMFghbYxh",
        "outputId": "eb48db6d-2d3c-4a75-df7e-e392ae94aea0"
      },
      "execution_count": 12,
      "outputs": [
        {
          "output_type": "execute_result",
          "data": {
            "text/plain": [
              "          id  label                                              tweet\n",
              "29918  29919      0  i'm not entirely sure if i'm   or sad or both ...\n",
              "31094  31095      0   â #nist plans  cybersecurity framework upda...\n",
              "17183  17184      0  thinking out loud!!!  #lowkey    #realhappy #j...\n",
              "4998    4999      0  @user #bestsellers #top10 #sales    \"never go ...\n",
              "28642  28643      0  counting down the days until i can come home a..."
            ],
            "text/html": [
              "\n",
              "  <div id=\"df-33a61e1d-f54b-44ab-a7e4-9ff090e4536a\">\n",
              "    <div class=\"colab-df-container\">\n",
              "      <div>\n",
              "<style scoped>\n",
              "    .dataframe tbody tr th:only-of-type {\n",
              "        vertical-align: middle;\n",
              "    }\n",
              "\n",
              "    .dataframe tbody tr th {\n",
              "        vertical-align: top;\n",
              "    }\n",
              "\n",
              "    .dataframe thead th {\n",
              "        text-align: right;\n",
              "    }\n",
              "</style>\n",
              "<table border=\"1\" class=\"dataframe\">\n",
              "  <thead>\n",
              "    <tr style=\"text-align: right;\">\n",
              "      <th></th>\n",
              "      <th>id</th>\n",
              "      <th>label</th>\n",
              "      <th>tweet</th>\n",
              "    </tr>\n",
              "  </thead>\n",
              "  <tbody>\n",
              "    <tr>\n",
              "      <th>29918</th>\n",
              "      <td>29919</td>\n",
              "      <td>0</td>\n",
              "      <td>i'm not entirely sure if i'm   or sad or both ...</td>\n",
              "    </tr>\n",
              "    <tr>\n",
              "      <th>31094</th>\n",
              "      <td>31095</td>\n",
              "      <td>0</td>\n",
              "      <td>â #nist plans  cybersecurity framework upda...</td>\n",
              "    </tr>\n",
              "    <tr>\n",
              "      <th>17183</th>\n",
              "      <td>17184</td>\n",
              "      <td>0</td>\n",
              "      <td>thinking out loud!!!  #lowkey    #realhappy #j...</td>\n",
              "    </tr>\n",
              "    <tr>\n",
              "      <th>4998</th>\n",
              "      <td>4999</td>\n",
              "      <td>0</td>\n",
              "      <td>@user #bestsellers #top10 #sales    \"never go ...</td>\n",
              "    </tr>\n",
              "    <tr>\n",
              "      <th>28642</th>\n",
              "      <td>28643</td>\n",
              "      <td>0</td>\n",
              "      <td>counting down the days until i can come home a...</td>\n",
              "    </tr>\n",
              "  </tbody>\n",
              "</table>\n",
              "</div>\n",
              "      <button class=\"colab-df-convert\" onclick=\"convertToInteractive('df-33a61e1d-f54b-44ab-a7e4-9ff090e4536a')\"\n",
              "              title=\"Convert this dataframe to an interactive table.\"\n",
              "              style=\"display:none;\">\n",
              "        \n",
              "  <svg xmlns=\"http://www.w3.org/2000/svg\" height=\"24px\"viewBox=\"0 0 24 24\"\n",
              "       width=\"24px\">\n",
              "    <path d=\"M0 0h24v24H0V0z\" fill=\"none\"/>\n",
              "    <path d=\"M18.56 5.44l.94 2.06.94-2.06 2.06-.94-2.06-.94-.94-2.06-.94 2.06-2.06.94zm-11 1L8.5 8.5l.94-2.06 2.06-.94-2.06-.94L8.5 2.5l-.94 2.06-2.06.94zm10 10l.94 2.06.94-2.06 2.06-.94-2.06-.94-.94-2.06-.94 2.06-2.06.94z\"/><path d=\"M17.41 7.96l-1.37-1.37c-.4-.4-.92-.59-1.43-.59-.52 0-1.04.2-1.43.59L10.3 9.45l-7.72 7.72c-.78.78-.78 2.05 0 2.83L4 21.41c.39.39.9.59 1.41.59.51 0 1.02-.2 1.41-.59l7.78-7.78 2.81-2.81c.8-.78.8-2.07 0-2.86zM5.41 20L4 18.59l7.72-7.72 1.47 1.35L5.41 20z\"/>\n",
              "  </svg>\n",
              "      </button>\n",
              "      \n",
              "  <style>\n",
              "    .colab-df-container {\n",
              "      display:flex;\n",
              "      flex-wrap:wrap;\n",
              "      gap: 12px;\n",
              "    }\n",
              "\n",
              "    .colab-df-convert {\n",
              "      background-color: #E8F0FE;\n",
              "      border: none;\n",
              "      border-radius: 50%;\n",
              "      cursor: pointer;\n",
              "      display: none;\n",
              "      fill: #1967D2;\n",
              "      height: 32px;\n",
              "      padding: 0 0 0 0;\n",
              "      width: 32px;\n",
              "    }\n",
              "\n",
              "    .colab-df-convert:hover {\n",
              "      background-color: #E2EBFA;\n",
              "      box-shadow: 0px 1px 2px rgba(60, 64, 67, 0.3), 0px 1px 3px 1px rgba(60, 64, 67, 0.15);\n",
              "      fill: #174EA6;\n",
              "    }\n",
              "\n",
              "    [theme=dark] .colab-df-convert {\n",
              "      background-color: #3B4455;\n",
              "      fill: #D2E3FC;\n",
              "    }\n",
              "\n",
              "    [theme=dark] .colab-df-convert:hover {\n",
              "      background-color: #434B5C;\n",
              "      box-shadow: 0px 1px 3px 1px rgba(0, 0, 0, 0.15);\n",
              "      filter: drop-shadow(0px 1px 2px rgba(0, 0, 0, 0.3));\n",
              "      fill: #FFFFFF;\n",
              "    }\n",
              "  </style>\n",
              "\n",
              "      <script>\n",
              "        const buttonEl =\n",
              "          document.querySelector('#df-33a61e1d-f54b-44ab-a7e4-9ff090e4536a button.colab-df-convert');\n",
              "        buttonEl.style.display =\n",
              "          google.colab.kernel.accessAllowed ? 'block' : 'none';\n",
              "\n",
              "        async function convertToInteractive(key) {\n",
              "          const element = document.querySelector('#df-33a61e1d-f54b-44ab-a7e4-9ff090e4536a');\n",
              "          const dataTable =\n",
              "            await google.colab.kernel.invokeFunction('convertToInteractive',\n",
              "                                                     [key], {});\n",
              "          if (!dataTable) return;\n",
              "\n",
              "          const docLinkHtml = 'Like what you see? Visit the ' +\n",
              "            '<a target=\"_blank\" href=https://colab.research.google.com/notebooks/data_table.ipynb>data table notebook</a>'\n",
              "            + ' to learn more about interactive tables.';\n",
              "          element.innerHTML = '';\n",
              "          dataTable['output_type'] = 'display_data';\n",
              "          await google.colab.output.renderOutput(dataTable, element);\n",
              "          const docLink = document.createElement('div');\n",
              "          docLink.innerHTML = docLinkHtml;\n",
              "          element.appendChild(docLink);\n",
              "        }\n",
              "      </script>\n",
              "    </div>\n",
              "  </div>\n",
              "  "
            ]
          },
          "metadata": {},
          "execution_count": 12
        }
      ]
    },
    {
      "cell_type": "code",
      "source": [
        "df_train['label'].value_counts()"
      ],
      "metadata": {
        "colab": {
          "base_uri": "https://localhost:8080/"
        },
        "id": "Co-Zh6X6b4dL",
        "outputId": "5e0b96fa-a531-466b-d8ee-df718b09f354"
      },
      "execution_count": 13,
      "outputs": [
        {
          "output_type": "execute_result",
          "data": {
            "text/plain": [
              "0    20833\n",
              "1     1540\n",
              "Name: label, dtype: int64"
            ]
          },
          "metadata": {},
          "execution_count": 13
        }
      ]
    },
    {
      "cell_type": "code",
      "source": [
        "df_val['label'].value_counts()"
      ],
      "metadata": {
        "colab": {
          "base_uri": "https://localhost:8080/"
        },
        "id": "8xvCrUWGb_Tk",
        "outputId": "91b362e1-dfef-4521-e952-bd579adcc5ad"
      },
      "execution_count": 14,
      "outputs": [
        {
          "output_type": "execute_result",
          "data": {
            "text/plain": [
              "0    8887\n",
              "1     702\n",
              "Name: label, dtype: int64"
            ]
          },
          "metadata": {},
          "execution_count": 14
        }
      ]
    },
    {
      "cell_type": "markdown",
      "source": [
        "### Проведем предварительную обработку датасета"
      ],
      "metadata": {
        "id": "B8f28--nQhH0"
      }
    },
    {
      "cell_type": "code",
      "source": [
        "!pip install stop-words pymorphy2"
      ],
      "metadata": {
        "colab": {
          "base_uri": "https://localhost:8080/"
        },
        "id": "pi5Gcw5TLoUo",
        "outputId": "30886e6e-540c-4aac-8da7-4df70984356b"
      },
      "execution_count": 15,
      "outputs": [
        {
          "output_type": "stream",
          "name": "stdout",
          "text": [
            "Looking in indexes: https://pypi.org/simple, https://us-python.pkg.dev/colab-wheels/public/simple/\n",
            "Requirement already satisfied: stop-words in /usr/local/lib/python3.7/dist-packages (2018.7.23)\n",
            "Requirement already satisfied: pymorphy2 in /usr/local/lib/python3.7/dist-packages (0.9.1)\n",
            "Requirement already satisfied: dawg-python>=0.7.1 in /usr/local/lib/python3.7/dist-packages (from pymorphy2) (0.7.2)\n",
            "Requirement already satisfied: docopt>=0.6 in /usr/local/lib/python3.7/dist-packages (from pymorphy2) (0.6.2)\n",
            "Requirement already satisfied: pymorphy2-dicts-ru<3.0,>=2.4 in /usr/local/lib/python3.7/dist-packages (from pymorphy2) (2.4.417127.4579844)\n"
          ]
        }
      ]
    },
    {
      "cell_type": "code",
      "source": [
        "from string import punctuation\n",
        "from stop_words import get_stop_words\n",
        "from pymorphy2 import MorphAnalyzer\n",
        "import re"
      ],
      "metadata": {
        "id": "0z6Y89Oudq1S"
      },
      "execution_count": 16,
      "outputs": []
    },
    {
      "cell_type": "markdown",
      "source": [
        "### Так как твиты на английском языке - загрузим английскую версию stop_words"
      ],
      "metadata": {
        "id": "qJeB5XPsQs4q"
      }
    },
    {
      "cell_type": "code",
      "execution_count": 17,
      "metadata": {
        "id": "MrICmUgeRHlO"
      },
      "outputs": [],
      "source": [
        "sw = set(get_stop_words('en'))\n",
        "# sw"
      ]
    },
    {
      "cell_type": "code",
      "source": [
        "puncts = set(punctuation)\n",
        "# puncts"
      ],
      "metadata": {
        "id": "Kdmt_DVPjN4j"
      },
      "execution_count": 18,
      "outputs": []
    },
    {
      "cell_type": "code",
      "source": [
        "morpher = MorphAnalyzer()\n",
        "# morpher.parse('extracted')[0].normal_form"
      ],
      "metadata": {
        "id": "Q2nWhCfzkTCH"
      },
      "execution_count": 19,
      "outputs": []
    },
    {
      "cell_type": "code",
      "source": [
        "morpher = MorphAnalyzer()\n",
        "\n",
        "def preprocess_text(txt):\n",
        "    txt = str(txt)\n",
        "    txt = \"\".join(c for c in txt if c not in puncts)\n",
        "    txt = txt.lower()\n",
        "    # txt = re.sub(\"не\\s\", \"не\", txt)\n",
        "    txt = re.sub('@user', '', txt)\n",
        "    txt = [morpher.parse(word)[0].normal_form for word in txt.split() if word not in sw]\n",
        "    return \" \".join(txt)"
      ],
      "metadata": {
        "id": "A5aTsDZxjPym"
      },
      "execution_count": 20,
      "outputs": []
    },
    {
      "cell_type": "markdown",
      "source": [
        "### Проверим как работает функция очистки текста"
      ],
      "metadata": {
        "id": "AydHfO-5Reec"
      }
    },
    {
      "cell_type": "code",
      "source": [
        "df_train['tweet'].iloc[:1].values"
      ],
      "metadata": {
        "colab": {
          "base_uri": "https://localhost:8080/"
        },
        "id": "6J4Ybdk-jC-n",
        "outputId": "2eab5894-736a-4067-fb64-bee9fa548766"
      },
      "execution_count": 21,
      "outputs": [
        {
          "output_type": "execute_result",
          "data": {
            "text/plain": [
              "array([\"i'm not entirely sure if i'm   or sad or both or neither or #hungry or tired or bored. i just don't even know.. \"],\n",
              "      dtype=object)"
            ]
          },
          "metadata": {},
          "execution_count": 21
        }
      ]
    },
    {
      "cell_type": "code",
      "source": [
        "df_train['tweet'].iloc[:1].apply(preprocess_text).values"
      ],
      "metadata": {
        "colab": {
          "base_uri": "https://localhost:8080/"
        },
        "id": "UFDyfZLpi8BR",
        "outputId": "b38f0075-66fa-4be0-d093-44d2a376c6ab"
      },
      "execution_count": 22,
      "outputs": [
        {
          "output_type": "execute_result",
          "data": {
            "text/plain": [
              "array(['im entirely sure im sad neither hungry tired bored just dont even know'],\n",
              "      dtype=object)"
            ]
          },
          "metadata": {},
          "execution_count": 22
        }
      ]
    },
    {
      "cell_type": "code",
      "source": [
        "from tqdm import tqdm \n",
        "tqdm.pandas()\n",
        "\n",
        "df_train['tweet'] = df_train['tweet'].progress_apply(preprocess_text)\n",
        "df_val['tweet'] = df_val['tweet'].progress_apply(preprocess_text)"
      ],
      "metadata": {
        "colab": {
          "base_uri": "https://localhost:8080/"
        },
        "id": "iWrPbjNzi7pB",
        "outputId": "ecb73333-5fca-4dc2-9227-5d7f8d9655c9"
      },
      "execution_count": 23,
      "outputs": [
        {
          "output_type": "stream",
          "name": "stderr",
          "text": [
            "100%|██████████| 22373/22373 [00:05<00:00, 4157.36it/s]\n",
            "100%|██████████| 9589/9589 [00:02<00:00, 4618.06it/s]\n"
          ]
        }
      ]
    },
    {
      "cell_type": "code",
      "execution_count": 24,
      "metadata": {
        "id": "C4o9QgmWI3Pw"
      },
      "outputs": [],
      "source": [
        "train_corpus = \" \".join(df_train[\"tweet\"])\n",
        "train_corpus = train_corpus.lower()"
      ]
    },
    {
      "cell_type": "code",
      "execution_count": 25,
      "metadata": {
        "colab": {
          "base_uri": "https://localhost:8080/"
        },
        "id": "Hed2ySbwJH6B",
        "outputId": "d889c1ce-4e6a-44bd-8652-e3be2a5bdcfb"
      },
      "outputs": [
        {
          "output_type": "stream",
          "name": "stderr",
          "text": [
            "[nltk_data] Downloading package punkt to /root/nltk_data...\n",
            "[nltk_data]   Package punkt is already up-to-date!\n"
          ]
        },
        {
          "output_type": "execute_result",
          "data": {
            "text/plain": [
              "['im', 'entirely', 'sure', 'im', 'sad']"
            ]
          },
          "metadata": {},
          "execution_count": 25
        }
      ],
      "source": [
        "import nltk\n",
        "from nltk.tokenize import word_tokenize\n",
        "nltk.download(\"punkt\")\n",
        "\n",
        "tokens = word_tokenize(train_corpus)\n",
        "tokens[:5]"
      ]
    },
    {
      "cell_type": "markdown",
      "metadata": {
        "id": "yJ8T0fwYJYJX"
      },
      "source": [
        "Отфильтруем данные\n",
        "\n",
        "и соберём в корпус N наиболее частых токенов"
      ]
    },
    {
      "cell_type": "code",
      "execution_count": 26,
      "metadata": {
        "id": "EXOLVK1tJLT8"
      },
      "outputs": [],
      "source": [
        "tokens_filtered = [word for word in tokens if word.isalnum()]"
      ]
    },
    {
      "cell_type": "markdown",
      "source": [
        "### Зададим необходимые параметры:"
      ],
      "metadata": {
        "id": "h9_pwRfeWfdk"
      }
    },
    {
      "cell_type": "code",
      "execution_count": 27,
      "metadata": {
        "id": "2H5tFUEMCE7d"
      },
      "outputs": [],
      "source": [
        "max_words = 4000\n",
        "max_len = 20\n",
        "num_classes = 1\n",
        "\n",
        "# Training\n",
        "epochs = 5\n",
        "batch_size = 512\n",
        "print_batch_n = 100"
      ]
    },
    {
      "cell_type": "code",
      "execution_count": 28,
      "metadata": {
        "id": "8qCQH5nIJoiB",
        "colab": {
          "base_uri": "https://localhost:8080/"
        },
        "outputId": "4bd6a1c1-3e19-43e7-b069-d9b62e22d417"
      },
      "outputs": [
        {
          "output_type": "execute_result",
          "data": {
            "text/plain": [
              "3999"
            ]
          },
          "metadata": {},
          "execution_count": 28
        }
      ],
      "source": [
        "from nltk.probability import FreqDist\n",
        "\n",
        "dist = FreqDist(tokens_filtered)\n",
        "tokens_filtered_top = [pair[0] for pair in dist.most_common(max_words-1)]  # вычитание 1 для padding\n",
        "len(tokens_filtered_top)"
      ]
    },
    {
      "cell_type": "code",
      "execution_count": 29,
      "metadata": {
        "colab": {
          "base_uri": "https://localhost:8080/"
        },
        "id": "bRQ-6wwjJrGo",
        "outputId": "07ba509b-6498-457d-efd4-a08791a2d274"
      },
      "outputs": [
        {
          "output_type": "execute_result",
          "data": {
            "text/plain": [
              "['user', 'love', 'day', 'happy', 'amp', 'just', 'will', 'im', 'u', 'life']"
            ]
          },
          "metadata": {},
          "execution_count": 29
        }
      ],
      "source": [
        "tokens_filtered_top[:10]"
      ]
    },
    {
      "cell_type": "code",
      "execution_count": 30,
      "metadata": {
        "id": "Tdk777qGJtz4",
        "colab": {
          "base_uri": "https://localhost:8080/"
        },
        "outputId": "138d619a-0b99-4285-8c58-680c60f0095a"
      },
      "outputs": [
        {
          "output_type": "execute_result",
          "data": {
            "text/plain": [
              "{'user': 1,\n",
              " 'love': 2,\n",
              " 'day': 3,\n",
              " 'happy': 4,\n",
              " 'amp': 5,\n",
              " 'just': 6,\n",
              " 'will': 7,\n",
              " 'im': 8,\n",
              " 'u': 9,\n",
              " 'life': 10,\n",
              " 'time': 11,\n",
              " 'like': 12,\n",
              " 'now': 13,\n",
              " 'new': 14,\n",
              " 'today': 15,\n",
              " 'positive': 16,\n",
              " 'thankful': 17,\n",
              " 'get': 18,\n",
              " 'bihday': 19,\n",
              " 'good': 20,\n",
              " 'people': 21,\n",
              " 'cant': 22,\n",
              " 'one': 23,\n",
              " 'can': 24,\n",
              " 'dont': 25,\n",
              " 'see': 26,\n",
              " 'fathers': 27,\n",
              " 'go': 28,\n",
              " 'smile': 29,\n",
              " 'want': 30,\n",
              " 'take': 31,\n",
              " 'weekend': 32,\n",
              " 'healthy': 33,\n",
              " 'got': 34,\n",
              " 'work': 35,\n",
              " 'summer': 36,\n",
              " 'fun': 37,\n",
              " 'friday': 38,\n",
              " 'make': 39,\n",
              " 'us': 40,\n",
              " 'need': 41,\n",
              " 'family': 42,\n",
              " 'friends': 43,\n",
              " 'great': 44,\n",
              " '2': 45,\n",
              " 'best': 46,\n",
              " 'beautiful': 47,\n",
              " 'way': 48,\n",
              " 'bull': 49,\n",
              " 'days': 50,\n",
              " 'going': 51,\n",
              " 'really': 52,\n",
              " 'world': 53,\n",
              " 'wait': 54,\n",
              " 'music': 55,\n",
              " 'know': 56,\n",
              " 'morning': 57,\n",
              " 'first': 58,\n",
              " 'never': 59,\n",
              " 'back': 60,\n",
              " 'orlando': 61,\n",
              " 'sad': 62,\n",
              " 'fathersday': 63,\n",
              " 'week': 64,\n",
              " 'cute': 65,\n",
              " 'tomorrow': 66,\n",
              " 'home': 67,\n",
              " 'happiness': 68,\n",
              " 'think': 69,\n",
              " 'blog': 70,\n",
              " 'trump': 71,\n",
              " 'well': 72,\n",
              " 'model': 73,\n",
              " 'affirmation': 74,\n",
              " 'sunday': 75,\n",
              " 'night': 76,\n",
              " 'right': 77,\n",
              " 'much': 78,\n",
              " 'girl': 79,\n",
              " 'always': 80,\n",
              " 'finally': 81,\n",
              " 'youre': 82,\n",
              " 'even': 83,\n",
              " 'feel': 84,\n",
              " 'last': 85,\n",
              " 'next': 86,\n",
              " 'live': 87,\n",
              " 'come': 88,\n",
              " 'amazing': 89,\n",
              " 'still': 90,\n",
              " 'year': 91,\n",
              " 'iam': 92,\n",
              " 'thank': 93,\n",
              " 'things': 94,\n",
              " 'find': 95,\n",
              " 'thanks': 96,\n",
              " 'ready': 97,\n",
              " 'look': 98,\n",
              " 'selfie': 99,\n",
              " 'many': 100,\n",
              " 'gold': 101,\n",
              " 'na': 102,\n",
              " 'altwaystoheal': 103,\n",
              " 'little': 104,\n",
              " 'man': 105,\n",
              " 'silver': 106,\n",
              " 'follow': 107,\n",
              " 'dad': 108,\n",
              " 'tonight': 109,\n",
              " 'via': 110,\n",
              " 'makes': 111,\n",
              " 'looking': 112,\n",
              " '4': 113,\n",
              " 'hope': 114,\n",
              " 'old': 115,\n",
              " 'pay': 116,\n",
              " 'watch': 117,\n",
              " '1': 118,\n",
              " 'show': 119,\n",
              " 'free': 120,\n",
              " 'news': 121,\n",
              " 'ever': 122,\n",
              " 'girls': 123,\n",
              " 'black': 124,\n",
              " 'forex': 125,\n",
              " 'feeling': 126,\n",
              " 'blessed': 127,\n",
              " 'city': 128,\n",
              " 'everyone': 129,\n",
              " 'climb': 130,\n",
              " 'god': 131,\n",
              " 'another': 132,\n",
              " 'stop': 133,\n",
              " 'game': 134,\n",
              " 'getting': 135,\n",
              " 'enjoy': 136,\n",
              " 'peace': 137,\n",
              " '3': 138,\n",
              " 'every': 139,\n",
              " 'bear': 140,\n",
              " 'made': 141,\n",
              " 'say': 142,\n",
              " '2016': 143,\n",
              " 'food': 144,\n",
              " 'ive': 145,\n",
              " 'sta': 146,\n",
              " 'hate': 147,\n",
              " 'whatever': 148,\n",
              " 'someone': 149,\n",
              " 'saturday': 150,\n",
              " 'funny': 151,\n",
              " 'friend': 152,\n",
              " 'help': 153,\n",
              " 'sun': 154,\n",
              " 'might': 155,\n",
              " 'thats': 156,\n",
              " 'baby': 157,\n",
              " 'may': 158,\n",
              " 'angry': 159,\n",
              " 'dog': 160,\n",
              " 'excited': 161,\n",
              " 'coming': 162,\n",
              " 'polar': 163,\n",
              " 'years': 164,\n",
              " 'nice': 165,\n",
              " 'long': 166,\n",
              " 'believe': 167,\n",
              " 'found': 168,\n",
              " 'keep': 169,\n",
              " 'instagood': 170,\n",
              " 'healing': 171,\n",
              " 'father': 172,\n",
              " 'lol': 173,\n",
              " 'please': 174,\n",
              " 'school': 175,\n",
              " 'white': 176,\n",
              " 'video': 177,\n",
              " 'guys': 178,\n",
              " 'awesome': 179,\n",
              " 'kids': 180,\n",
              " 'beach': 181,\n",
              " 'done': 182,\n",
              " 'proud': 183,\n",
              " 'cool': 184,\n",
              " 'nothing': 185,\n",
              " 'grateful': 186,\n",
              " 'wedding': 187,\n",
              " 'big': 188,\n",
              " 'soon': 189,\n",
              " 'n': 190,\n",
              " 'yes': 191,\n",
              " 'holiday': 192,\n",
              " 'women': 193,\n",
              " 'around': 194,\n",
              " 'hea': 195,\n",
              " 'thing': 196,\n",
              " 'change': 197,\n",
              " 'let': 198,\n",
              " 'better': 199,\n",
              " 'bad': 200,\n",
              " 'quote': 201,\n",
              " 'without': 202,\n",
              " 'direct': 203,\n",
              " 'didnt': 204,\n",
              " 'watching': 205,\n",
              " 'dominate': 206,\n",
              " 'two': 207,\n",
              " 'motivation': 208,\n",
              " 'lost': 209,\n",
              " 'real': 210,\n",
              " 'lovely': 211,\n",
              " 'something': 212,\n",
              " 'waiting': 213,\n",
              " 'true': 214,\n",
              " 'rip': 215,\n",
              " 'person': 216,\n",
              " 'forward': 217,\n",
              " 'end': 218,\n",
              " 'oh': 219,\n",
              " 'america': 220,\n",
              " 'travel': 221,\n",
              " 'libtard': 222,\n",
              " 'away': 223,\n",
              " 'place': 224,\n",
              " 'attack': 225,\n",
              " 'strong': 226,\n",
              " 'give': 227,\n",
              " 'monday': 228,\n",
              " 'hot': 229,\n",
              " 'check': 230,\n",
              " 'left': 231,\n",
              " 'racing': 232,\n",
              " 'yeah': 233,\n",
              " 'play': 234,\n",
              " 'playing': 235,\n",
              " 'hair': 236,\n",
              " '5': 237,\n",
              " 'team': 238,\n",
              " 'photooftheday': 239,\n",
              " 'miss': 240,\n",
              " 'fashion': 241,\n",
              " 'face': 242,\n",
              " 'gon': 243,\n",
              " 'dads': 244,\n",
              " 'weeks': 245,\n",
              " 'everything': 246,\n",
              " 'doesnt': 247,\n",
              " 'ill': 248,\n",
              " 'boy': 249,\n",
              " 'joy': 250,\n",
              " 'bing': 251,\n",
              " 'followme': 252,\n",
              " 'wish': 253,\n",
              " 'young': 254,\n",
              " 'making': 255,\n",
              " 'bong': 256,\n",
              " 'wow': 257,\n",
              " 'yet': 258,\n",
              " 'hard': 259,\n",
              " 'health': 260,\n",
              " 'd': 261,\n",
              " 'inspiration': 262,\n",
              " 'london': 263,\n",
              " 'book': 264,\n",
              " 'gorilla': 265,\n",
              " 'sexy': 266,\n",
              " 'twitter': 267,\n",
              " 'ur': 268,\n",
              " 'sex': 269,\n",
              " 'mindset': 270,\n",
              " 'racist': 271,\n",
              " 'tbt': 272,\n",
              " 'house': 273,\n",
              " 'job': 274,\n",
              " 'try': 275,\n",
              " 'money': 276,\n",
              " 'politics': 277,\n",
              " 'said': 278,\n",
              " 'living': 279,\n",
              " 'moment': 280,\n",
              " 'stay': 281,\n",
              " 'euro2016': 282,\n",
              " 'pa': 283,\n",
              " 'poetry': 284,\n",
              " 'quotes': 285,\n",
              " 'looks': 286,\n",
              " 'tear': 287,\n",
              " 'sleep': 288,\n",
              " 'full': 289,\n",
              " 'leave': 290,\n",
              " 'omg': 291,\n",
              " 'already': 292,\n",
              " 'depression': 293,\n",
              " 'buffalo': 294,\n",
              " 'woman': 295,\n",
              " 'wont': 296,\n",
              " 'tweets': 297,\n",
              " 'june': 298,\n",
              " 'success': 299,\n",
              " 'environment': 300,\n",
              " 'pretty': 301,\n",
              " 'lot': 302,\n",
              " 'read': 303,\n",
              " 'photo': 304,\n",
              " 'porn': 305,\n",
              " 's': 306,\n",
              " 'shooting': 307,\n",
              " 'thought': 308,\n",
              " 'win': 309,\n",
              " 'body': 310,\n",
              " 'gay': 311,\n",
              " 'w': 312,\n",
              " 'enough': 313,\n",
              " 'open': 314,\n",
              " 'since': 315,\n",
              " 'working': 316,\n",
              " 'simulator': 317,\n",
              " 'adapt': 318,\n",
              " 'listen': 319,\n",
              " 'perfect': 320,\n",
              " 'song': 321,\n",
              " 'dance': 322,\n",
              " 'obama': 323,\n",
              " 'country': 324,\n",
              " 'conference': 325,\n",
              " 'loved': 326,\n",
              " 'words': 327,\n",
              " 'use': 328,\n",
              " 'also': 329,\n",
              " 'lets': 330,\n",
              " 'says': 331,\n",
              " 'call': 332,\n",
              " 'couple': 333,\n",
              " 'children': 334,\n",
              " 'shop': 335,\n",
              " '10': 336,\n",
              " 'run': 337,\n",
              " 'fans': 338,\n",
              " 'truth': 339,\n",
              " 'cold': 340,\n",
              " 'guy': 341,\n",
              " 'fitness': 342,\n",
              " 'r': 343,\n",
              " 'nude': 344,\n",
              " 'hours': 345,\n",
              " 'hear': 346,\n",
              " 'isnt': 347,\n",
              " 'shit': 348,\n",
              " 'times': 349,\n",
              " 'yay': 350,\n",
              " 'put': 351,\n",
              " 'rest': 352,\n",
              " 'thursday': 353,\n",
              " 'fuck': 354,\n",
              " 'mom': 355,\n",
              " 'seeing': 356,\n",
              " 'season': 357,\n",
              " 'movie': 358,\n",
              " 'wonderful': 359,\n",
              " 'beauty': 360,\n",
              " 'head': 361,\n",
              " 'crazy': 362,\n",
              " 'together': 363,\n",
              " 'dream': 364,\n",
              " 'whats': 365,\n",
              " 'hey': 366,\n",
              " 'liberal': 367,\n",
              " 'month': 368,\n",
              " 'coffee': 369,\n",
              " 'x': 370,\n",
              " 'mind': 371,\n",
              " 'meet': 372,\n",
              " 'media': 373,\n",
              " 'lt3': 374,\n",
              " 'simulation': 375,\n",
              " 'super': 376,\n",
              " 'others': 377,\n",
              " 'bed': 378,\n",
              " 'share': 379,\n",
              " 'needs': 380,\n",
              " 'men': 381,\n",
              " 'story': 382,\n",
              " 'flowers': 383,\n",
              " 'alone': 384,\n",
              " 'almost': 385,\n",
              " 'tweet': 386,\n",
              " 'loving': 387,\n",
              " 'hour': 388,\n",
              " '7': 389,\n",
              " 'dead': 390,\n",
              " 'mood': 391,\n",
              " 'wednesday': 392,\n",
              " 'cat': 393,\n",
              " 'buy': 394,\n",
              " 'gone': 395,\n",
              " 'came': 396,\n",
              " 'hes': 397,\n",
              " 'retweet': 398,\n",
              " 'tired': 399,\n",
              " 'far': 400,\n",
              " 'sunshine': 401,\n",
              " 'high': 402,\n",
              " 'forever': 403,\n",
              " 'must': 404,\n",
              " 'ppl': 405,\n",
              " 'comes': 406,\n",
              " 'business': 407,\n",
              " 'trying': 408,\n",
              " 'sweet': 409,\n",
              " 'till': 410,\n",
              " 'anything': 411,\n",
              " 'post': 412,\n",
              " 'tell': 413,\n",
              " 'gym': 414,\n",
              " 'kind': 415,\n",
              " 'allahsoil': 416,\n",
              " 'tickets': 417,\n",
              " 'gift': 418,\n",
              " 'months': 419,\n",
              " 'remember': 420,\n",
              " 'social': 421,\n",
              " 'tuesday': 422,\n",
              " 'photography': 423,\n",
              " 'care': 424,\n",
              " 'actually': 425,\n",
              " 'tgif': 426,\n",
              " 'gun': 427,\n",
              " 'saw': 428,\n",
              " 'single': 429,\n",
              " 'relax': 430,\n",
              " 'hello': 431,\n",
              " 'delete': 432,\n",
              " 'celebrate': 433,\n",
              " 'sick': 434,\n",
              " 'smiles': 435,\n",
              " 'fact': 436,\n",
              " 'race': 437,\n",
              " 'trip': 438,\n",
              " 'latest': 439,\n",
              " 'goes': 440,\n",
              " 'favorite': 441,\n",
              " 'prayfororlando': 442,\n",
              " 'join': 443,\n",
              " 'empty': 444,\n",
              " 'toptags': 445,\n",
              " 'places': 446,\n",
              " 'daddy': 447,\n",
              " 'wrong': 448,\n",
              " 'lgbt': 449,\n",
              " 'useful': 450,\n",
              " 'lifestyle': 451,\n",
              " 'went': 452,\n",
              " 'talk': 453,\n",
              " 'thoughts': 454,\n",
              " 'sorry': 455,\n",
              " 'car': 456,\n",
              " 'anxiety': 457,\n",
              " 'uk': 458,\n",
              " 'word': 459,\n",
              " 'lives': 460,\n",
              " 'yall': 461,\n",
              " 'victims': 462,\n",
              " 'deletetweets': 463,\n",
              " 'visit': 464,\n",
              " 'seen': 465,\n",
              " 'arrived': 466,\n",
              " 'followers': 467,\n",
              " 'vacation': 468,\n",
              " '1st': 469,\n",
              " 'boys': 470,\n",
              " 'aww': 471,\n",
              " 'hu': 472,\n",
              " 'evening': 473,\n",
              " 'complete': 474,\n",
              " 'anymore': 475,\n",
              " 'happened': 476,\n",
              " 'son': 477,\n",
              " '6': 478,\n",
              " 'sure': 479,\n",
              " 'usa': 480,\n",
              " 'matter': 481,\n",
              " 'anyone': 482,\n",
              " 'yesterday': 483,\n",
              " 'history': 484,\n",
              " 'impoant': 485,\n",
              " 'gets': 486,\n",
              " 'saying': 487,\n",
              " 'birds': 488,\n",
              " 'blue': 489,\n",
              " 'sjw': 490,\n",
              " 'ok': 491,\n",
              " 'reason': 492,\n",
              " 'cause': 493,\n",
              " 'death': 494,\n",
              " 'less': 495,\n",
              " 'hardcore': 496,\n",
              " 'side': 497,\n",
              " 'sunny': 498,\n",
              " 'goodmorning': 499,\n",
              " 'else': 500,\n",
              " 'daily': 501,\n",
              " 'pic': 502,\n",
              " 'reading': 503,\n",
              " 'green': 504,\n",
              " 'theres': 505,\n",
              " 'target': 506,\n",
              " 'b': 507,\n",
              " 'whole': 508,\n",
              " 'football': 509,\n",
              " 'finished': 510,\n",
              " 'killed': 511,\n",
              " 'todays': 512,\n",
              " 'special': 513,\n",
              " 'booked': 514,\n",
              " 'power': 515,\n",
              " 'laugh': 516,\n",
              " 'set': 517,\n",
              " 'cry': 518,\n",
              " 'ago': 519,\n",
              " 'lunch': 520,\n",
              " 'shopping': 521,\n",
              " '2nd': 522,\n",
              " 'walk': 523,\n",
              " 'nature': 524,\n",
              " 'running': 525,\n",
              " 'red': 526,\n",
              " 'depressed': 527,\n",
              " 'talking': 528,\n",
              " 'ass': 529,\n",
              " 'choose': 530,\n",
              " 'snapchat': 531,\n",
              " 'nervous': 532,\n",
              " 'late': 533,\n",
              " 'style': 534,\n",
              " 'control': 535,\n",
              " 'mean': 536,\n",
              " 'future': 537,\n",
              " 'early': 538,\n",
              " 'child': 539,\n",
              " 'update': 540,\n",
              " '12': 541,\n",
              " 'sometimes': 542,\n",
              " '20': 543,\n",
              " 'used': 544,\n",
              " 'fucking': 545,\n",
              " 'damn': 546,\n",
              " 'wishing': 547,\n",
              " 'event': 548,\n",
              " 'suppo': 549,\n",
              " 'bring': 550,\n",
              " 'cantwait': 551,\n",
              " 'date': 552,\n",
              " 'point': 553,\n",
              " 'staing': 554,\n",
              " 'racism': 555,\n",
              " 'everyday': 556,\n",
              " 'pray': 557,\n",
              " 'close': 558,\n",
              " 'daughter': 559,\n",
              " 'parents': 560,\n",
              " 'understand': 561,\n",
              " 'education': 562,\n",
              " 'safe': 563,\n",
              " 'dinner': 564,\n",
              " 'smiling': 565,\n",
              " 'gt': 566,\n",
              " 'club': 567,\n",
              " 'picoftheday': 568,\n",
              " 'brexit': 569,\n",
              " 'order': 570,\n",
              " 'welcome': 571,\n",
              " 'maybe': 572,\n",
              " 'able': 573,\n",
              " 'xxx': 574,\n",
              " 'save': 575,\n",
              " 'learn': 576,\n",
              " 'leads': 577,\n",
              " 'break': 578,\n",
              " 'stas': 579,\n",
              " 'gbp': 580,\n",
              " 'park': 581,\n",
              " 'though': 582,\n",
              " 'reached': 583,\n",
              " 'wanted': 584,\n",
              " 'meeting': 585,\n",
              " 'youtube': 586,\n",
              " 'theyre': 587,\n",
              " 'truly': 588,\n",
              " 'affirmations': 589,\n",
              " 'later': 590,\n",
              " 'fan': 591,\n",
              " 'dogs': 592,\n",
              " 'kill': 593,\n",
              " 'hill': 594,\n",
              " '30': 595,\n",
              " 'photos': 596,\n",
              " 'despite': 597,\n",
              " 'act': 598,\n",
              " 'y': 599,\n",
              " 'disney': 600,\n",
              " 'rain': 601,\n",
              " 'oitnb': 602,\n",
              " 'families': 603,\n",
              " 'design': 604,\n",
              " 'guess': 605,\n",
              " 'vote': 606,\n",
              " 'simple': 607,\n",
              " 'police': 608,\n",
              " 'rock': 609,\n",
              " 'reach': 610,\n",
              " 'thankyou': 611,\n",
              " 'using': 612,\n",
              " 'sea': 613,\n",
              " 'boyfriend': 614,\n",
              " 'organizations': 615,\n",
              " 'broken': 616,\n",
              " 'vs': 617,\n",
              " 'send': 618,\n",
              " 'picture': 619,\n",
              " 'brother': 620,\n",
              " 'prayers': 621,\n",
              " 'freedom': 622,\n",
              " 'wishes': 623,\n",
              " 'thinking': 624,\n",
              " 'feels': 625,\n",
              " 'memories': 626,\n",
              " 'guns': 627,\n",
              " 'lover': 628,\n",
              " 'bless': 629,\n",
              " 'seems': 630,\n",
              " 'friendship': 631,\n",
              " 'afternoon': 632,\n",
              " 'homes': 633,\n",
              " 'view': 634,\n",
              " 'hell': 635,\n",
              " 'survive': 636,\n",
              " 'flag': 637,\n",
              " 'top': 638,\n",
              " 'wan': 639,\n",
              " 'garden': 640,\n",
              " 'least': 641,\n",
              " 'smh': 642,\n",
              " 'light': 643,\n",
              " '50': 644,\n",
              " 'conce': 645,\n",
              " 'leadership': 646,\n",
              " 'july': 647,\n",
              " 'comments': 648,\n",
              " 'president': 649,\n",
              " 'become': 650,\n",
              " 'final': 651,\n",
              " 'bit': 652,\n",
              " 'heres': 653,\n",
              " 'forget': 654,\n",
              " '100': 655,\n",
              " 'anniversary': 656,\n",
              " 'florida': 657,\n",
              " 'instagram': 658,\n",
              " 'mad': 659,\n",
              " 'india': 660,\n",
              " 'film': 661,\n",
              " 'heard': 662,\n",
              " 'cultureofdevelopment': 663,\n",
              " 'officially': 664,\n",
              " 'tragic': 665,\n",
              " 'worst': 666,\n",
              " 'crying': 667,\n",
              " 'wtf': 668,\n",
              " 'nasty': 669,\n",
              " 'wet': 670,\n",
              " 'makeup': 671,\n",
              " 'havent': 672,\n",
              " 'bought': 673,\n",
              " 'orlandoshooting': 674,\n",
              " 'workout': 675,\n",
              " 'feelings': 676,\n",
              " 'england': 677,\n",
              " 'soul': 678,\n",
              " 'shows': 679,\n",
              " 'lawofattraction': 680,\n",
              " 'gop': 681,\n",
              " 'easy': 682,\n",
              " 'glad': 683,\n",
              " 'lucky': 684,\n",
              " 'moments': 685,\n",
              " 'dear': 686,\n",
              " 'yo': 687,\n",
              " 'fresh': 688,\n",
              " 'national': 689,\n",
              " 'room': 690,\n",
              " 'blur': 691,\n",
              " 'gave': 692,\n",
              " 'ramadan': 693,\n",
              " 'shes': 694,\n",
              " 'goals': 695,\n",
              " 'tv': 696,\n",
              " 'content': 697,\n",
              " 'episode': 698,\n",
              " 'dreams': 699,\n",
              " 'dj': 700,\n",
              " 'giving': 701,\n",
              " 'animals': 702,\n",
              " 'pathetic': 703,\n",
              " 'task': 704,\n",
              " 'mountains': 705,\n",
              " 'app': 706,\n",
              " 'pussy': 707,\n",
              " 'group': 708,\n",
              " 'ride': 709,\n",
              " 'cake': 710,\n",
              " 'fridayfeeling': 711,\n",
              " 'vine': 712,\n",
              " 'stuff': 713,\n",
              " '9': 714,\n",
              " 'water': 715,\n",
              " 'happening': 716,\n",
              " 'eyes': 717,\n",
              " 'bc': 718,\n",
              " 'shy': 719,\n",
              " 'slut': 720,\n",
              " 'couldnt': 721,\n",
              " 'wonder': 722,\n",
              " 'pain': 723,\n",
              " 'rather': 724,\n",
              " 'horny': 725,\n",
              " 'instead': 726,\n",
              " 'babies': 727,\n",
              " 'fantastic': 728,\n",
              " 'takes': 729,\n",
              " 'half': 730,\n",
              " 'nyc': 731,\n",
              " '8': 732,\n",
              " 'wake': 733,\n",
              " 'wife': 734,\n",
              " 'missing': 735,\n",
              " 'american': 736,\n",
              " 'lighttherapy': 737,\n",
              " 'vicinity': 738,\n",
              " 'course': 739,\n",
              " 'ta': 740,\n",
              " 'naughty': 741,\n",
              " 'kinky': 742,\n",
              " 'means': 743,\n",
              " 'happen': 744,\n",
              " 'community': 745,\n",
              " 'leaving': 746,\n",
              " 'small': 747,\n",
              " 'ways': 748,\n",
              " 'service': 749,\n",
              " 'name': 750,\n",
              " 'suppoers': 751,\n",
              " 'mass': 752,\n",
              " 'bday': 753,\n",
              " 'called': 754,\n",
              " 'state': 755,\n",
              " 'won': 756,\n",
              " 'taking': 757,\n",
              " 'violence': 758,\n",
              " 'stupid': 759,\n",
              " 'americans': 760,\n",
              " 'college': 761,\n",
              " 'human': 762,\n",
              " 'class': 763,\n",
              " 'disappointed': 764,\n",
              " 'finding': 765,\n",
              " 'inspirational': 766,\n",
              " 'tech': 767,\n",
              " 'eat': 768,\n",
              " 'scared': 769,\n",
              " 'sister': 770,\n",
              " 'luck': 771,\n",
              " 'agree': 772,\n",
              " 'treat': 773,\n",
              " 'countdown': 774,\n",
              " 'wants': 775,\n",
              " 'lose': 776,\n",
              " 'udtapunjab': 777,\n",
              " 'official': 778,\n",
              " 'reality': 779,\n",
              " 'mother': 780,\n",
              " 'training': 781,\n",
              " 'teen': 782,\n",
              " 'yoga': 783,\n",
              " 'hit': 784,\n",
              " 'probably': 785,\n",
              " 'energy': 786,\n",
              " 'cats': 787,\n",
              " 'heabroken': 788,\n",
              " 'minutes': 789,\n",
              " 'videos': 790,\n",
              " 'ones': 791,\n",
              " 'vast': 792,\n",
              " 'past': 793,\n",
              " 'muslim': 794,\n",
              " 'chase': 795,\n",
              " 'source': 796,\n",
              " 'tears': 797,\n",
              " 'arent': 798,\n",
              " 'festival': 799,\n",
              " 'heal': 800,\n",
              " 'haha': 801,\n",
              " 'kid': 802,\n",
              " 'hillary': 803,\n",
              " 'local': 804,\n",
              " 'youve': 805,\n",
              " 'weve': 806,\n",
              " 'star': 807,\n",
              " 'rooster': 808,\n",
              " 'expanse': 809,\n",
              " 'beer': 810,\n",
              " 'sky': 811,\n",
              " 'tragedy': 812,\n",
              " 'france': 813,\n",
              " 'drink': 814,\n",
              " 'staed': 815,\n",
              " 'exciting': 816,\n",
              " '2017': 817,\n",
              " 'blonde': 818,\n",
              " 'woh': 819,\n",
              " 'pride': 820,\n",
              " 'lots': 821,\n",
              " 'problem': 822,\n",
              " 'choice': 823,\n",
              " 'hands': 824,\n",
              " 'whos': 825,\n",
              " 'color': 826,\n",
              " 'happier': 827,\n",
              " 'university': 828,\n",
              " 'voice': 829,\n",
              " 'phone': 830,\n",
              " 'queen': 831,\n",
              " 'idea': 832,\n",
              " 'needed': 833,\n",
              " 'three': 834,\n",
              " 'drinks': 835,\n",
              " 'moving': 836,\n",
              " 'enjoying': 837,\n",
              " 'series': 838,\n",
              " 'husband': 839,\n",
              " '15': 840,\n",
              " 'nbafinals': 841,\n",
              " 'behind': 842,\n",
              " 'lonely': 843,\n",
              " 'gorgeous': 844,\n",
              " '3d': 845,\n",
              " 'writing': 846,\n",
              " 'step': 847,\n",
              " 'actor': 848,\n",
              " 'inshot': 849,\n",
              " 'pizza': 850,\n",
              " 'present': 851,\n",
              " 'games': 852,\n",
              " 'fit': 853,\n",
              " 'poor': 854,\n",
              " 'ahead': 855,\n",
              " 'dark': 856,\n",
              " 'opening': 857,\n",
              " 'la': 858,\n",
              " 'vibes': 859,\n",
              " 'sale': 860,\n",
              " 'jobs': 861,\n",
              " 'either': 862,\n",
              " 'list': 863,\n",
              " 'naked': 864,\n",
              " 'realize': 865,\n",
              " 'account': 866,\n",
              " 'hatred': 867,\n",
              " 'stomping': 868,\n",
              " 'sunset': 869,\n",
              " 'donald': 870,\n",
              " 'political': 871,\n",
              " 'respect': 872,\n",
              " 'breakfast': 873,\n",
              " 'shame': 874,\n",
              " 'asian': 875,\n",
              " 'successful': 876,\n",
              " 'dancing': 877,\n",
              " 'internet': 878,\n",
              " 'chill': 879,\n",
              " 'spend': 880,\n",
              " 'missed': 881,\n",
              " 'mr': 882,\n",
              " 'die': 883,\n",
              " 'shot': 884,\n",
              " 'hero': 885,\n",
              " 'seriously': 886,\n",
              " 'line': 887,\n",
              " 'mine': 888,\n",
              " 'congrats': 889,\n",
              " 'id': 890,\n",
              " 'nba': 891,\n",
              " 'wasnt': 892,\n",
              " 'customer': 893,\n",
              " 'students': 894,\n",
              " 'ask': 895,\n",
              " 'stand': 896,\n",
              " 'vegas': 897,\n",
              " 'walking': 898,\n",
              " 'confused': 899,\n",
              " 'hi': 900,\n",
              " 'took': 901,\n",
              " 'pop': 902,\n",
              " 'different': 903,\n",
              " 'speak': 904,\n",
              " 'apple': 905,\n",
              " 'test': 906,\n",
              " 'instamood': 907,\n",
              " 'snapshot': 908,\n",
              " 'calm': 909,\n",
              " 'emotions': 910,\n",
              " 'sign': 911,\n",
              " 'king': 912,\n",
              " 'trending': 913,\n",
              " 'along': 914,\n",
              " 'lady': 915,\n",
              " 'legend': 916,\n",
              " 'decided': 917,\n",
              " 'aint': 918,\n",
              " 'literally': 919,\n",
              " 'move': 920,\n",
              " 'instadaily': 921,\n",
              " 'trust': 922,\n",
              " 'sho': 923,\n",
              " 'pool': 924,\n",
              " 'self': 925,\n",
              " 'vegan': 926,\n",
              " 'due': 927,\n",
              " 'bride': 928,\n",
              " 'joke': 929,\n",
              " 'beat': 930,\n",
              " 'faith': 931,\n",
              " 'ripchristina': 932,\n",
              " 'nobody': 933,\n",
              " 'loves': 934,\n",
              " 'begins': 935,\n",
              " 'like4like': 936,\n",
              " 'loss': 937,\n",
              " 'turn': 938,\n",
              " 'inside': 939,\n",
              " 'campaign': 940,\n",
              " 'message': 941,\n",
              " 'sense': 942,\n",
              " 'absolutely': 943,\n",
              " 'secret': 944,\n",
              " 'online': 945,\n",
              " 'weather': 946,\n",
              " 'ice': 947,\n",
              " 'died': 948,\n",
              " 'instalike': 949,\n",
              " 'alive': 950,\n",
              " 'spos': 951,\n",
              " 'church': 952,\n",
              " 'states': 953,\n",
              " 'experience': 954,\n",
              " 'issue': 955,\n",
              " 'hungry': 956,\n",
              " 'wakeup': 957,\n",
              " 'adventure': 958,\n",
              " 'germany': 959,\n",
              " 'lovelife': 960,\n",
              " 'fall': 961,\n",
              " 'wine': 962,\n",
              " 'xx': 963,\n",
              " 'office': 964,\n",
              " 'met': 965,\n",
              " 'female': 966,\n",
              " 'holidays': 967,\n",
              " 'gif': 968,\n",
              " 'nofilter': 969,\n",
              " 'fast': 970,\n",
              " 'passed': 971,\n",
              " 'available': 972,\n",
              " 'flight': 973,\n",
              " 'eating': 974,\n",
              " 'english': 975,\n",
              " 'stage': 976,\n",
              " 'melancholy': 977,\n",
              " 'fight': 978,\n",
              " 'road': 979,\n",
              " 'listening': 980,\n",
              " 'given': 981,\n",
              " 'pulse': 982,\n",
              " 'fly': 983,\n",
              " 'york': 984,\n",
              " 'review': 985,\n",
              " 'chance': 986,\n",
              " 'received': 987,\n",
              " 'maga': 988,\n",
              " 'cavs': 989,\n",
              " 'japan': 990,\n",
              " 'strength': 991,\n",
              " 'release': 992,\n",
              " 'towards': 993,\n",
              " 'busy': 994,\n",
              " 'islam': 995,\n",
              " 'outside': 996,\n",
              " 'leakage': 997,\n",
              " 'hand': 998,\n",
              " 'relationship': 999,\n",
              " 'bike': 1000,\n",
              " ...}"
            ]
          },
          "metadata": {},
          "execution_count": 30
        }
      ],
      "source": [
        "vocabulary = {v: k for k, v in dict(enumerate(tokens_filtered_top, 1)).items()}\n",
        "vocabulary"
      ]
    },
    {
      "cell_type": "code",
      "execution_count": 31,
      "metadata": {
        "id": "5OULZgvkJzpj"
      },
      "outputs": [],
      "source": [
        "def text_to_sequence(text, maxlen):\n",
        "    result = []\n",
        "    tokens = word_tokenize(text.lower())\n",
        "    tokens_filtered = [word for word in tokens if word.isalnum()]\n",
        "    for word in tokens_filtered:\n",
        "        if word in vocabulary:\n",
        "            result.append(vocabulary[word])\n",
        "\n",
        "    padding = [0] * (maxlen-len(result))\n",
        "    return result[-maxlen:] + padding"
      ]
    },
    {
      "cell_type": "code",
      "execution_count": 32,
      "metadata": {
        "id": "pqHlf5nNJ2hl",
        "colab": {
          "base_uri": "https://localhost:8080/"
        },
        "outputId": "9fa7082f-057f-4c3d-93bc-921d87e8d5b4"
      },
      "outputs": [
        {
          "output_type": "stream",
          "name": "stdout",
          "text": [
            "CPU times: user 3.61 s, sys: 17.5 ms, total: 3.63 s\n",
            "Wall time: 3.66 s\n"
          ]
        }
      ],
      "source": [
        "%%time\n",
        "x_train = np.asarray([text_to_sequence(text, max_len) for text in df_train[\"tweet\"]])\n",
        "x_val = np.asarray([text_to_sequence(text, max_len) for text in df_val[\"tweet\"]])"
      ]
    },
    {
      "cell_type": "code",
      "execution_count": 33,
      "metadata": {
        "colab": {
          "base_uri": "https://localhost:8080/"
        },
        "id": "lI4NUg_TJ6NK",
        "outputId": "81bac0bf-9607-440d-8246-7abb69f062e8"
      },
      "outputs": [
        {
          "output_type": "execute_result",
          "data": {
            "text/plain": [
              "(22373, 20)"
            ]
          },
          "metadata": {},
          "execution_count": 33
        }
      ],
      "source": [
        "x_train.shape"
      ]
    },
    {
      "cell_type": "code",
      "source": [
        "df_train['tweet'].iloc[0]"
      ],
      "metadata": {
        "colab": {
          "base_uri": "https://localhost:8080/",
          "height": 37
        },
        "id": "0I6B2MHb81pF",
        "outputId": "e70ef8b4-79aa-4f01-9c6d-f1d99b9f187d"
      },
      "execution_count": 34,
      "outputs": [
        {
          "output_type": "execute_result",
          "data": {
            "text/plain": [
              "'im entirely sure im sad neither hungry tired bored just dont even know'"
            ],
            "application/vnd.google.colaboratory.intrinsic+json": {
              "type": "string"
            }
          },
          "metadata": {},
          "execution_count": 34
        }
      ]
    },
    {
      "cell_type": "code",
      "execution_count": 35,
      "metadata": {
        "colab": {
          "base_uri": "https://localhost:8080/"
        },
        "id": "9QlLvXd9KDf3",
        "outputId": "c3149389-71eb-4dc2-c009-1cee509048b6"
      },
      "outputs": [
        {
          "output_type": "execute_result",
          "data": {
            "text/plain": [
              "array([   8,  479,    8,   62, 3923,  956,  399, 1178,    6,   25,   83,\n",
              "         56,    0,    0,    0,    0,    0,    0,    0,    0])"
            ]
          },
          "metadata": {},
          "execution_count": 35
        }
      ],
      "source": [
        "x_train[0]"
      ]
    },
    {
      "cell_type": "code",
      "execution_count": 36,
      "metadata": {
        "id": "Ynw9XOZNK4Wp"
      },
      "outputs": [],
      "source": [
        "import torch\n",
        "import torch.nn as nn\n",
        "import torch.nn.functional as F\n",
        "\n",
        "\n",
        "class Net(nn.Module):\n",
        "    def __init__(self, vocab_size=2000, embedding_dim=128, out_channel=128, num_classes=1):\n",
        "        super().__init__()\n",
        "        self.embedding = nn.Embedding(vocab_size, embedding_dim)\n",
        "        self.conv_1 = nn.Conv1d(embedding_dim, out_channel, kernel_size=2)\n",
        "        self.conv_2 = nn.Conv1d(embedding_dim, out_channel, kernel_size=3)\n",
        "        self.pool = nn.MaxPool1d(2)\n",
        "        self.relu = nn.ReLU()\n",
        "        self.linear_1 = nn.Linear(out_channel, out_channel // 2)\n",
        "        self.linear_2 = nn.Linear(out_channel // 2, num_classes)\n",
        "        \n",
        "    def forward(self, x):        \n",
        "        output = self.embedding(x) # B, L, E\n",
        "        #                       B  E  L         \n",
        "        output = output.permute(0, 2, 1)\n",
        "        output = self.conv_1(output)\n",
        "        output = self.relu(output)\n",
        "        output = self.pool(output)\n",
        "\n",
        "        output = self.conv_2(output)\n",
        "        output = self.relu(output)\n",
        "        output = self.pool(output)\n",
        "        output = torch.max(output, axis=2).values\n",
        "        output = self.linear_1(output)\n",
        "        output = self.relu(output)\n",
        "        output = self.linear_2(output)\n",
        "        output = F.sigmoid(output)\n",
        "        return output"
      ]
    },
    {
      "cell_type": "code",
      "execution_count": 37,
      "metadata": {
        "id": "PhwK7yLAK8b0"
      },
      "outputs": [],
      "source": [
        "from torch.utils.data import DataLoader, Dataset\n",
        "\n",
        "\n",
        "class DataWrapper(Dataset):\n",
        "    def __init__(self, data, target, transform=None):\n",
        "        self.data = torch.from_numpy(data).long()\n",
        "        self.target = torch.from_numpy(target).long()\n",
        "        self.transform = transform\n",
        "        \n",
        "    def __getitem__(self, index):\n",
        "        x = self.data[index]\n",
        "        y = self.target[index]\n",
        "        \n",
        "        if self.transform:\n",
        "            x = self.transform(x)\n",
        "            \n",
        "        return x, y\n",
        "    \n",
        "    def __len__(self):\n",
        "        return len(self.data)"
      ]
    },
    {
      "cell_type": "code",
      "source": [
        "train_dataset = DataWrapper(x_train, df_train['label'].values)\n",
        "train_loader = DataLoader(train_dataset, batch_size=batch_size, shuffle=True)\n",
        "\n",
        "val_dataset = DataWrapper(x_val, df_val['label'].values)\n",
        "val_loader = DataLoader(val_dataset, batch_size=8, shuffle=True)"
      ],
      "metadata": {
        "id": "Qq0DK08tHKHf"
      },
      "execution_count": 38,
      "outputs": []
    },
    {
      "cell_type": "code",
      "source": [
        "for x, l in train_loader:\n",
        "    print(x.shape)\n",
        "    print(l.shape)\n",
        "    print(l[0])\n",
        "    break"
      ],
      "metadata": {
        "colab": {
          "base_uri": "https://localhost:8080/"
        },
        "id": "J6v8MCvfPqJN",
        "outputId": "e39273a9-8e8b-4a6e-b2a0-7cc6b09ef7a1"
      },
      "execution_count": 39,
      "outputs": [
        {
          "output_type": "stream",
          "name": "stdout",
          "text": [
            "torch.Size([512, 20])\n",
            "torch.Size([512])\n",
            "tensor(0)\n"
          ]
        }
      ]
    },
    {
      "cell_type": "code",
      "source": [
        "model = Net(vocab_size=max_words)\n",
        "\n",
        "device = 'cuda' if torch.cuda.is_available() else 'cpu'\n",
        "device"
      ],
      "metadata": {
        "id": "F-3ExwIMG8BB",
        "colab": {
          "base_uri": "https://localhost:8080/",
          "height": 37
        },
        "outputId": "baa3ae10-5325-4c99-8df3-84a4267ad2b0"
      },
      "execution_count": 40,
      "outputs": [
        {
          "output_type": "execute_result",
          "data": {
            "text/plain": [
              "'cuda'"
            ],
            "application/vnd.google.colaboratory.intrinsic+json": {
              "type": "string"
            }
          },
          "metadata": {},
          "execution_count": 40
        }
      ]
    },
    {
      "cell_type": "code",
      "source": [
        "print(model)\n",
        "print(\"Parameters:\", sum([param.nelement() for param in model.parameters()]))"
      ],
      "metadata": {
        "colab": {
          "base_uri": "https://localhost:8080/"
        },
        "id": "ayB6rEFkHB1D",
        "outputId": "7976a6bf-7244-4209-eada-bd81a51484d8"
      },
      "execution_count": 41,
      "outputs": [
        {
          "output_type": "stream",
          "name": "stdout",
          "text": [
            "Net(\n",
            "  (embedding): Embedding(4000, 128)\n",
            "  (conv_1): Conv1d(128, 128, kernel_size=(2,), stride=(1,))\n",
            "  (conv_2): Conv1d(128, 128, kernel_size=(3,), stride=(1,))\n",
            "  (pool): MaxPool1d(kernel_size=2, stride=2, padding=0, dilation=1, ceil_mode=False)\n",
            "  (relu): ReLU()\n",
            "  (linear_1): Linear(in_features=128, out_features=64, bias=True)\n",
            "  (linear_2): Linear(in_features=64, out_features=1, bias=True)\n",
            ")\n",
            "Parameters: 602497\n"
          ]
        }
      ]
    },
    {
      "cell_type": "code",
      "source": [
        "optimizer = torch.optim.Adam(model.parameters(), lr=0.001)\n",
        "criterion = nn.BCELoss()"
      ],
      "metadata": {
        "id": "vOpjN8zrHIfJ"
      },
      "execution_count": 42,
      "outputs": []
    },
    {
      "cell_type": "code",
      "source": [
        "model = model.to(device)\n",
        "model.train()\n",
        "th = 0.5\n",
        "\n",
        "train_loss_history = []\n",
        "test_loss_history = []\n",
        "\n",
        "\n",
        "for epoch in range(epochs):  \n",
        "    running_items, running_right = 0.0, 0.0\n",
        "    for i, data in enumerate(train_loader, 0):\n",
        "        inputs, labels = data[0].to(device), data[1].to(device)\n",
        "        \n",
        "        # обнуляем градиент\n",
        "        optimizer.zero_grad()\n",
        "        outputs = model(inputs)\n",
        "        \n",
        "        loss = criterion(outputs, labels.float().view(-1, 1))\n",
        "        loss.backward()\n",
        "        optimizer.step()\n",
        "\n",
        "        # подсчет ошибки на обучении\n",
        "        loss = loss.item()\n",
        "        running_items += len(labels)\n",
        "        # подсчет метрики на обучении\n",
        "        pred_labels = torch.squeeze((outputs > th).int())\n",
        "        running_right += (labels == pred_labels).sum()\n",
        "        \n",
        "    # выводим статистику о процессе обучения\n",
        "    model.eval()\n",
        "    \n",
        "    print(f'Epoch [{epoch + 1}/{epochs}]. ' \\\n",
        "            f'Step [{i + 1}/{len(train_loader)}]. ' \\\n",
        "            f'Loss: {loss:.3f}. ' \\\n",
        "            f'Acc: {running_right / running_items:.3f}', end='. ')\n",
        "    running_loss, running_items, running_right = 0.0, 0.0, 0.0\n",
        "    train_loss_history.append(loss)\n",
        "\n",
        "        # выводим статистику на тестовых данных\n",
        "    test_running_right, test_running_total, test_loss = 0.0, 0.0, 0.0\n",
        "    for j, data in enumerate(val_loader):\n",
        "        test_labels = data[1].to(device)\n",
        "        test_outputs = model(data[0].to(device))\n",
        "        \n",
        "        # подсчет ошибки на тесте\n",
        "        test_loss = criterion(test_outputs, test_labels.float().view(-1, 1))\n",
        "        # подсчет метрики на тесте\n",
        "        test_running_total += len(data[1])\n",
        "        pred_test_labels = torch.squeeze((test_outputs > th).int())\n",
        "        test_running_right += (test_labels == pred_test_labels).sum()\n",
        "    \n",
        "    test_loss_history.append(test_loss.item())\n",
        "    print(f'Test loss: {test_loss:.3f}. Test acc: {test_running_right / test_running_total:.3f}')\n",
        "    \n",
        "    model.train()\n",
        "        \n",
        "print('Training is finished!')"
      ],
      "metadata": {
        "colab": {
          "base_uri": "https://localhost:8080/"
        },
        "id": "ee9kfUQaCXpl",
        "outputId": "0ab337f5-522f-44ef-949c-1474b097ed18"
      },
      "execution_count": 43,
      "outputs": [
        {
          "output_type": "stream",
          "name": "stderr",
          "text": [
            "/usr/local/lib/python3.7/dist-packages/torch/nn/functional.py:1960: UserWarning: nn.functional.sigmoid is deprecated. Use torch.sigmoid instead.\n",
            "  warnings.warn(\"nn.functional.sigmoid is deprecated. Use torch.sigmoid instead.\")\n"
          ]
        },
        {
          "output_type": "stream",
          "name": "stdout",
          "text": [
            "Epoch [1/5]. Step [44/44]. Loss: 0.230. Acc: 0.911. Test loss: 0.621. Test acc: 0.927\n",
            "Epoch [2/5]. Step [44/44]. Loss: 0.194. Acc: 0.931. Test loss: 0.504. Test acc: 0.927\n",
            "Epoch [3/5]. Step [44/44]. Loss: 0.219. Acc: 0.931. Test loss: 0.116. Test acc: 0.927\n",
            "Epoch [4/5]. Step [44/44]. Loss: 0.180. Acc: 0.931. Test loss: 0.228. Test acc: 0.927\n",
            "Epoch [5/5]. Step [44/44]. Loss: 0.104. Acc: 0.949. Test loss: 0.049. Test acc: 0.941\n",
            "Training is finished!\n"
          ]
        }
      ]
    },
    {
      "cell_type": "code",
      "source": [
        "import matplotlib.pyplot as plt\n",
        "\n",
        "plt.title('Loss history')\n",
        "plt.grid(True)\n",
        "plt.ylabel('Loss')\n",
        "plt.xlabel('Epoch')\n",
        "plt.plot(train_loss_history, label='train')\n",
        "plt.plot(test_loss_history, label='test')\n",
        "plt.legend();"
      ],
      "metadata": {
        "colab": {
          "base_uri": "https://localhost:8080/",
          "height": 295
        },
        "id": "jRFEu1X4jpLU",
        "outputId": "0d057d12-b451-4264-a69c-0e2b4adbe1ac"
      },
      "execution_count": 44,
      "outputs": [
        {
          "output_type": "display_data",
          "data": {
            "text/plain": [
              "<Figure size 432x288 with 1 Axes>"
            ],
            "image/png": "[encoded data removed]"
          },
          "metadata": {
            "needs_background": "light"
          }
        }
      ]
    },
    {
      "cell_type": "markdown",
      "source": [
        "### В процессе экспериментов приемлемый результат от сети удалось получить применив стратифицированное разделение данных, изменив параметр max_words = 4000 и уменьшив скорость обучения до 0.001."
      ],
      "metadata": {
        "id": "-O5EfdwrZgge"
      }
    },
    {
      "cell_type": "markdown",
      "source": [
        "### Предсказание на тестовом датасете не выполнял, поскольку нет возможности проверить его точность."
      ],
      "metadata": {
        "id": "BZvoGf0xcBxy"
      }
    }
  ],
  "metadata": {
    "colab": {
      "collapsed_sections": [],
      "provenance": [],
      "include_colab_link": true
    },
    "kernelspec": {
      "display_name": "Python 3",
      "language": "python",
      "name": "python3"
    },
    "language_info": {
      "codemirror_mode": {
        "name": "ipython",
        "version": 3
      },
      "file_extension": ".py",
      "mimetype": "text/x-python",
      "name": "python",
      "nbconvert_exporter": "python",
      "pygments_lexer": "ipython3",
      "version": "3.7.4"
    },
    "accelerator": "GPU",
    "gpuClass": "standard"
  },
  "nbformat": 4,
  "nbformat_minor": 0
}