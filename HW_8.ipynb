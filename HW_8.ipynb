{
  "cells": [
    {
      "cell_type": "markdown",
      "metadata": {
        "id": "view-in-github",
        "colab_type": "text"
      },
      "source": [
        "<a href=\"https://colab.research.google.com/github/Beerschtein/PyTorch/blob/main/HW_8.ipynb\" target=\"_parent\"><img src=\"https://colab.research.google.com/assets/colab-badge.svg\" alt=\"Open In Colab\"/></a>"
      ]
    },
    {
      "cell_type": "markdown",
      "metadata": {
        "id": "1OGshoXXW3Y9"
      },
      "source": [
        "<h1><center>Generative Adversarial Networks</center></h1>"
      ]
    },
    {
      "cell_type": "markdown",
      "metadata": {
        "id": "AbaURGXmUTEO"
      },
      "source": [
        "## Домашнее задание 8\n",
        "1. Обучить генератор создавать точки, которые будут лежать на графике функции \n",
        " $$y = \\frac{sin(x)}{x} - \\frac{x}{10}$$\n",
        "При выполнении данного задания структура GAN остается той же, но Вам нужно:\n",
        "- Сгенерировать настоящие данные\n",
        "- Изменить архитектуру дискриминатора и генератора\n",
        "- Построить графики"
      ]
    },
    {
      "cell_type": "markdown",
      "source": [
        "### Загрузим библиотеки\n"
      ],
      "metadata": {
        "id": "_W2MmRGeMxGE"
      }
    },
    {
      "cell_type": "code",
      "source": [
        "import pandas as pd\n",
        "import numpy as np\n",
        "import math\n",
        "\n",
        "import torch\n",
        "import torch.nn as nn\n",
        "from torch.autograd import Variable\n",
        "from torch.utils.data import DataLoader, Dataset\n",
        "\n",
        "import matplotlib.pyplot as plt\n",
        "import matplotlib.patches as mpatches\n",
        "from IPython import display"
      ],
      "metadata": {
        "id": "brv_K9IWI8PV"
      },
      "execution_count": 16,
      "outputs": []
    },
    {
      "cell_type": "code",
      "source": [
        "device = 'cpu'\n",
        "# device = 'cuda' if torch.cuda.is_available() else 'cpu'\n",
        "device"
      ],
      "metadata": {
        "colab": {
          "base_uri": "https://localhost:8080/",
          "height": 37
        },
        "id": "Ftd3DNFHI8av",
        "outputId": "862bf32c-ea83-4a26-9078-9988f9b6760a"
      },
      "execution_count": 17,
      "outputs": [
        {
          "output_type": "execute_result",
          "data": {
            "text/plain": [
              "'cpu'"
            ],
            "application/vnd.google.colaboratory.intrinsic+json": {
              "type": "string"
            }
          },
          "metadata": {},
          "execution_count": 17
        }
      ]
    },
    {
      "cell_type": "code",
      "source": [],
      "metadata": {
        "id": "iG0S6Zu4NatA"
      },
      "execution_count": 17,
      "outputs": []
    },
    {
      "cell_type": "markdown",
      "source": [
        "### Сгенерируем данные"
      ],
      "metadata": {
        "id": "A_cHpRiTNXpO"
      }
    },
    {
      "cell_type": "code",
      "source": [
        "df = pd.DataFrame(np.linspace(-20, 20, 15000), columns=['x'])\n",
        "df['y'] = np.sin(df['x']) / df['x'] - (df['x'] / 10)\n",
        "df.head()"
      ],
      "metadata": {
        "colab": {
          "base_uri": "https://localhost:8080/",
          "height": 206
        },
        "id": "eQ64gcQPI8ip",
        "outputId": "2b448a14-44c0-4541-b5f8-b091a0ecb5f2"
      },
      "execution_count": 18,
      "outputs": [
        {
          "output_type": "execute_result",
          "data": {
            "text/plain": [
              "           x         y\n",
              "0 -20.000000  2.045647\n",
              "1 -19.997333  2.045332\n",
              "2 -19.994666  2.045017\n",
              "3 -19.991999  2.044701\n",
              "4 -19.989333  2.044385"
            ],
            "text/html": [
              "\n",
              "  <div id=\"df-1d6199bf-bcb5-41fa-8df7-c4c443f37724\">\n",
              "    <div class=\"colab-df-container\">\n",
              "      <div>\n",
              "<style scoped>\n",
              "    .dataframe tbody tr th:only-of-type {\n",
              "        vertical-align: middle;\n",
              "    }\n",
              "\n",
              "    .dataframe tbody tr th {\n",
              "        vertical-align: top;\n",
              "    }\n",
              "\n",
              "    .dataframe thead th {\n",
              "        text-align: right;\n",
              "    }\n",
              "</style>\n",
              "<table border=\"1\" class=\"dataframe\">\n",
              "  <thead>\n",
              "    <tr style=\"text-align: right;\">\n",
              "      <th></th>\n",
              "      <th>x</th>\n",
              "      <th>y</th>\n",
              "    </tr>\n",
              "  </thead>\n",
              "  <tbody>\n",
              "    <tr>\n",
              "      <th>0</th>\n",
              "      <td>-20.000000</td>\n",
              "      <td>2.045647</td>\n",
              "    </tr>\n",
              "    <tr>\n",
              "      <th>1</th>\n",
              "      <td>-19.997333</td>\n",
              "      <td>2.045332</td>\n",
              "    </tr>\n",
              "    <tr>\n",
              "      <th>2</th>\n",
              "      <td>-19.994666</td>\n",
              "      <td>2.045017</td>\n",
              "    </tr>\n",
              "    <tr>\n",
              "      <th>3</th>\n",
              "      <td>-19.991999</td>\n",
              "      <td>2.044701</td>\n",
              "    </tr>\n",
              "    <tr>\n",
              "      <th>4</th>\n",
              "      <td>-19.989333</td>\n",
              "      <td>2.044385</td>\n",
              "    </tr>\n",
              "  </tbody>\n",
              "</table>\n",
              "</div>\n",
              "      <button class=\"colab-df-convert\" onclick=\"convertToInteractive('df-1d6199bf-bcb5-41fa-8df7-c4c443f37724')\"\n",
              "              title=\"Convert this dataframe to an interactive table.\"\n",
              "              style=\"display:none;\">\n",
              "        \n",
              "  <svg xmlns=\"http://www.w3.org/2000/svg\" height=\"24px\"viewBox=\"0 0 24 24\"\n",
              "       width=\"24px\">\n",
              "    <path d=\"M0 0h24v24H0V0z\" fill=\"none\"/>\n",
              "    <path d=\"M18.56 5.44l.94 2.06.94-2.06 2.06-.94-2.06-.94-.94-2.06-.94 2.06-2.06.94zm-11 1L8.5 8.5l.94-2.06 2.06-.94-2.06-.94L8.5 2.5l-.94 2.06-2.06.94zm10 10l.94 2.06.94-2.06 2.06-.94-2.06-.94-.94-2.06-.94 2.06-2.06.94z\"/><path d=\"M17.41 7.96l-1.37-1.37c-.4-.4-.92-.59-1.43-.59-.52 0-1.04.2-1.43.59L10.3 9.45l-7.72 7.72c-.78.78-.78 2.05 0 2.83L4 21.41c.39.39.9.59 1.41.59.51 0 1.02-.2 1.41-.59l7.78-7.78 2.81-2.81c.8-.78.8-2.07 0-2.86zM5.41 20L4 18.59l7.72-7.72 1.47 1.35L5.41 20z\"/>\n",
              "  </svg>\n",
              "      </button>\n",
              "      \n",
              "  <style>\n",
              "    .colab-df-container {\n",
              "      display:flex;\n",
              "      flex-wrap:wrap;\n",
              "      gap: 12px;\n",
              "    }\n",
              "\n",
              "    .colab-df-convert {\n",
              "      background-color: #E8F0FE;\n",
              "      border: none;\n",
              "      border-radius: 50%;\n",
              "      cursor: pointer;\n",
              "      display: none;\n",
              "      fill: #1967D2;\n",
              "      height: 32px;\n",
              "      padding: 0 0 0 0;\n",
              "      width: 32px;\n",
              "    }\n",
              "\n",
              "    .colab-df-convert:hover {\n",
              "      background-color: #E2EBFA;\n",
              "      box-shadow: 0px 1px 2px rgba(60, 64, 67, 0.3), 0px 1px 3px 1px rgba(60, 64, 67, 0.15);\n",
              "      fill: #174EA6;\n",
              "    }\n",
              "\n",
              "    [theme=dark] .colab-df-convert {\n",
              "      background-color: #3B4455;\n",
              "      fill: #D2E3FC;\n",
              "    }\n",
              "\n",
              "    [theme=dark] .colab-df-convert:hover {\n",
              "      background-color: #434B5C;\n",
              "      box-shadow: 0px 1px 3px 1px rgba(0, 0, 0, 0.15);\n",
              "      filter: drop-shadow(0px 1px 2px rgba(0, 0, 0, 0.3));\n",
              "      fill: #FFFFFF;\n",
              "    }\n",
              "  </style>\n",
              "\n",
              "      <script>\n",
              "        const buttonEl =\n",
              "          document.querySelector('#df-1d6199bf-bcb5-41fa-8df7-c4c443f37724 button.colab-df-convert');\n",
              "        buttonEl.style.display =\n",
              "          google.colab.kernel.accessAllowed ? 'block' : 'none';\n",
              "\n",
              "        async function convertToInteractive(key) {\n",
              "          const element = document.querySelector('#df-1d6199bf-bcb5-41fa-8df7-c4c443f37724');\n",
              "          const dataTable =\n",
              "            await google.colab.kernel.invokeFunction('convertToInteractive',\n",
              "                                                     [key], {});\n",
              "          if (!dataTable) return;\n",
              "\n",
              "          const docLinkHtml = 'Like what you see? Visit the ' +\n",
              "            '<a target=\"_blank\" href=https://colab.research.google.com/notebooks/data_table.ipynb>data table notebook</a>'\n",
              "            + ' to learn more about interactive tables.';\n",
              "          element.innerHTML = '';\n",
              "          dataTable['output_type'] = 'display_data';\n",
              "          await google.colab.output.renderOutput(dataTable, element);\n",
              "          const docLink = document.createElement('div');\n",
              "          docLink.innerHTML = docLinkHtml;\n",
              "          element.appendChild(docLink);\n",
              "        }\n",
              "      </script>\n",
              "    </div>\n",
              "  </div>\n",
              "  "
            ]
          },
          "metadata": {},
          "execution_count": 18
        }
      ]
    },
    {
      "cell_type": "markdown",
      "source": [
        "### Построим график функции"
      ],
      "metadata": {
        "id": "Pl2PZu-xNoas"
      }
    },
    {
      "cell_type": "code",
      "source": [
        "plt.plot(df['x'], df['y'])\n",
        "plt.show()"
      ],
      "metadata": {
        "colab": {
          "base_uri": "https://localhost:8080/",
          "height": 265
        },
        "id": "7KpQRA11I8ny",
        "outputId": "7ce58ac4-eb44-42ac-f345-253459a53be5"
      },
      "execution_count": 19,
      "outputs": [
        {
          "output_type": "display_data",
          "data": {
            "text/plain": [
              "<Figure size 432x288 with 1 Axes>"
            ],
            "image/png": "[encoded data removed]"
          },
          "metadata": {
            "needs_background": "light"
          }
        }
      ]
    },
    {
      "cell_type": "markdown",
      "source": [
        "### Создадим модель"
      ],
      "metadata": {
        "id": "qj9f_NNnONhQ"
      }
    },
    {
      "cell_type": "markdown",
      "source": [
        "### Генератор"
      ],
      "metadata": {
        "id": "ld53k0H8OUSy"
      }
    },
    {
      "cell_type": "code",
      "source": [
        "class Generator(nn.Module):\n",
        "    def __init__(self):\n",
        "        super().__init__()\n",
        "        \n",
        "        # Создадим словарь с функциями активации\n",
        "        self.activations = nn.ModuleDict([\n",
        "            ['lrelu', nn.LeakyReLU(0.2, inplace=True)],\n",
        "            ['relu', nn.ReLU()]\n",
        "        ])\n",
        "        # метод для построения блоков задач, активацию возьмем из словаря выше\n",
        "        def block(in_feat, out_feat, normalize=True, activation='relu'):\n",
        "            layers = [nn.Linear(in_feat, out_feat)]  \n",
        "\n",
        "            if normalize:\n",
        "                layers.append(nn.BatchNorm1d(out_feat))\n",
        "            layers.append(self.activations[activation])  # Эта строчка означает \n",
        "            # тоже самое что и layers.append(nn.LeakyReLU(0.2, inplace=True))\n",
        "            \n",
        "            return layers\n",
        "\n",
        "        self.model = nn.Sequential(\n",
        "            # Звездочка означает unpacking списка\n",
        "            *block(latent_dim, 128, normalize=False), \n",
        "            *block(128, 256, activation='lrelu'),\n",
        "            *block(256, 512),\n",
        "            *block(512, 1024),\n",
        "            nn.Linear(1024, 2),\n",
        "        )\n",
        "        \n",
        "    # при форварде прогоняем данные через модель\n",
        "    def forward(self, z):\n",
        "        num = self.model(z)\n",
        "        return num"
      ],
      "metadata": {
        "id": "d6SjzGnmI8rb"
      },
      "execution_count": 20,
      "outputs": []
    },
    {
      "cell_type": "markdown",
      "source": [
        "### Создадим пользовательский слой для использования внутри модели"
      ],
      "metadata": {
        "id": "FKTyJgO1O_Xq"
      }
    },
    {
      "cell_type": "code",
      "source": [
        "class CustomLinearLayer(nn.Module):\n",
        "    def __init__(self, size_in, size_out):\n",
        "        # забираем все методы\n",
        "        super().__init__()\n",
        "        # инициализируем веса\n",
        "        self.size_in, self.size_out = size_in, size_out\n",
        "        \n",
        "        weights = torch.Tensor(size_out, size_in)\n",
        "        # в PyTorch если объект имеет класс параметров, то он обучаемый,\n",
        "        # т.е. через него будут прогоняться градиенты\n",
        "        self.weights = nn.Parameter(weights) \n",
        "\n",
        "        # подготавливаем переменные для сдвига bias\n",
        "        bias = torch.Tensor(size_out)\n",
        "        self.bias = nn.Parameter(bias)\n",
        "        \n",
        "        # инициализируем веса и смещения (байесы) близкими к нулю значениями\n",
        "        # в данном примере если поставить -0,005 и 0,005, обучается дольше и хуже\n",
        "        nn.init.uniform_(self.weights, -0.5, 0.5) \n",
        "        nn.init.uniform_(self.bias, -0.5, 0.5)  \n",
        "\n",
        "    def forward(self, x):\n",
        "        # По формуле линейного слоя, нам нужно умножить наши данные \n",
        "        # на транспонированные веса и добавить смещение\n",
        "        w_times_x = torch.mm(x, self.weights.t())\n",
        "        return torch.add(w_times_x, self.bias)"
      ],
      "metadata": {
        "id": "m_U9dSwtI8um"
      },
      "execution_count": 21,
      "outputs": []
    },
    {
      "cell_type": "markdown",
      "source": [
        "### Дискриминатор"
      ],
      "metadata": {
        "id": "F6qA3JQdPSex"
      }
    },
    {
      "cell_type": "code",
      "source": [
        "class Discriminator(nn.Module):\n",
        "    def __init__(self):\n",
        "        super().__init__()\n",
        "\n",
        "        # на входе размерность, на выходе классфицируем правда/ложь\n",
        "        self.model = nn.Sequential(\n",
        "            CustomLinearLayer(2, 512),\n",
        "            nn.LeakyReLU(0.2, inplace=True),\n",
        "            CustomLinearLayer(512, 256),\n",
        "            nn.LeakyReLU(0.2, inplace=True),\n",
        "            CustomLinearLayer(256, 1),\n",
        "            nn.Sigmoid(),\n",
        "        )\n",
        "\n",
        "    def forward(self, pred):\n",
        "        validity = self.model(pred)\n",
        "        # классифицируем false/true\n",
        "        return validity"
      ],
      "metadata": {
        "id": "qPWywH63I8xm"
      },
      "execution_count": 22,
      "outputs": []
    },
    {
      "cell_type": "markdown",
      "source": [
        "### Инициализация"
      ],
      "metadata": {
        "id": "RO3YAvZ8QXxu"
      }
    },
    {
      "cell_type": "code",
      "source": [
        "n_epochs = 100\n",
        "batch_size = 32\n",
        "lr = 0.0005\n",
        "\n",
        "b1 = 0.5\n",
        "b2 = 0.999\n",
        "\n",
        "latent_dim = 1000\n",
        "\n",
        "sample_interval = 100\n",
        "\n",
        "# Преобразуем Датафрейм в массив\n",
        "\n",
        "real_data = torch.utils.data.DataLoader(\n",
        "    df.to_numpy(), # to_numpy()\n",
        "    batch_size=batch_size,\n",
        "    shuffle=True)\n",
        "\n",
        "real_data"
      ],
      "metadata": {
        "id": "yphbJLYFI804",
        "colab": {
          "base_uri": "https://localhost:8080/"
        },
        "outputId": "380a740f-c435-44c3-926b-669f4000c9bc"
      },
      "execution_count": 23,
      "outputs": [
        {
          "output_type": "execute_result",
          "data": {
            "text/plain": [
              "<torch.utils.data.dataloader.DataLoader at 0x7fa287735d10>"
            ]
          },
          "metadata": {},
          "execution_count": 23
        }
      ]
    },
    {
      "cell_type": "markdown",
      "source": [
        "### Перейдем на GPU"
      ],
      "metadata": {
        "id": "UXf2FKtzQt7y"
      }
    },
    {
      "cell_type": "code",
      "source": [
        "generator = Generator().to(device)\n",
        "discriminator = Discriminator().to(device)"
      ],
      "metadata": {
        "id": "ze_1vZ4TQ0lQ"
      },
      "execution_count": 24,
      "outputs": []
    },
    {
      "cell_type": "markdown",
      "source": [
        "### Зададим оптимизаторы и функцию ошибки "
      ],
      "metadata": {
        "id": "byFveCEiRGAM"
      }
    },
    {
      "cell_type": "code",
      "source": [
        "# Для каждой нейронки свой опитимизатор\n",
        "optimizer_G = torch.optim.Adam(\n",
        "    generator.parameters(), \n",
        "    lr=lr, \n",
        "    betas=(b1, b2)\n",
        ")\n",
        "optimizer_D = torch.optim.Adam(\n",
        "    discriminator.parameters(), \n",
        "    lr=lr, \n",
        "    betas=(b1, b2)\n",
        ")\n",
        "\n",
        "# Но вот функция ошибки у нас будет одна общая\n",
        "adversarial_loss = torch.nn.BCELoss()\n",
        "\n",
        "orange_patch = mpatches.Patch(color='orange', label='D loss')\n",
        "blue_patch = mpatches.Patch(color='blue', label='G loss')"
      ],
      "metadata": {
        "id": "Ir_yq8OwI83e"
      },
      "execution_count": 30,
      "outputs": []
    },
    {
      "cell_type": "markdown",
      "source": [
        "### Подготовим списки для учета ошибок Генератора и Дискриминатора"
      ],
      "metadata": {
        "id": "3qXobdz9RpK_"
      }
    },
    {
      "cell_type": "code",
      "source": [
        "d_loss_history = []\n",
        "g_loss_history = []"
      ],
      "metadata": {
        "id": "3IpggyxBRwDX"
      },
      "execution_count": 26,
      "outputs": []
    },
    {
      "cell_type": "markdown",
      "source": [
        "### Процесс обучения"
      ],
      "metadata": {
        "id": "mSFa-BnOR7mH"
      }
    },
    {
      "cell_type": "code",
      "source": [
        "for epoch in range(n_epochs):\n",
        "    for i, data in enumerate(real_data):\n",
        "        \n",
        "        cur_batch_size = len(data)\n",
        "\n",
        "##################### Лейблы для данных: 1 - настоящие, 0 - сгенерированные ########\n",
        "        # valid = Variable(torch.FloatTensor(cur_batch_size, 1).fill_(1.0), requires_grad=False).to(device)\n",
        "        # fake = Variable(torch.FloatTensor(cur_batch_size, 1).fill_(0.0), requires_grad=False).to(device)\n",
        "\n",
        "        # истинные значения\n",
        "        valid = torch.FloatTensor(cur_batch_size, 1).fill_(1.0).to(device)\n",
        "        # ложные значения\n",
        "        fake = torch.FloatTensor(cur_batch_size, 1).fill_(0.0).to(device)\n",
        "\n",
        "        # генерация шума (нормальное распределение тут не подойдёт)\n",
        "        z = Variable(torch.FloatTensor(np.random.uniform(-50, 50, (cur_batch_size, latent_dim)))).to(device)\n",
        "        \n",
        "        # реальные значения перекладываем на устройство\n",
        "        real_ex = Variable(data.type(torch.FloatTensor)).to(device)\n",
        "\n",
        "        # Генерируем данные Генератором на основе шума\n",
        "        gen_data = generator(z)\n",
        "\n",
        "\n",
        "######################  Тренировка дискриминатора    ##########################\n",
        "\n",
        "        # Получаем предсказания дискриминатора на основе реальных данных\n",
        "        real_pred = discriminator(real_ex)\n",
        "\n",
        "        # Тут сравниваем предсказанные значения Дискриминатора(на основе настоящих данных) с настоящими\n",
        "        # получаем бинарную кросс-энтропию\n",
        "        d_real_loss = adversarial_loss(real_pred, valid)\n",
        "        \n",
        "        # Подаем сгенерированые данные на Дискриминатор\n",
        "        fake_pred = discriminator(gen_data.detach())\n",
        "        \n",
        "        # расчитываем ошибку предсказанного с фейковыми лейблами\n",
        "        d_fake_loss = adversarial_loss(fake_pred, fake)\n",
        "        \n",
        "        # И усредняем два лосса в один\n",
        "        d_loss = (d_real_loss + d_fake_loss) / 2\n",
        "\n",
        "        # обновляем градиенты\n",
        "        optimizer_D.zero_grad()\n",
        "        \n",
        "        # подсчёт градиентов\n",
        "        d_loss.backward()\n",
        "        \n",
        "        # шаг оптимизации\n",
        "        optimizer_D.step()\n",
        "        \n",
        "######################  Тренировка генератора    ##########################\n",
        "\n",
        "        # Подаем сгенерированые данные на Дискриминатор \n",
        "        fake_pred = discriminator(gen_data)\n",
        "        \n",
        "        # Тут сравниваем предсказанные значения Дискриминатора \n",
        "        # (на основе сгенерировнных данных) с настоящими\n",
        "        g_loss = adversarial_loss(fake_pred, valid)\n",
        "        \n",
        "        # Делаем шаг обучения нашего Генератора\n",
        "        optimizer_G.zero_grad()\n",
        "        g_loss.backward()\n",
        "        optimizer_G.step()\n",
        "        \n",
        "######## Отображение процесса обучения и вывод функций потерь ############\n",
        "        batches_done = epoch * len(real_data) + i\n",
        "    \n",
        "        if batches_done % sample_interval == 0:\n",
        "            plt.clf()\n",
        "            \n",
        "            display.clear_output(wait=False)\n",
        "            print(\"[Epoch %d/%d] [Batch %d/%d] [D loss: %f] [G loss: %f]\"% (epoch, n_epochs, i, len(real_data), d_loss.item(), g_loss.item()) ) \n",
        "\n",
        "            display.display(plt.gcf())\n",
        "\n",
        "            # d_loss и g_loss - тензоры, чтобы поместить их в список,\n",
        "            # извлекаются без граадиента методом detach()\n",
        "            d_loss_history.append(d_loss.detach().numpy())\n",
        "            g_loss_history.append(g_loss.detach().numpy())\n",
        "            \n",
        "            plt.plot(np.log(np.array(d_loss_history)), label='D loss')\n",
        "            plt.plot(np.log(np.array(g_loss_history)), label='G loss')\n",
        "\n",
        "            plt.legend(handles=[orange_patch, blue_patch])\n",
        "            plt.show()"
      ],
      "metadata": {
        "id": "PbvAVWrzI86Z",
        "colab": {
          "base_uri": "https://localhost:8080/",
          "height": 302
        },
        "outputId": "c87057c8-388f-4bd4-fa76-569fca7f9a43"
      },
      "execution_count": 31,
      "outputs": [
        {
          "output_type": "stream",
          "name": "stdout",
          "text": [
            "[Epoch 99/100] [Batch 369/469] [D loss: 0.687589] [G loss: 0.695002]\n"
          ]
        },
        {
          "output_type": "display_data",
          "data": {
            "text/plain": [
              "<Figure size 432x288 with 0 Axes>"
            ]
          },
          "metadata": {}
        },
        {
          "output_type": "display_data",
          "data": {
            "text/plain": [
              "<Figure size 432x288 with 1 Axes>"
            ],
            "image/png": "[encoded data removed]"
          },
          "metadata": {
            "needs_background": "light"
          }
        }
      ]
    },
    {
      "cell_type": "markdown",
      "source": [
        "### Визуально посмотрим насколько предсказанные данные близки к настоящим"
      ],
      "metadata": {
        "id": "L8u4VWnhVuZ2"
      }
    },
    {
      "cell_type": "code",
      "source": [
        "generator.eval()\n",
        "\n",
        "# Для этого сгенерируем тестовый тензор\n",
        "test_z = Variable(torch.from_numpy(np.random.uniform(-40, 35, (100, latent_dim)).astype(np.float64)).float()).to(device)\n",
        "\n",
        "with torch.no_grad():\n",
        "    test_pred = generator(test_z)"
      ],
      "metadata": {
        "id": "mPKhSv06I9Mg"
      },
      "execution_count": 32,
      "outputs": []
    },
    {
      "cell_type": "code",
      "source": [
        "nt = 0\n",
        "error = 0.0\n",
        "count = 0\n",
        "for i in range(len(test_pred)):\n",
        "    x = test_pred[i][0]\n",
        "    y_real = (np.sin(x) / x) - (x / 10) \n",
        "    y_pred = test_pred[i][1]  \n",
        "    count +=1\n",
        "    error += abs(y_real - y_pred)\n",
        "\n",
        "print(\"Mean error: %.10f\" % (error/count))"
      ],
      "metadata": {
        "id": "eS3tB3f6I9QA",
        "colab": {
          "base_uri": "https://localhost:8080/"
        },
        "outputId": "544157a3-9d01-48ac-a34d-1fcf6e6fb9f8"
      },
      "execution_count": 33,
      "outputs": [
        {
          "output_type": "stream",
          "name": "stdout",
          "text": [
            "Mean error: 0.0369092524\n"
          ]
        }
      ]
    },
    {
      "cell_type": "code",
      "source": [
        "plt.figure()\n",
        "\n",
        "x = np.linspace(-25, 25, 1000)\n",
        "plt.plot(x, ((np.sin(x) / x) - (x / 10) ), label='y')\n",
        "\n",
        "p = test_pred[:,0].argsort()\n",
        "plt.plot(test_pred[:,0][p], test_pred[:, 1][p], label='y pred')\n",
        "\n",
        "plt.legend()\n",
        "plt.show()"
      ],
      "metadata": {
        "id": "oEydKYxOI9TF",
        "colab": {
          "base_uri": "https://localhost:8080/",
          "height": 265
        },
        "outputId": "74a701d9-1f8a-4e4c-e89b-ec132421ba26"
      },
      "execution_count": 34,
      "outputs": [
        {
          "output_type": "display_data",
          "data": {
            "text/plain": [
              "<Figure size 432x288 with 1 Axes>"
            ],
            "image/png": "[encoded data removed]"
          },
          "metadata": {
            "needs_background": "light"
          }
        }
      ]
    },
    {
      "cell_type": "markdown",
      "source": [
        "### Заметил закономерность - чем большее количество данных содержит тестовый датасет, тем лучше работает модель и точнее предсказания.  "
      ],
      "metadata": {
        "id": "AKtZt57RXe4a"
      }
    }
  ],
  "metadata": {
    "accelerator": "GPU",
    "colab": {
      "collapsed_sections": [],
      "provenance": [],
      "include_colab_link": true
    },
    "kernelspec": {
      "display_name": "Python 3",
      "language": "python",
      "name": "python3"
    },
    "language_info": {
      "codemirror_mode": {
        "name": "ipython",
        "version": 3
      },
      "file_extension": ".py",
      "mimetype": "text/x-python",
      "name": "python",
      "nbconvert_exporter": "python",
      "pygments_lexer": "ipython3",
      "version": "3.8.5"
    },
    "gpuClass": "standard"
  },
  "nbformat": 4,
  "nbformat_minor": 0
}