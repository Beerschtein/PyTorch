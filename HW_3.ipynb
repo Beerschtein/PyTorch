{
  "cells": [
    {
      "cell_type": "markdown",
      "metadata": {
        "id": "view-in-github",
        "colab_type": "text"
      },
      "source": [
        "<a href=\"https://colab.research.google.com/github/Beerschtein/PyTorch/blob/main/HW_3.ipynb\" target=\"_parent\"><img src=\"https://colab.research.google.com/assets/colab-badge.svg\" alt=\"Open In Colab\"/></a>"
      ]
    },
    {
      "cell_type": "markdown",
      "source": [
        "# Домашнее задание\n",
        "\n",
        "Будем практиковаться на датасете недвижимости (sklearn.datasets.fetch_california_housing)\n",
        "\n",
        "Ваша задача:\n",
        "1. Создать Dataset для загрузки данных\n",
        "2. Обернуть его в Dataloader\n",
        "3. Написать архитектуру сети, которая предсказывает стоимость недвижимости. Сеть должна включать BatchNorm слои и Dropout (или НЕ включать, но нужно обосновать)\n",
        "4. Сравните сходимость Adam, RMSProp и SGD, сделайте вывод по качеству работы модели\n",
        "\n",
        "train-test разделение нужно сделать с помощью sklearn random_state=13, test_size = 0.25"
      ],
      "metadata": {
        "id": "_1kh-e0oXz7V"
      }
    },
    {
      "cell_type": "markdown",
      "source": [
        "### Загрузим необходимые библиотеки"
      ],
      "metadata": {
        "id": "5kgc0IdjPoFS"
      }
    },
    {
      "cell_type": "code",
      "source": [
        "import math\n",
        "import numpy as np\n",
        "import pandas as pd\n",
        "from sklearn.preprocessing import StandardScaler\n",
        "from sklearn.model_selection import train_test_split\n",
        "from sklearn.metrics import mean_squared_error, mean_absolute_error\n",
        "from sklearn.datasets import fetch_california_housing\n",
        "\n",
        "import torch\n",
        "import torch.nn as nn\n",
        "import torch.nn.functional as F\n",
        "from torch.optim import SGD\n",
        "import torch.utils.data as Data\n",
        "import matplotlib.pyplot as plt\n",
        "import seaborn as sns"
      ],
      "metadata": {
        "id": "CTvVF9mP5_69"
      },
      "execution_count": 1,
      "outputs": []
    },
    {
      "cell_type": "markdown",
      "source": [
        "### Загрузим данные и разделим их на train и test"
      ],
      "metadata": {
        "id": "quQ5f6H_QH3w"
      }
    },
    {
      "cell_type": "code",
      "source": [
        "housedata = fetch_california_housing()\n",
        "\n",
        "X_train, X_test, y_train, y_test = train_test_split(housedata.data, housedata.target,\n",
        "                                                    test_size = 0.25, random_state = 13)"
      ],
      "metadata": {
        "id": "WrsdynNA6fd2"
      },
      "execution_count": 2,
      "outputs": []
    },
    {
      "cell_type": "markdown",
      "source": [
        "### Посмотрим на содержимое"
      ],
      "metadata": {
        "id": "tnj7wR62QTY9"
      }
    },
    {
      "cell_type": "code",
      "source": [
        "X_train, X_test, y_train, y_test"
      ],
      "metadata": {
        "colab": {
          "base_uri": "https://localhost:8080/"
        },
        "id": "N7Z_t6s166ks",
        "outputId": "8f2eb408-e5c6-4a70-e0e3-7fde0d123d39"
      },
      "execution_count": 3,
      "outputs": [
        {
          "output_type": "execute_result",
          "data": {
            "text/plain": [
              "(array([[   3.5174    ,   36.        ,    4.54794521, ...,    2.06544901,\n",
              "           34.21      , -118.23      ],\n",
              "        [   2.9728    ,   36.        ,    4.29946524, ...,    3.2540107 ,\n",
              "           34.18      , -118.37      ],\n",
              "        [   1.6944    ,   11.        ,   21.37209302, ...,    1.60465116,\n",
              "           40.19      , -121.08      ],\n",
              "        ...,\n",
              "        [   2.483     ,   20.        ,    6.27819549, ...,    2.18045113,\n",
              "           37.81      , -122.29      ],\n",
              "        [   6.0891    ,    5.        ,    5.46959459, ...,    3.59121622,\n",
              "           32.91      , -117.16      ],\n",
              "        [   2.2467    ,   46.        ,    5.94067797, ...,    3.78248588,\n",
              "           37.74      , -122.18      ]]),\n",
              " array([[   4.1528    ,   15.        ,    6.19327731, ...,    3.22689076,\n",
              "           35.34      , -119.08      ],\n",
              "        [   3.225     ,   21.        ,    4.51486989, ...,    1.87918216,\n",
              "           32.8       , -117.23      ],\n",
              "        [   3.0139    ,   18.        ,    6.46875   , ...,    2.44335938,\n",
              "           34.14      , -116.15      ],\n",
              "        ...,\n",
              "        [   4.8988    ,   13.        ,    5.11324376, ...,    2.81765835,\n",
              "           34.32      , -118.47      ],\n",
              "        [   1.9044    ,   52.        ,    4.47894737, ...,    3.84736842,\n",
              "           34.11      , -117.31      ],\n",
              "        [   1.7716    ,   29.        ,    4.1316166 , ...,    4.21888412,\n",
              "           35.24      , -118.91      ]]),\n",
              " array([2.68 , 1.902, 1.375, ..., 1.375, 2.146, 0.889]),\n",
              " array([1.301, 2.294, 0.826, ..., 3.252, 0.649, 0.455]))"
            ]
          },
          "metadata": {},
          "execution_count": 3
        }
      ]
    },
    {
      "cell_type": "markdown",
      "source": [
        "### Стандартизируем данные"
      ],
      "metadata": {
        "id": "ULUZ1fEHQf7x"
      }
    },
    {
      "cell_type": "code",
      "source": [
        "scale = StandardScaler()\n",
        "X_train_s = scale.fit_transform(X_train)\n",
        "X_test_s = scale.fit_transform(X_test)"
      ],
      "metadata": {
        "id": "eoueGIdP7HCE"
      },
      "execution_count": 4,
      "outputs": []
    },
    {
      "cell_type": "markdown",
      "source": [
        "### Для наглядности представим данные в виде таблицы"
      ],
      "metadata": {
        "id": "ZKffs-HBQvyj"
      }
    },
    {
      "cell_type": "code",
      "source": [
        "housedatadf = pd.DataFrame(data=X_train_s, columns = housedata.feature_names)\n",
        "housedatadf['target'] = y_train\n",
        "housedatadf"
      ],
      "metadata": {
        "colab": {
          "base_uri": "https://localhost:8080/",
          "height": 423
        },
        "id": "v24s3MT47L1q",
        "outputId": "178ea9c4-001e-4c5b-b0aa-113d61c28cee"
      },
      "execution_count": 5,
      "outputs": [
        {
          "output_type": "execute_result",
          "data": {
            "text/plain": [
              "         MedInc  HouseAge  AveRooms  AveBedrms  Population  AveOccup  \\\n",
              "0     -0.181483  0.579137 -0.340021  -0.004463   -0.065383 -0.087113   \n",
              "1     -0.468327  0.579137 -0.436304  -0.200565   -0.187060  0.012248   \n",
              "2     -1.141668 -1.409735  6.179161   7.136066   -1.184805 -0.125634   \n",
              "3     -0.077775  1.613350  0.300554   0.408878   -0.805871 -0.030340   \n",
              "4     -0.495137 -0.932406  0.266794   0.063914   -0.495596 -0.054477   \n",
              "...         ...       ...       ...        ...         ...       ...   \n",
              "15475  0.478689  1.852015  0.504611  -0.043365   -0.712875 -0.019584   \n",
              "15476  0.751049 -1.330180 -0.005753  -0.181779    1.741510  0.011972   \n",
              "15477 -0.726308 -0.693741  0.330433   0.230267   -0.992731 -0.077499   \n",
              "15478  1.173046 -1.887064  0.017109  -0.359009   -0.320904  0.040437   \n",
              "15479 -0.850768  1.374686  0.199649   0.016051   -0.081027  0.056427   \n",
              "\n",
              "       Latitude  Longitude  target  \n",
              "0     -0.671762   0.675607   2.680  \n",
              "1     -0.685728   0.605994   1.902  \n",
              "2      2.112156  -0.741514   1.375  \n",
              "3      1.339362  -1.666371   1.488  \n",
              "4      1.432470  -0.557537   1.413  \n",
              "...         ...        ...     ...  \n",
              "15475  1.004175  -1.313334   3.147  \n",
              "15476  0.892446  -1.218859   2.312  \n",
              "15477  1.004175  -1.343168   1.375  \n",
              "15478 -1.276962   1.207649   2.146  \n",
              "15479  0.971587  -1.288472   0.889  \n",
              "\n",
              "[15480 rows x 9 columns]"
            ],
            "text/html": [
              "\n",
              "  <div id=\"df-2325302f-c53b-47fd-8ccf-6a1932ca0296\">\n",
              "    <div class=\"colab-df-container\">\n",
              "      <div>\n",
              "<style scoped>\n",
              "    .dataframe tbody tr th:only-of-type {\n",
              "        vertical-align: middle;\n",
              "    }\n",
              "\n",
              "    .dataframe tbody tr th {\n",
              "        vertical-align: top;\n",
              "    }\n",
              "\n",
              "    .dataframe thead th {\n",
              "        text-align: right;\n",
              "    }\n",
              "</style>\n",
              "<table border=\"1\" class=\"dataframe\">\n",
              "  <thead>\n",
              "    <tr style=\"text-align: right;\">\n",
              "      <th></th>\n",
              "      <th>MedInc</th>\n",
              "      <th>HouseAge</th>\n",
              "      <th>AveRooms</th>\n",
              "      <th>AveBedrms</th>\n",
              "      <th>Population</th>\n",
              "      <th>AveOccup</th>\n",
              "      <th>Latitude</th>\n",
              "      <th>Longitude</th>\n",
              "      <th>target</th>\n",
              "    </tr>\n",
              "  </thead>\n",
              "  <tbody>\n",
              "    <tr>\n",
              "      <th>0</th>\n",
              "      <td>-0.181483</td>\n",
              "      <td>0.579137</td>\n",
              "      <td>-0.340021</td>\n",
              "      <td>-0.004463</td>\n",
              "      <td>-0.065383</td>\n",
              "      <td>-0.087113</td>\n",
              "      <td>-0.671762</td>\n",
              "      <td>0.675607</td>\n",
              "      <td>2.680</td>\n",
              "    </tr>\n",
              "    <tr>\n",
              "      <th>1</th>\n",
              "      <td>-0.468327</td>\n",
              "      <td>0.579137</td>\n",
              "      <td>-0.436304</td>\n",
              "      <td>-0.200565</td>\n",
              "      <td>-0.187060</td>\n",
              "      <td>0.012248</td>\n",
              "      <td>-0.685728</td>\n",
              "      <td>0.605994</td>\n",
              "      <td>1.902</td>\n",
              "    </tr>\n",
              "    <tr>\n",
              "      <th>2</th>\n",
              "      <td>-1.141668</td>\n",
              "      <td>-1.409735</td>\n",
              "      <td>6.179161</td>\n",
              "      <td>7.136066</td>\n",
              "      <td>-1.184805</td>\n",
              "      <td>-0.125634</td>\n",
              "      <td>2.112156</td>\n",
              "      <td>-0.741514</td>\n",
              "      <td>1.375</td>\n",
              "    </tr>\n",
              "    <tr>\n",
              "      <th>3</th>\n",
              "      <td>-0.077775</td>\n",
              "      <td>1.613350</td>\n",
              "      <td>0.300554</td>\n",
              "      <td>0.408878</td>\n",
              "      <td>-0.805871</td>\n",
              "      <td>-0.030340</td>\n",
              "      <td>1.339362</td>\n",
              "      <td>-1.666371</td>\n",
              "      <td>1.488</td>\n",
              "    </tr>\n",
              "    <tr>\n",
              "      <th>4</th>\n",
              "      <td>-0.495137</td>\n",
              "      <td>-0.932406</td>\n",
              "      <td>0.266794</td>\n",
              "      <td>0.063914</td>\n",
              "      <td>-0.495596</td>\n",
              "      <td>-0.054477</td>\n",
              "      <td>1.432470</td>\n",
              "      <td>-0.557537</td>\n",
              "      <td>1.413</td>\n",
              "    </tr>\n",
              "    <tr>\n",
              "      <th>...</th>\n",
              "      <td>...</td>\n",
              "      <td>...</td>\n",
              "      <td>...</td>\n",
              "      <td>...</td>\n",
              "      <td>...</td>\n",
              "      <td>...</td>\n",
              "      <td>...</td>\n",
              "      <td>...</td>\n",
              "      <td>...</td>\n",
              "    </tr>\n",
              "    <tr>\n",
              "      <th>15475</th>\n",
              "      <td>0.478689</td>\n",
              "      <td>1.852015</td>\n",
              "      <td>0.504611</td>\n",
              "      <td>-0.043365</td>\n",
              "      <td>-0.712875</td>\n",
              "      <td>-0.019584</td>\n",
              "      <td>1.004175</td>\n",
              "      <td>-1.313334</td>\n",
              "      <td>3.147</td>\n",
              "    </tr>\n",
              "    <tr>\n",
              "      <th>15476</th>\n",
              "      <td>0.751049</td>\n",
              "      <td>-1.330180</td>\n",
              "      <td>-0.005753</td>\n",
              "      <td>-0.181779</td>\n",
              "      <td>1.741510</td>\n",
              "      <td>0.011972</td>\n",
              "      <td>0.892446</td>\n",
              "      <td>-1.218859</td>\n",
              "      <td>2.312</td>\n",
              "    </tr>\n",
              "    <tr>\n",
              "      <th>15477</th>\n",
              "      <td>-0.726308</td>\n",
              "      <td>-0.693741</td>\n",
              "      <td>0.330433</td>\n",
              "      <td>0.230267</td>\n",
              "      <td>-0.992731</td>\n",
              "      <td>-0.077499</td>\n",
              "      <td>1.004175</td>\n",
              "      <td>-1.343168</td>\n",
              "      <td>1.375</td>\n",
              "    </tr>\n",
              "    <tr>\n",
              "      <th>15478</th>\n",
              "      <td>1.173046</td>\n",
              "      <td>-1.887064</td>\n",
              "      <td>0.017109</td>\n",
              "      <td>-0.359009</td>\n",
              "      <td>-0.320904</td>\n",
              "      <td>0.040437</td>\n",
              "      <td>-1.276962</td>\n",
              "      <td>1.207649</td>\n",
              "      <td>2.146</td>\n",
              "    </tr>\n",
              "    <tr>\n",
              "      <th>15479</th>\n",
              "      <td>-0.850768</td>\n",
              "      <td>1.374686</td>\n",
              "      <td>0.199649</td>\n",
              "      <td>0.016051</td>\n",
              "      <td>-0.081027</td>\n",
              "      <td>0.056427</td>\n",
              "      <td>0.971587</td>\n",
              "      <td>-1.288472</td>\n",
              "      <td>0.889</td>\n",
              "    </tr>\n",
              "  </tbody>\n",
              "</table>\n",
              "<p>15480 rows × 9 columns</p>\n",
              "</div>\n",
              "      <button class=\"colab-df-convert\" onclick=\"convertToInteractive('df-2325302f-c53b-47fd-8ccf-6a1932ca0296')\"\n",
              "              title=\"Convert this dataframe to an interactive table.\"\n",
              "              style=\"display:none;\">\n",
              "        \n",
              "  <svg xmlns=\"http://www.w3.org/2000/svg\" height=\"24px\"viewBox=\"0 0 24 24\"\n",
              "       width=\"24px\">\n",
              "    <path d=\"M0 0h24v24H0V0z\" fill=\"none\"/>\n",
              "    <path d=\"M18.56 5.44l.94 2.06.94-2.06 2.06-.94-2.06-.94-.94-2.06-.94 2.06-2.06.94zm-11 1L8.5 8.5l.94-2.06 2.06-.94-2.06-.94L8.5 2.5l-.94 2.06-2.06.94zm10 10l.94 2.06.94-2.06 2.06-.94-2.06-.94-.94-2.06-.94 2.06-2.06.94z\"/><path d=\"M17.41 7.96l-1.37-1.37c-.4-.4-.92-.59-1.43-.59-.52 0-1.04.2-1.43.59L10.3 9.45l-7.72 7.72c-.78.78-.78 2.05 0 2.83L4 21.41c.39.39.9.59 1.41.59.51 0 1.02-.2 1.41-.59l7.78-7.78 2.81-2.81c.8-.78.8-2.07 0-2.86zM5.41 20L4 18.59l7.72-7.72 1.47 1.35L5.41 20z\"/>\n",
              "  </svg>\n",
              "      </button>\n",
              "      \n",
              "  <style>\n",
              "    .colab-df-container {\n",
              "      display:flex;\n",
              "      flex-wrap:wrap;\n",
              "      gap: 12px;\n",
              "    }\n",
              "\n",
              "    .colab-df-convert {\n",
              "      background-color: #E8F0FE;\n",
              "      border: none;\n",
              "      border-radius: 50%;\n",
              "      cursor: pointer;\n",
              "      display: none;\n",
              "      fill: #1967D2;\n",
              "      height: 32px;\n",
              "      padding: 0 0 0 0;\n",
              "      width: 32px;\n",
              "    }\n",
              "\n",
              "    .colab-df-convert:hover {\n",
              "      background-color: #E2EBFA;\n",
              "      box-shadow: 0px 1px 2px rgba(60, 64, 67, 0.3), 0px 1px 3px 1px rgba(60, 64, 67, 0.15);\n",
              "      fill: #174EA6;\n",
              "    }\n",
              "\n",
              "    [theme=dark] .colab-df-convert {\n",
              "      background-color: #3B4455;\n",
              "      fill: #D2E3FC;\n",
              "    }\n",
              "\n",
              "    [theme=dark] .colab-df-convert:hover {\n",
              "      background-color: #434B5C;\n",
              "      box-shadow: 0px 1px 3px 1px rgba(0, 0, 0, 0.15);\n",
              "      filter: drop-shadow(0px 1px 2px rgba(0, 0, 0, 0.3));\n",
              "      fill: #FFFFFF;\n",
              "    }\n",
              "  </style>\n",
              "\n",
              "      <script>\n",
              "        const buttonEl =\n",
              "          document.querySelector('#df-2325302f-c53b-47fd-8ccf-6a1932ca0296 button.colab-df-convert');\n",
              "        buttonEl.style.display =\n",
              "          google.colab.kernel.accessAllowed ? 'block' : 'none';\n",
              "\n",
              "        async function convertToInteractive(key) {\n",
              "          const element = document.querySelector('#df-2325302f-c53b-47fd-8ccf-6a1932ca0296');\n",
              "          const dataTable =\n",
              "            await google.colab.kernel.invokeFunction('convertToInteractive',\n",
              "                                                     [key], {});\n",
              "          if (!dataTable) return;\n",
              "\n",
              "          const docLinkHtml = 'Like what you see? Visit the ' +\n",
              "            '<a target=\"_blank\" href=https://colab.research.google.com/notebooks/data_table.ipynb>data table notebook</a>'\n",
              "            + ' to learn more about interactive tables.';\n",
              "          element.innerHTML = '';\n",
              "          dataTable['output_type'] = 'display_data';\n",
              "          await google.colab.output.renderOutput(dataTable, element);\n",
              "          const docLink = document.createElement('div');\n",
              "          docLink.innerHTML = docLinkHtml;\n",
              "          element.appendChild(docLink);\n",
              "        }\n",
              "      </script>\n",
              "    </div>\n",
              "  </div>\n",
              "  "
            ]
          },
          "metadata": {},
          "execution_count": 5
        }
      ]
    },
    {
      "cell_type": "markdown",
      "source": [
        "### Проделаем то же самое с тестовым датасетом"
      ],
      "metadata": {
        "id": "pKF-SqTrQ_V_"
      }
    },
    {
      "cell_type": "code",
      "source": [
        "housedatadf_test = pd.DataFrame(data=X_test_s, columns = housedata.feature_names)\n",
        "housedatadf_test['target'] = y_test\n",
        "housedatadf_test"
      ],
      "metadata": {
        "colab": {
          "base_uri": "https://localhost:8080/",
          "height": 423
        },
        "id": "PHHTY5rUCfH4",
        "outputId": "18d0c98d-e477-47e6-f744-5ff1934d744d"
      },
      "execution_count": 6,
      "outputs": [
        {
          "output_type": "execute_result",
          "data": {
            "text/plain": [
              "        MedInc  HouseAge  AveRooms  AveBedrms  Population  AveOccup  Latitude  \\\n",
              "0     0.134522 -1.060906  0.355074  -0.270845   -0.592284  0.181330 -0.108929   \n",
              "1    -0.353004 -0.585770 -0.435738  -0.051318   -0.366419 -0.734724 -1.319750   \n",
              "2    -0.463929 -0.823338  0.484867   0.692060   -0.143343 -0.351246 -0.680971   \n",
              "3    -1.380287 -0.031446 -0.361245   0.087657   -0.442637 -0.305399  2.784648   \n",
              "4     0.407658 -1.773609  0.136935  -0.157295   -0.405458 -0.016145  0.591822   \n",
              "...        ...       ...       ...        ...         ...       ...       ...   \n",
              "5155 -0.044293  0.047744 -0.377470   0.083626    0.096464 -0.569431 -0.618999   \n",
              "5156 -0.380013  0.839636 -0.035600  -0.298385   -0.417541 -0.297503 -0.066026   \n",
              "5157  0.526518 -1.219284 -0.153803  -0.253921    0.058355 -0.096831 -0.595164   \n",
              "5158 -1.046932  1.869097 -0.452663  -0.239688   -0.626675  0.603076 -0.695272   \n",
              "5159 -1.116714  0.047744 -0.616314  -0.048735    1.434920  0.855599 -0.156599   \n",
              "\n",
              "      Longitude  target  \n",
              "0      0.218581   1.301  \n",
              "1      1.153256   2.294  \n",
              "2      1.698904   0.826  \n",
              "3     -1.443624   0.531  \n",
              "4     -0.180550   1.078  \n",
              "...         ...     ...  \n",
              "5155   0.142797   2.445  \n",
              "5156   0.248895   0.707  \n",
              "5157   0.526771   3.252  \n",
              "5158   1.112838   0.649  \n",
              "5159   0.304470   0.455  \n",
              "\n",
              "[5160 rows x 9 columns]"
            ],
            "text/html": [
              "\n",
              "  <div id=\"df-21006307-2556-43f3-9063-d6d3c18614dd\">\n",
              "    <div class=\"colab-df-container\">\n",
              "      <div>\n",
              "<style scoped>\n",
              "    .dataframe tbody tr th:only-of-type {\n",
              "        vertical-align: middle;\n",
              "    }\n",
              "\n",
              "    .dataframe tbody tr th {\n",
              "        vertical-align: top;\n",
              "    }\n",
              "\n",
              "    .dataframe thead th {\n",
              "        text-align: right;\n",
              "    }\n",
              "</style>\n",
              "<table border=\"1\" class=\"dataframe\">\n",
              "  <thead>\n",
              "    <tr style=\"text-align: right;\">\n",
              "      <th></th>\n",
              "      <th>MedInc</th>\n",
              "      <th>HouseAge</th>\n",
              "      <th>AveRooms</th>\n",
              "      <th>AveBedrms</th>\n",
              "      <th>Population</th>\n",
              "      <th>AveOccup</th>\n",
              "      <th>Latitude</th>\n",
              "      <th>Longitude</th>\n",
              "      <th>target</th>\n",
              "    </tr>\n",
              "  </thead>\n",
              "  <tbody>\n",
              "    <tr>\n",
              "      <th>0</th>\n",
              "      <td>0.134522</td>\n",
              "      <td>-1.060906</td>\n",
              "      <td>0.355074</td>\n",
              "      <td>-0.270845</td>\n",
              "      <td>-0.592284</td>\n",
              "      <td>0.181330</td>\n",
              "      <td>-0.108929</td>\n",
              "      <td>0.218581</td>\n",
              "      <td>1.301</td>\n",
              "    </tr>\n",
              "    <tr>\n",
              "      <th>1</th>\n",
              "      <td>-0.353004</td>\n",
              "      <td>-0.585770</td>\n",
              "      <td>-0.435738</td>\n",
              "      <td>-0.051318</td>\n",
              "      <td>-0.366419</td>\n",
              "      <td>-0.734724</td>\n",
              "      <td>-1.319750</td>\n",
              "      <td>1.153256</td>\n",
              "      <td>2.294</td>\n",
              "    </tr>\n",
              "    <tr>\n",
              "      <th>2</th>\n",
              "      <td>-0.463929</td>\n",
              "      <td>-0.823338</td>\n",
              "      <td>0.484867</td>\n",
              "      <td>0.692060</td>\n",
              "      <td>-0.143343</td>\n",
              "      <td>-0.351246</td>\n",
              "      <td>-0.680971</td>\n",
              "      <td>1.698904</td>\n",
              "      <td>0.826</td>\n",
              "    </tr>\n",
              "    <tr>\n",
              "      <th>3</th>\n",
              "      <td>-1.380287</td>\n",
              "      <td>-0.031446</td>\n",
              "      <td>-0.361245</td>\n",
              "      <td>0.087657</td>\n",
              "      <td>-0.442637</td>\n",
              "      <td>-0.305399</td>\n",
              "      <td>2.784648</td>\n",
              "      <td>-1.443624</td>\n",
              "      <td>0.531</td>\n",
              "    </tr>\n",
              "    <tr>\n",
              "      <th>4</th>\n",
              "      <td>0.407658</td>\n",
              "      <td>-1.773609</td>\n",
              "      <td>0.136935</td>\n",
              "      <td>-0.157295</td>\n",
              "      <td>-0.405458</td>\n",
              "      <td>-0.016145</td>\n",
              "      <td>0.591822</td>\n",
              "      <td>-0.180550</td>\n",
              "      <td>1.078</td>\n",
              "    </tr>\n",
              "    <tr>\n",
              "      <th>...</th>\n",
              "      <td>...</td>\n",
              "      <td>...</td>\n",
              "      <td>...</td>\n",
              "      <td>...</td>\n",
              "      <td>...</td>\n",
              "      <td>...</td>\n",
              "      <td>...</td>\n",
              "      <td>...</td>\n",
              "      <td>...</td>\n",
              "    </tr>\n",
              "    <tr>\n",
              "      <th>5155</th>\n",
              "      <td>-0.044293</td>\n",
              "      <td>0.047744</td>\n",
              "      <td>-0.377470</td>\n",
              "      <td>0.083626</td>\n",
              "      <td>0.096464</td>\n",
              "      <td>-0.569431</td>\n",
              "      <td>-0.618999</td>\n",
              "      <td>0.142797</td>\n",
              "      <td>2.445</td>\n",
              "    </tr>\n",
              "    <tr>\n",
              "      <th>5156</th>\n",
              "      <td>-0.380013</td>\n",
              "      <td>0.839636</td>\n",
              "      <td>-0.035600</td>\n",
              "      <td>-0.298385</td>\n",
              "      <td>-0.417541</td>\n",
              "      <td>-0.297503</td>\n",
              "      <td>-0.066026</td>\n",
              "      <td>0.248895</td>\n",
              "      <td>0.707</td>\n",
              "    </tr>\n",
              "    <tr>\n",
              "      <th>5157</th>\n",
              "      <td>0.526518</td>\n",
              "      <td>-1.219284</td>\n",
              "      <td>-0.153803</td>\n",
              "      <td>-0.253921</td>\n",
              "      <td>0.058355</td>\n",
              "      <td>-0.096831</td>\n",
              "      <td>-0.595164</td>\n",
              "      <td>0.526771</td>\n",
              "      <td>3.252</td>\n",
              "    </tr>\n",
              "    <tr>\n",
              "      <th>5158</th>\n",
              "      <td>-1.046932</td>\n",
              "      <td>1.869097</td>\n",
              "      <td>-0.452663</td>\n",
              "      <td>-0.239688</td>\n",
              "      <td>-0.626675</td>\n",
              "      <td>0.603076</td>\n",
              "      <td>-0.695272</td>\n",
              "      <td>1.112838</td>\n",
              "      <td>0.649</td>\n",
              "    </tr>\n",
              "    <tr>\n",
              "      <th>5159</th>\n",
              "      <td>-1.116714</td>\n",
              "      <td>0.047744</td>\n",
              "      <td>-0.616314</td>\n",
              "      <td>-0.048735</td>\n",
              "      <td>1.434920</td>\n",
              "      <td>0.855599</td>\n",
              "      <td>-0.156599</td>\n",
              "      <td>0.304470</td>\n",
              "      <td>0.455</td>\n",
              "    </tr>\n",
              "  </tbody>\n",
              "</table>\n",
              "<p>5160 rows × 9 columns</p>\n",
              "</div>\n",
              "      <button class=\"colab-df-convert\" onclick=\"convertToInteractive('df-21006307-2556-43f3-9063-d6d3c18614dd')\"\n",
              "              title=\"Convert this dataframe to an interactive table.\"\n",
              "              style=\"display:none;\">\n",
              "        \n",
              "  <svg xmlns=\"http://www.w3.org/2000/svg\" height=\"24px\"viewBox=\"0 0 24 24\"\n",
              "       width=\"24px\">\n",
              "    <path d=\"M0 0h24v24H0V0z\" fill=\"none\"/>\n",
              "    <path d=\"M18.56 5.44l.94 2.06.94-2.06 2.06-.94-2.06-.94-.94-2.06-.94 2.06-2.06.94zm-11 1L8.5 8.5l.94-2.06 2.06-.94-2.06-.94L8.5 2.5l-.94 2.06-2.06.94zm10 10l.94 2.06.94-2.06 2.06-.94-2.06-.94-.94-2.06-.94 2.06-2.06.94z\"/><path d=\"M17.41 7.96l-1.37-1.37c-.4-.4-.92-.59-1.43-.59-.52 0-1.04.2-1.43.59L10.3 9.45l-7.72 7.72c-.78.78-.78 2.05 0 2.83L4 21.41c.39.39.9.59 1.41.59.51 0 1.02-.2 1.41-.59l7.78-7.78 2.81-2.81c.8-.78.8-2.07 0-2.86zM5.41 20L4 18.59l7.72-7.72 1.47 1.35L5.41 20z\"/>\n",
              "  </svg>\n",
              "      </button>\n",
              "      \n",
              "  <style>\n",
              "    .colab-df-container {\n",
              "      display:flex;\n",
              "      flex-wrap:wrap;\n",
              "      gap: 12px;\n",
              "    }\n",
              "\n",
              "    .colab-df-convert {\n",
              "      background-color: #E8F0FE;\n",
              "      border: none;\n",
              "      border-radius: 50%;\n",
              "      cursor: pointer;\n",
              "      display: none;\n",
              "      fill: #1967D2;\n",
              "      height: 32px;\n",
              "      padding: 0 0 0 0;\n",
              "      width: 32px;\n",
              "    }\n",
              "\n",
              "    .colab-df-convert:hover {\n",
              "      background-color: #E2EBFA;\n",
              "      box-shadow: 0px 1px 2px rgba(60, 64, 67, 0.3), 0px 1px 3px 1px rgba(60, 64, 67, 0.15);\n",
              "      fill: #174EA6;\n",
              "    }\n",
              "\n",
              "    [theme=dark] .colab-df-convert {\n",
              "      background-color: #3B4455;\n",
              "      fill: #D2E3FC;\n",
              "    }\n",
              "\n",
              "    [theme=dark] .colab-df-convert:hover {\n",
              "      background-color: #434B5C;\n",
              "      box-shadow: 0px 1px 3px 1px rgba(0, 0, 0, 0.15);\n",
              "      filter: drop-shadow(0px 1px 2px rgba(0, 0, 0, 0.3));\n",
              "      fill: #FFFFFF;\n",
              "    }\n",
              "  </style>\n",
              "\n",
              "      <script>\n",
              "        const buttonEl =\n",
              "          document.querySelector('#df-21006307-2556-43f3-9063-d6d3c18614dd button.colab-df-convert');\n",
              "        buttonEl.style.display =\n",
              "          google.colab.kernel.accessAllowed ? 'block' : 'none';\n",
              "\n",
              "        async function convertToInteractive(key) {\n",
              "          const element = document.querySelector('#df-21006307-2556-43f3-9063-d6d3c18614dd');\n",
              "          const dataTable =\n",
              "            await google.colab.kernel.invokeFunction('convertToInteractive',\n",
              "                                                     [key], {});\n",
              "          if (!dataTable) return;\n",
              "\n",
              "          const docLinkHtml = 'Like what you see? Visit the ' +\n",
              "            '<a target=\"_blank\" href=https://colab.research.google.com/notebooks/data_table.ipynb>data table notebook</a>'\n",
              "            + ' to learn more about interactive tables.';\n",
              "          element.innerHTML = '';\n",
              "          dataTable['output_type'] = 'display_data';\n",
              "          await google.colab.output.renderOutput(dataTable, element);\n",
              "          const docLink = document.createElement('div');\n",
              "          docLink.innerHTML = docLinkHtml;\n",
              "          element.appendChild(docLink);\n",
              "        }\n",
              "      </script>\n",
              "    </div>\n",
              "  </div>\n",
              "  "
            ]
          },
          "metadata": {},
          "execution_count": 6
        }
      ]
    },
    {
      "cell_type": "code",
      "source": [
        "housedatadf.describe()"
      ],
      "metadata": {
        "colab": {
          "base_uri": "https://localhost:8080/",
          "height": 377
        },
        "id": "WosyzyyvAd1x",
        "outputId": "3b2c13f2-fa46-431e-b5a7-e7f2ecfca455"
      },
      "execution_count": 7,
      "outputs": [
        {
          "output_type": "execute_result",
          "data": {
            "text/plain": [
              "             MedInc      HouseAge      AveRooms     AveBedrms    Population  \\\n",
              "count  1.548000e+04  1.548000e+04  1.548000e+04  1.548000e+04  1.548000e+04   \n",
              "mean  -1.178213e-14  3.695006e-17 -1.921954e-14  3.566025e-15 -8.560479e-17   \n",
              "std    1.000032e+00  1.000032e+00  1.000032e+00  1.000032e+00  1.000032e+00   \n",
              "min   -1.770818e+00 -2.205284e+00 -1.664270e+00 -1.542353e+00 -1.240429e+00   \n",
              "25%   -6.877530e-01 -8.528508e-01 -3.814381e-01 -1.820607e-01 -5.555650e-01   \n",
              "50%   -1.783232e-01  2.225275e-02 -7.715834e-02 -9.748002e-02 -2.274735e-01   \n",
              "75%    4.626776e-01  6.586917e-01  2.407799e-01  5.638010e-03  2.631427e-01   \n",
              "max    5.866520e+00  1.852015e+00  5.288599e+01  6.662553e+01  2.976704e+01   \n",
              "\n",
              "           AveOccup      Latitude     Longitude        target  \n",
              "count  1.548000e+04  1.548000e+04  1.548000e+04  15480.000000  \n",
              "mean   2.363886e-17 -3.484276e-14 -5.013086e-13      2.066570  \n",
              "std    1.000032e+00  1.000032e+00  1.000032e+00      1.151101  \n",
              "min   -2.019031e-01 -1.449211e+00 -2.367473e+00      0.149990  \n",
              "25%   -5.660580e-02 -8.021129e-01 -1.109468e+00      1.198000  \n",
              "50%   -2.401930e-02 -6.484853e-01  5.363810e-01      1.799500  \n",
              "75%    1.441111e-02  9.669320e-01  7.849986e-01      2.649000  \n",
              "max    1.036793e+02  2.931503e+00  2.624769e+00      5.000010  "
            ],
            "text/html": [
              "\n",
              "  <div id=\"df-38652af0-22e9-4a0a-a777-8b912b9b418f\">\n",
              "    <div class=\"colab-df-container\">\n",
              "      <div>\n",
              "<style scoped>\n",
              "    .dataframe tbody tr th:only-of-type {\n",
              "        vertical-align: middle;\n",
              "    }\n",
              "\n",
              "    .dataframe tbody tr th {\n",
              "        vertical-align: top;\n",
              "    }\n",
              "\n",
              "    .dataframe thead th {\n",
              "        text-align: right;\n",
              "    }\n",
              "</style>\n",
              "<table border=\"1\" class=\"dataframe\">\n",
              "  <thead>\n",
              "    <tr style=\"text-align: right;\">\n",
              "      <th></th>\n",
              "      <th>MedInc</th>\n",
              "      <th>HouseAge</th>\n",
              "      <th>AveRooms</th>\n",
              "      <th>AveBedrms</th>\n",
              "      <th>Population</th>\n",
              "      <th>AveOccup</th>\n",
              "      <th>Latitude</th>\n",
              "      <th>Longitude</th>\n",
              "      <th>target</th>\n",
              "    </tr>\n",
              "  </thead>\n",
              "  <tbody>\n",
              "    <tr>\n",
              "      <th>count</th>\n",
              "      <td>1.548000e+04</td>\n",
              "      <td>1.548000e+04</td>\n",
              "      <td>1.548000e+04</td>\n",
              "      <td>1.548000e+04</td>\n",
              "      <td>1.548000e+04</td>\n",
              "      <td>1.548000e+04</td>\n",
              "      <td>1.548000e+04</td>\n",
              "      <td>1.548000e+04</td>\n",
              "      <td>15480.000000</td>\n",
              "    </tr>\n",
              "    <tr>\n",
              "      <th>mean</th>\n",
              "      <td>-1.178213e-14</td>\n",
              "      <td>3.695006e-17</td>\n",
              "      <td>-1.921954e-14</td>\n",
              "      <td>3.566025e-15</td>\n",
              "      <td>-8.560479e-17</td>\n",
              "      <td>2.363886e-17</td>\n",
              "      <td>-3.484276e-14</td>\n",
              "      <td>-5.013086e-13</td>\n",
              "      <td>2.066570</td>\n",
              "    </tr>\n",
              "    <tr>\n",
              "      <th>std</th>\n",
              "      <td>1.000032e+00</td>\n",
              "      <td>1.000032e+00</td>\n",
              "      <td>1.000032e+00</td>\n",
              "      <td>1.000032e+00</td>\n",
              "      <td>1.000032e+00</td>\n",
              "      <td>1.000032e+00</td>\n",
              "      <td>1.000032e+00</td>\n",
              "      <td>1.000032e+00</td>\n",
              "      <td>1.151101</td>\n",
              "    </tr>\n",
              "    <tr>\n",
              "      <th>min</th>\n",
              "      <td>-1.770818e+00</td>\n",
              "      <td>-2.205284e+00</td>\n",
              "      <td>-1.664270e+00</td>\n",
              "      <td>-1.542353e+00</td>\n",
              "      <td>-1.240429e+00</td>\n",
              "      <td>-2.019031e-01</td>\n",
              "      <td>-1.449211e+00</td>\n",
              "      <td>-2.367473e+00</td>\n",
              "      <td>0.149990</td>\n",
              "    </tr>\n",
              "    <tr>\n",
              "      <th>25%</th>\n",
              "      <td>-6.877530e-01</td>\n",
              "      <td>-8.528508e-01</td>\n",
              "      <td>-3.814381e-01</td>\n",
              "      <td>-1.820607e-01</td>\n",
              "      <td>-5.555650e-01</td>\n",
              "      <td>-5.660580e-02</td>\n",
              "      <td>-8.021129e-01</td>\n",
              "      <td>-1.109468e+00</td>\n",
              "      <td>1.198000</td>\n",
              "    </tr>\n",
              "    <tr>\n",
              "      <th>50%</th>\n",
              "      <td>-1.783232e-01</td>\n",
              "      <td>2.225275e-02</td>\n",
              "      <td>-7.715834e-02</td>\n",
              "      <td>-9.748002e-02</td>\n",
              "      <td>-2.274735e-01</td>\n",
              "      <td>-2.401930e-02</td>\n",
              "      <td>-6.484853e-01</td>\n",
              "      <td>5.363810e-01</td>\n",
              "      <td>1.799500</td>\n",
              "    </tr>\n",
              "    <tr>\n",
              "      <th>75%</th>\n",
              "      <td>4.626776e-01</td>\n",
              "      <td>6.586917e-01</td>\n",
              "      <td>2.407799e-01</td>\n",
              "      <td>5.638010e-03</td>\n",
              "      <td>2.631427e-01</td>\n",
              "      <td>1.441111e-02</td>\n",
              "      <td>9.669320e-01</td>\n",
              "      <td>7.849986e-01</td>\n",
              "      <td>2.649000</td>\n",
              "    </tr>\n",
              "    <tr>\n",
              "      <th>max</th>\n",
              "      <td>5.866520e+00</td>\n",
              "      <td>1.852015e+00</td>\n",
              "      <td>5.288599e+01</td>\n",
              "      <td>6.662553e+01</td>\n",
              "      <td>2.976704e+01</td>\n",
              "      <td>1.036793e+02</td>\n",
              "      <td>2.931503e+00</td>\n",
              "      <td>2.624769e+00</td>\n",
              "      <td>5.000010</td>\n",
              "    </tr>\n",
              "  </tbody>\n",
              "</table>\n",
              "</div>\n",
              "      <button class=\"colab-df-convert\" onclick=\"convertToInteractive('df-38652af0-22e9-4a0a-a777-8b912b9b418f')\"\n",
              "              title=\"Convert this dataframe to an interactive table.\"\n",
              "              style=\"display:none;\">\n",
              "        \n",
              "  <svg xmlns=\"http://www.w3.org/2000/svg\" height=\"24px\"viewBox=\"0 0 24 24\"\n",
              "       width=\"24px\">\n",
              "    <path d=\"M0 0h24v24H0V0z\" fill=\"none\"/>\n",
              "    <path d=\"M18.56 5.44l.94 2.06.94-2.06 2.06-.94-2.06-.94-.94-2.06-.94 2.06-2.06.94zm-11 1L8.5 8.5l.94-2.06 2.06-.94-2.06-.94L8.5 2.5l-.94 2.06-2.06.94zm10 10l.94 2.06.94-2.06 2.06-.94-2.06-.94-.94-2.06-.94 2.06-2.06.94z\"/><path d=\"M17.41 7.96l-1.37-1.37c-.4-.4-.92-.59-1.43-.59-.52 0-1.04.2-1.43.59L10.3 9.45l-7.72 7.72c-.78.78-.78 2.05 0 2.83L4 21.41c.39.39.9.59 1.41.59.51 0 1.02-.2 1.41-.59l7.78-7.78 2.81-2.81c.8-.78.8-2.07 0-2.86zM5.41 20L4 18.59l7.72-7.72 1.47 1.35L5.41 20z\"/>\n",
              "  </svg>\n",
              "      </button>\n",
              "      \n",
              "  <style>\n",
              "    .colab-df-container {\n",
              "      display:flex;\n",
              "      flex-wrap:wrap;\n",
              "      gap: 12px;\n",
              "    }\n",
              "\n",
              "    .colab-df-convert {\n",
              "      background-color: #E8F0FE;\n",
              "      border: none;\n",
              "      border-radius: 50%;\n",
              "      cursor: pointer;\n",
              "      display: none;\n",
              "      fill: #1967D2;\n",
              "      height: 32px;\n",
              "      padding: 0 0 0 0;\n",
              "      width: 32px;\n",
              "    }\n",
              "\n",
              "    .colab-df-convert:hover {\n",
              "      background-color: #E2EBFA;\n",
              "      box-shadow: 0px 1px 2px rgba(60, 64, 67, 0.3), 0px 1px 3px 1px rgba(60, 64, 67, 0.15);\n",
              "      fill: #174EA6;\n",
              "    }\n",
              "\n",
              "    [theme=dark] .colab-df-convert {\n",
              "      background-color: #3B4455;\n",
              "      fill: #D2E3FC;\n",
              "    }\n",
              "\n",
              "    [theme=dark] .colab-df-convert:hover {\n",
              "      background-color: #434B5C;\n",
              "      box-shadow: 0px 1px 3px 1px rgba(0, 0, 0, 0.15);\n",
              "      filter: drop-shadow(0px 1px 2px rgba(0, 0, 0, 0.3));\n",
              "      fill: #FFFFFF;\n",
              "    }\n",
              "  </style>\n",
              "\n",
              "      <script>\n",
              "        const buttonEl =\n",
              "          document.querySelector('#df-38652af0-22e9-4a0a-a777-8b912b9b418f button.colab-df-convert');\n",
              "        buttonEl.style.display =\n",
              "          google.colab.kernel.accessAllowed ? 'block' : 'none';\n",
              "\n",
              "        async function convertToInteractive(key) {\n",
              "          const element = document.querySelector('#df-38652af0-22e9-4a0a-a777-8b912b9b418f');\n",
              "          const dataTable =\n",
              "            await google.colab.kernel.invokeFunction('convertToInteractive',\n",
              "                                                     [key], {});\n",
              "          if (!dataTable) return;\n",
              "\n",
              "          const docLinkHtml = 'Like what you see? Visit the ' +\n",
              "            '<a target=\"_blank\" href=https://colab.research.google.com/notebooks/data_table.ipynb>data table notebook</a>'\n",
              "            + ' to learn more about interactive tables.';\n",
              "          element.innerHTML = '';\n",
              "          dataTable['output_type'] = 'display_data';\n",
              "          await google.colab.output.renderOutput(dataTable, element);\n",
              "          const docLink = document.createElement('div');\n",
              "          docLink.innerHTML = docLinkHtml;\n",
              "          element.appendChild(docLink);\n",
              "        }\n",
              "      </script>\n",
              "    </div>\n",
              "  </div>\n",
              "  "
            ]
          },
          "metadata": {},
          "execution_count": 7
        },
        {
          "output_type": "stream",
          "name": "stdout",
          "text": [
            "Error: Runtime no longer has a reference to this dataframe, please re-run this cell and try again.\n",
            "Error: Runtime no longer has a reference to this dataframe, please re-run this cell and try again.\n",
            "Error: Runtime no longer has a reference to this dataframe, please re-run this cell and try again.\n"
          ]
        }
      ]
    },
    {
      "cell_type": "code",
      "source": [
        "housedatadf_test.describe()"
      ],
      "metadata": {
        "colab": {
          "base_uri": "https://localhost:8080/",
          "height": 300
        },
        "id": "pzisiwWBDWN3",
        "outputId": "d2078811-cfc8-4786-a040-2ae7925a523e"
      },
      "execution_count": 8,
      "outputs": [
        {
          "output_type": "execute_result",
          "data": {
            "text/plain": [
              "             MedInc      HouseAge      AveRooms     AveBedrms    Population  \\\n",
              "count  5.160000e+03  5.160000e+03  5.160000e+03  5.160000e+03  5.160000e+03   \n",
              "mean   1.221762e-15  5.921189e-17  1.401463e-15 -3.118952e-15  2.323723e-17   \n",
              "std    1.000097e+00  1.000097e+00  1.000097e+00  1.000097e+00  1.000097e+00   \n",
              "min   -1.784947e+00 -2.169555e+00 -2.164318e+00 -1.612905e+00 -1.303339e+00   \n",
              "25%   -6.882763e-01 -8.233381e-01 -4.708069e-01 -2.282050e-01 -5.894954e-01   \n",
              "50%   -1.683030e-01  4.774376e-02 -9.555566e-02 -1.170101e-01 -2.325736e-01   \n",
              "75%    4.483293e-01  6.812578e-01  3.024169e-01  7.490566e-03  2.739951e-01   \n",
              "max    5.834391e+00  1.869097e+00  2.139015e+01  2.492762e+01  1.367901e+01   \n",
              "\n",
              "           AveOccup      Latitude     Longitude       target  \n",
              "count  5.160000e+03  5.160000e+03  5.160000e+03  5160.000000  \n",
              "mean  -1.098863e-15  3.162191e-14  2.162198e-14     2.074522  \n",
              "std    1.000097e+00  1.000097e+00  1.000097e+00     1.162572  \n",
              "min   -1.502243e+00 -1.434158e+00 -2.403561e+00     0.149990  \n",
              "25%   -3.608522e-01 -7.810778e-01 -1.084911e+00     1.194000  \n",
              "50%   -9.938635e-02 -6.333004e-01  5.267714e-01     1.792500  \n",
              "75%    2.239654e-01  1.001785e+00  7.642294e-01     2.644750  \n",
              "max    5.452060e+01  2.999163e+00  2.547690e+00     5.000010  "
            ],
            "text/html": [
              "\n",
              "  <div id=\"df-c138a576-8b79-4148-9a3f-8dc6b7aac87d\">\n",
              "    <div class=\"colab-df-container\">\n",
              "      <div>\n",
              "<style scoped>\n",
              "    .dataframe tbody tr th:only-of-type {\n",
              "        vertical-align: middle;\n",
              "    }\n",
              "\n",
              "    .dataframe tbody tr th {\n",
              "        vertical-align: top;\n",
              "    }\n",
              "\n",
              "    .dataframe thead th {\n",
              "        text-align: right;\n",
              "    }\n",
              "</style>\n",
              "<table border=\"1\" class=\"dataframe\">\n",
              "  <thead>\n",
              "    <tr style=\"text-align: right;\">\n",
              "      <th></th>\n",
              "      <th>MedInc</th>\n",
              "      <th>HouseAge</th>\n",
              "      <th>AveRooms</th>\n",
              "      <th>AveBedrms</th>\n",
              "      <th>Population</th>\n",
              "      <th>AveOccup</th>\n",
              "      <th>Latitude</th>\n",
              "      <th>Longitude</th>\n",
              "      <th>target</th>\n",
              "    </tr>\n",
              "  </thead>\n",
              "  <tbody>\n",
              "    <tr>\n",
              "      <th>count</th>\n",
              "      <td>5.160000e+03</td>\n",
              "      <td>5.160000e+03</td>\n",
              "      <td>5.160000e+03</td>\n",
              "      <td>5.160000e+03</td>\n",
              "      <td>5.160000e+03</td>\n",
              "      <td>5.160000e+03</td>\n",
              "      <td>5.160000e+03</td>\n",
              "      <td>5.160000e+03</td>\n",
              "      <td>5160.000000</td>\n",
              "    </tr>\n",
              "    <tr>\n",
              "      <th>mean</th>\n",
              "      <td>1.221762e-15</td>\n",
              "      <td>5.921189e-17</td>\n",
              "      <td>1.401463e-15</td>\n",
              "      <td>-3.118952e-15</td>\n",
              "      <td>2.323723e-17</td>\n",
              "      <td>-1.098863e-15</td>\n",
              "      <td>3.162191e-14</td>\n",
              "      <td>2.162198e-14</td>\n",
              "      <td>2.074522</td>\n",
              "    </tr>\n",
              "    <tr>\n",
              "      <th>std</th>\n",
              "      <td>1.000097e+00</td>\n",
              "      <td>1.000097e+00</td>\n",
              "      <td>1.000097e+00</td>\n",
              "      <td>1.000097e+00</td>\n",
              "      <td>1.000097e+00</td>\n",
              "      <td>1.000097e+00</td>\n",
              "      <td>1.000097e+00</td>\n",
              "      <td>1.000097e+00</td>\n",
              "      <td>1.162572</td>\n",
              "    </tr>\n",
              "    <tr>\n",
              "      <th>min</th>\n",
              "      <td>-1.784947e+00</td>\n",
              "      <td>-2.169555e+00</td>\n",
              "      <td>-2.164318e+00</td>\n",
              "      <td>-1.612905e+00</td>\n",
              "      <td>-1.303339e+00</td>\n",
              "      <td>-1.502243e+00</td>\n",
              "      <td>-1.434158e+00</td>\n",
              "      <td>-2.403561e+00</td>\n",
              "      <td>0.149990</td>\n",
              "    </tr>\n",
              "    <tr>\n",
              "      <th>25%</th>\n",
              "      <td>-6.882763e-01</td>\n",
              "      <td>-8.233381e-01</td>\n",
              "      <td>-4.708069e-01</td>\n",
              "      <td>-2.282050e-01</td>\n",
              "      <td>-5.894954e-01</td>\n",
              "      <td>-3.608522e-01</td>\n",
              "      <td>-7.810778e-01</td>\n",
              "      <td>-1.084911e+00</td>\n",
              "      <td>1.194000</td>\n",
              "    </tr>\n",
              "    <tr>\n",
              "      <th>50%</th>\n",
              "      <td>-1.683030e-01</td>\n",
              "      <td>4.774376e-02</td>\n",
              "      <td>-9.555566e-02</td>\n",
              "      <td>-1.170101e-01</td>\n",
              "      <td>-2.325736e-01</td>\n",
              "      <td>-9.938635e-02</td>\n",
              "      <td>-6.333004e-01</td>\n",
              "      <td>5.267714e-01</td>\n",
              "      <td>1.792500</td>\n",
              "    </tr>\n",
              "    <tr>\n",
              "      <th>75%</th>\n",
              "      <td>4.483293e-01</td>\n",
              "      <td>6.812578e-01</td>\n",
              "      <td>3.024169e-01</td>\n",
              "      <td>7.490566e-03</td>\n",
              "      <td>2.739951e-01</td>\n",
              "      <td>2.239654e-01</td>\n",
              "      <td>1.001785e+00</td>\n",
              "      <td>7.642294e-01</td>\n",
              "      <td>2.644750</td>\n",
              "    </tr>\n",
              "    <tr>\n",
              "      <th>max</th>\n",
              "      <td>5.834391e+00</td>\n",
              "      <td>1.869097e+00</td>\n",
              "      <td>2.139015e+01</td>\n",
              "      <td>2.492762e+01</td>\n",
              "      <td>1.367901e+01</td>\n",
              "      <td>5.452060e+01</td>\n",
              "      <td>2.999163e+00</td>\n",
              "      <td>2.547690e+00</td>\n",
              "      <td>5.000010</td>\n",
              "    </tr>\n",
              "  </tbody>\n",
              "</table>\n",
              "</div>\n",
              "      <button class=\"colab-df-convert\" onclick=\"convertToInteractive('df-c138a576-8b79-4148-9a3f-8dc6b7aac87d')\"\n",
              "              title=\"Convert this dataframe to an interactive table.\"\n",
              "              style=\"display:none;\">\n",
              "        \n",
              "  <svg xmlns=\"http://www.w3.org/2000/svg\" height=\"24px\"viewBox=\"0 0 24 24\"\n",
              "       width=\"24px\">\n",
              "    <path d=\"M0 0h24v24H0V0z\" fill=\"none\"/>\n",
              "    <path d=\"M18.56 5.44l.94 2.06.94-2.06 2.06-.94-2.06-.94-.94-2.06-.94 2.06-2.06.94zm-11 1L8.5 8.5l.94-2.06 2.06-.94-2.06-.94L8.5 2.5l-.94 2.06-2.06.94zm10 10l.94 2.06.94-2.06 2.06-.94-2.06-.94-.94-2.06-.94 2.06-2.06.94z\"/><path d=\"M17.41 7.96l-1.37-1.37c-.4-.4-.92-.59-1.43-.59-.52 0-1.04.2-1.43.59L10.3 9.45l-7.72 7.72c-.78.78-.78 2.05 0 2.83L4 21.41c.39.39.9.59 1.41.59.51 0 1.02-.2 1.41-.59l7.78-7.78 2.81-2.81c.8-.78.8-2.07 0-2.86zM5.41 20L4 18.59l7.72-7.72 1.47 1.35L5.41 20z\"/>\n",
              "  </svg>\n",
              "      </button>\n",
              "      \n",
              "  <style>\n",
              "    .colab-df-container {\n",
              "      display:flex;\n",
              "      flex-wrap:wrap;\n",
              "      gap: 12px;\n",
              "    }\n",
              "\n",
              "    .colab-df-convert {\n",
              "      background-color: #E8F0FE;\n",
              "      border: none;\n",
              "      border-radius: 50%;\n",
              "      cursor: pointer;\n",
              "      display: none;\n",
              "      fill: #1967D2;\n",
              "      height: 32px;\n",
              "      padding: 0 0 0 0;\n",
              "      width: 32px;\n",
              "    }\n",
              "\n",
              "    .colab-df-convert:hover {\n",
              "      background-color: #E2EBFA;\n",
              "      box-shadow: 0px 1px 2px rgba(60, 64, 67, 0.3), 0px 1px 3px 1px rgba(60, 64, 67, 0.15);\n",
              "      fill: #174EA6;\n",
              "    }\n",
              "\n",
              "    [theme=dark] .colab-df-convert {\n",
              "      background-color: #3B4455;\n",
              "      fill: #D2E3FC;\n",
              "    }\n",
              "\n",
              "    [theme=dark] .colab-df-convert:hover {\n",
              "      background-color: #434B5C;\n",
              "      box-shadow: 0px 1px 3px 1px rgba(0, 0, 0, 0.15);\n",
              "      filter: drop-shadow(0px 1px 2px rgba(0, 0, 0, 0.3));\n",
              "      fill: #FFFFFF;\n",
              "    }\n",
              "  </style>\n",
              "\n",
              "      <script>\n",
              "        const buttonEl =\n",
              "          document.querySelector('#df-c138a576-8b79-4148-9a3f-8dc6b7aac87d button.colab-df-convert');\n",
              "        buttonEl.style.display =\n",
              "          google.colab.kernel.accessAllowed ? 'block' : 'none';\n",
              "\n",
              "        async function convertToInteractive(key) {\n",
              "          const element = document.querySelector('#df-c138a576-8b79-4148-9a3f-8dc6b7aac87d');\n",
              "          const dataTable =\n",
              "            await google.colab.kernel.invokeFunction('convertToInteractive',\n",
              "                                                     [key], {});\n",
              "          if (!dataTable) return;\n",
              "\n",
              "          const docLinkHtml = 'Like what you see? Visit the ' +\n",
              "            '<a target=\"_blank\" href=https://colab.research.google.com/notebooks/data_table.ipynb>data table notebook</a>'\n",
              "            + ' to learn more about interactive tables.';\n",
              "          element.innerHTML = '';\n",
              "          dataTable['output_type'] = 'display_data';\n",
              "          await google.colab.output.renderOutput(dataTable, element);\n",
              "          const docLink = document.createElement('div');\n",
              "          docLink.innerHTML = docLinkHtml;\n",
              "          element.appendChild(docLink);\n",
              "        }\n",
              "      </script>\n",
              "    </div>\n",
              "  </div>\n",
              "  "
            ]
          },
          "metadata": {},
          "execution_count": 8
        }
      ]
    },
    {
      "cell_type": "markdown",
      "source": [
        "### Представим данные в тензорном виде"
      ],
      "metadata": {
        "id": "d1-J-nCkRMdu"
      }
    },
    {
      "cell_type": "code",
      "source": [
        "X_train_t = torch.from_numpy(X_train_s.astype(np.float32))\n",
        "y_train_t = torch.from_numpy(y_train.astype(np.float32))\n",
        "X_test_t = torch.from_numpy(X_test_s.astype(np.float32))\n",
        "y_test_t = torch.from_numpy(X_test.astype(np.float32))"
      ],
      "metadata": {
        "id": "9I4FlahLKJlF"
      },
      "execution_count": 9,
      "outputs": []
    },
    {
      "cell_type": "markdown",
      "source": [
        "### Разделим данные на пакеты с помощью DataLoader"
      ],
      "metadata": {
        "id": "lIec3LRfRXGt"
      }
    },
    {
      "cell_type": "code",
      "source": [
        "train_data = Data.TensorDataset(X_train_t, y_train_t)\n",
        "test_data = Data.TensorDataset(X_test_t, y_test_t)\n",
        "train_loader = Data.DataLoader(dataset = train_data, batch_size = 128, \n",
        "                               shuffle = True, num_workers = 2)\n",
        "test_loader = Data.DataLoader(dataset = test_data, batch_size = 32, \n",
        "                               shuffle = False, num_workers = 2)"
      ],
      "metadata": {
        "id": "8J4vsEEzKanR"
      },
      "execution_count": 10,
      "outputs": []
    },
    {
      "cell_type": "markdown",
      "source": [
        "### Соберем нейросеть для задачи регрессии"
      ],
      "metadata": {
        "id": "gvFAZLuHRlL9"
      }
    },
    {
      "cell_type": "code",
      "source": [
        "class Regression(nn.Module):\n",
        "    def __init__(self):\n",
        "        super(Regression, self).__init__()\n",
        "        #        \n",
        "        self.hidden1 = nn.Linear(in_features=8, out_features=100, bias=True)\n",
        "        #        \n",
        "        self.hidden2 = nn.Linear(100, 100)\n",
        "        self.bn_2 = nn.BatchNorm1d(100)\n",
        "        self.dp_2 = nn.Dropout(0.25)\n",
        "        #\n",
        "        self.hidden3 = nn.Linear(100, 50)\n",
        "        self.bn_3 = nn.BatchNorm1d(50)\n",
        "        self.dp_3 = nn.Dropout(0.25)\n",
        "        #      \n",
        "        self.predict = nn.Linear(50, 1)\n",
        "        \n",
        "    def forward(self, x):\n",
        "        x = F.relu(self.hidden1(x))\n",
        "        x = F.relu(self.hidden2(x))\n",
        "        x = self.dp_2(x)\n",
        "        x = self.bn_2(x)\n",
        "        x = F.relu(self.hidden3(x))\n",
        "        x = self.dp_3(x)\n",
        "        x = self.bn_3(x)\n",
        "        output = self.predict(x)\n",
        "        return output[:, 0]"
      ],
      "metadata": {
        "id": "u5sbsE8gLkmh"
      },
      "execution_count": 11,
      "outputs": []
    },
    {
      "cell_type": "code",
      "source": [
        "# # Output network structure\n",
        "# from torchsummary import summary\n",
        "# testnet = MLPregression()\n",
        "# summary(testnet, input_size=(1, 8)) # Represents 1 sample, 8 characteristics per sample"
      ],
      "metadata": {
        "id": "2QXrGGFgLmhB"
      },
      "execution_count": 12,
      "outputs": []
    },
    {
      "cell_type": "code",
      "source": [
        "# !pip install torchviz"
      ],
      "metadata": {
        "id": "0KW9x_urMEEG"
      },
      "execution_count": 13,
      "outputs": []
    },
    {
      "cell_type": "code",
      "source": [
        "# # Output network structure\n",
        "# from torchviz import make_dot\n",
        "# testnet = MLPregression()\n",
        "# x = torch.randn(1, 8).requires_grad_(True)\n",
        "# y = testnet(x)\n",
        "# myMLP_vis = make_dot(y, params=dict(list(testnet.named_parameters()) + [('x', x)]))\n",
        "# myMLP_vis"
      ],
      "metadata": {
        "id": "7CTcjBgnLmkX"
      },
      "execution_count": 14,
      "outputs": []
    },
    {
      "cell_type": "code",
      "source": [
        "testnet = Regression()"
      ],
      "metadata": {
        "id": "eV5VEMmPIgT5"
      },
      "execution_count": 15,
      "outputs": []
    },
    {
      "cell_type": "markdown",
      "source": [
        "### Сначала в качестве оптимизатора используем SGD"
      ],
      "metadata": {
        "id": "q-Qu9nhbSaOH"
      }
    },
    {
      "cell_type": "code",
      "source": [
        "optimizer = torch.optim.SGD(testnet.parameters(), lr = 0.001)\n",
        "loss_func = nn.MSELoss() #            \n",
        "train_loss_all = []\n",
        "\n",
        "for epoch in range(300):\n",
        "    train_loss = 0\n",
        "    train_num = 0\n",
        "\n",
        "    for step, (b_x, b_y) in enumerate(train_loader):\n",
        "        output = testnet(b_x) \n",
        "        loss = loss_func(output, b_y)     \n",
        "        optimizer.zero_grad()\n",
        "        loss.backward()\n",
        "        optimizer.step()\n",
        "        train_loss += loss.item() * b_x.size(0)\n",
        "        train_num += b_x.size(0)\n",
        "    train_loss_all.append(train_loss / train_num)"
      ],
      "metadata": {
        "id": "8IbToTW8LmqA"
      },
      "execution_count": 16,
      "outputs": []
    },
    {
      "cell_type": "code",
      "source": [
        "plt.figure(figsize = (16, 12))\n",
        "plt.plot(train_loss_all, 'ro-', label = 'Train loss')\n",
        "plt.legend()\n",
        "plt.grid()\n",
        "plt.xlabel('epoch')\n",
        "plt.ylabel('Loss')\n",
        "plt.show()"
      ],
      "metadata": {
        "colab": {
          "base_uri": "https://localhost:8080/",
          "height": 714
        },
        "id": "o2vikhH1Lmsu",
        "outputId": "60a23e0b-4874-4b98-be5f-0b44457e4488"
      },
      "execution_count": 17,
      "outputs": [
        {
          "output_type": "display_data",
          "data": {
            "text/plain": [
              "<Figure size 1152x864 with 1 Axes>"
            ],
            "image/png": "[encoded data removed]"
          },
          "metadata": {
            "needs_background": "light"
          }
        }
      ]
    },
    {
      "cell_type": "code",
      "source": [
        "y_pre = testnet(X_test_t)\n",
        "y_pre = y_pre.data.numpy()\n",
        "mse = mean_squared_error(y_test, y_pre)\n",
        "# mae = mean_absolute_error(y_test, y_pre)\n",
        "print('Среднеквадратичная ошибка равна:', mse)\n",
        "# print('Средняя абсолютная ошибка равна:', mae)"
      ],
      "metadata": {
        "colab": {
          "base_uri": "https://localhost:8080/"
        },
        "id": "lHiitQItLmvJ",
        "outputId": "cfe05f9f-524f-4321-e8e2-66911bf2d2d4"
      },
      "execution_count": 18,
      "outputs": [
        {
          "output_type": "stream",
          "name": "stdout",
          "text": [
            "Среднеквадратичная ошибка равна: 0.5456010165573534\n"
          ]
        }
      ]
    },
    {
      "cell_type": "code",
      "source": [
        "index = np.argsort(y_test)\n",
        "plt.figure(figsize=(8, 6))\n",
        "plt.plot(np.arange(len(y_test)), y_test[index], 'r', label = 'Original Y')\n",
        "plt.scatter(np.arange(len(y_pre)), y_pre[index], s = 3, c = 'b', label = 'Prediction')\n",
        "plt.legend(loc = 'upper left')\n",
        "plt.grid()\n",
        "plt.xlabel('Index')\n",
        "plt.ylabel('Y')\n",
        "plt.show()"
      ],
      "metadata": {
        "id": "hKHHMiGAZZEk",
        "colab": {
          "base_uri": "https://localhost:8080/",
          "height": 388
        },
        "outputId": "76ca65cc-bf30-4768-d2b5-6c9dc19a1a21"
      },
      "execution_count": 19,
      "outputs": [
        {
          "output_type": "display_data",
          "data": {
            "text/plain": [
              "<Figure size 576x432 with 1 Axes>"
            ],
            "image/png": "[encoded data removed]"
          },
          "metadata": {
            "needs_background": "light"
          }
        }
      ]
    },
    {
      "cell_type": "markdown",
      "source": [
        "### Для сравнения в качестве оптимизатора возьмем RMSprop"
      ],
      "metadata": {
        "id": "JDyk-N-tS5c9"
      }
    },
    {
      "cell_type": "code",
      "source": [
        "optimizer = torch.optim.RMSprop(testnet.parameters(), lr = 0.001)\n",
        "loss_func = nn.MSELoss()          \n",
        "train_loss_all = []\n",
        "\n",
        "for epoch in range(300):\n",
        "    train_loss = 0\n",
        "    train_num = 0\n",
        "\n",
        "    for step, (b_x, b_y) in enumerate(train_loader):\n",
        "        output = testnet(b_x)\n",
        "        loss = loss_func(output, b_y)     \n",
        "        optimizer.zero_grad()\n",
        "        loss.backward()\n",
        "        optimizer.step()\n",
        "        train_loss += loss.item() * b_x.size(0)\n",
        "        train_num += b_x.size(0)\n",
        "    train_loss_all.append(train_loss / train_num)\n"
      ],
      "metadata": {
        "id": "FmQlQhiPN1fp"
      },
      "execution_count": 20,
      "outputs": []
    },
    {
      "cell_type": "code",
      "source": [
        "plt.figure(figsize = (16, 12))\n",
        "plt.plot(train_loss_all, 'ro-', label = 'Train loss')\n",
        "plt.legend()\n",
        "plt.grid()\n",
        "plt.xlabel('epoch')\n",
        "plt.ylabel('Loss')\n",
        "plt.show()"
      ],
      "metadata": {
        "colab": {
          "base_uri": "https://localhost:8080/",
          "height": 714
        },
        "id": "SLtfinGwN1qW",
        "outputId": "3fd5988b-1fc4-4291-c9fb-6782bd008a6b"
      },
      "execution_count": 21,
      "outputs": [
        {
          "output_type": "display_data",
          "data": {
            "text/plain": [
              "<Figure size 1152x864 with 1 Axes>"
            ],
            "image/png": "[encoded data removed]"
          },
          "metadata": {
            "needs_background": "light"
          }
        }
      ]
    },
    {
      "cell_type": "code",
      "source": [
        "y_pre = testnet(X_test_t)\n",
        "y_pre = y_pre.data.numpy()\n",
        "mse = mean_squared_error(y_test, y_pre)\n",
        "# mae = mean_absolute_error(y_test, y_pre)\n",
        "print('Среднеквадратичная ошибка равна:', mse)\n",
        "# print('Средняя абсолютная ошибка равна:', mae)"
      ],
      "metadata": {
        "colab": {
          "base_uri": "https://localhost:8080/"
        },
        "id": "EqrwVKpYN3lD",
        "outputId": "fa81d410-3717-421f-fbd6-3e353a32412d"
      },
      "execution_count": 22,
      "outputs": [
        {
          "output_type": "stream",
          "name": "stdout",
          "text": [
            "Среднеквадратичная ошибка равна: 0.7933528904515423\n"
          ]
        }
      ]
    },
    {
      "cell_type": "code",
      "source": [
        "index = np.argsort(y_test)\n",
        "plt.figure(figsize=(8, 6))\n",
        "plt.plot(np.arange(len(y_test)), y_test[index], 'r', label = 'Original Y')\n",
        "plt.scatter(np.arange(len(y_pre)), y_pre[index], s = 3, c = 'b', label = 'Prediction')\n",
        "plt.legend(loc = 'upper left')\n",
        "plt.grid()\n",
        "plt.xlabel('Index')\n",
        "plt.ylabel('Y')\n",
        "plt.show()"
      ],
      "metadata": {
        "id": "rUU2vxNSZW7F",
        "colab": {
          "base_uri": "https://localhost:8080/",
          "height": 390
        },
        "outputId": "87e44043-773d-4ea7-ae31-6e3e0882f1a2"
      },
      "execution_count": 23,
      "outputs": [
        {
          "output_type": "display_data",
          "data": {
            "text/plain": [
              "<Figure size 576x432 with 1 Axes>"
            ],
            "image/png": "[encoded data removed]"
          },
          "metadata": {
            "needs_background": "light"
          }
        }
      ]
    },
    {
      "cell_type": "markdown",
      "source": [
        "### Теперь возьмем Adam"
      ],
      "metadata": {
        "id": "3CaenGu0TduK"
      }
    },
    {
      "cell_type": "code",
      "source": [
        "optimizer = torch.optim.Adam(testnet.parameters(), lr = 0.001)\n",
        "loss_func = nn.MSELoss() #            \n",
        "train_loss_all = []\n",
        "\n",
        "for epoch in range(300):\n",
        "    train_loss = 0\n",
        "    train_num = 0\n",
        "    for step, (b_x, b_y) in enumerate(train_loader):\n",
        "        output = testnet(b_x)\n",
        "        loss = loss_func(output, b_y)     \n",
        "        optimizer.zero_grad()\n",
        "        loss.backward()\n",
        "        optimizer.step()\n",
        "        train_loss += loss.item() * b_x.size(0)\n",
        "        train_num += b_x.size(0)\n",
        "    train_loss_all.append(train_loss / train_num)\n"
      ],
      "metadata": {
        "id": "-vQvGOniJtSN"
      },
      "execution_count": 24,
      "outputs": []
    },
    {
      "cell_type": "code",
      "source": [
        "plt.figure(figsize = (16, 12))\n",
        "plt.plot(train_loss_all, 'ro-', label = 'Train loss')\n",
        "plt.legend()\n",
        "plt.grid()\n",
        "plt.xlabel('epoch')\n",
        "plt.ylabel('Loss')\n",
        "plt.show()"
      ],
      "metadata": {
        "colab": {
          "base_uri": "https://localhost:8080/",
          "height": 714
        },
        "id": "FMUVyXGfJtZv",
        "outputId": "55b9bd91-1fc1-42d7-b7ae-5592a990d595"
      },
      "execution_count": 25,
      "outputs": [
        {
          "output_type": "display_data",
          "data": {
            "text/plain": [
              "<Figure size 1152x864 with 1 Axes>"
            ],
            "image/png": "[encoded data removed]"
          },
          "metadata": {
            "needs_background": "light"
          }
        }
      ]
    },
    {
      "cell_type": "code",
      "source": [
        "y_pre = testnet(X_test_t)\n",
        "y_pre = y_pre.data.numpy()\n",
        "mse = mean_squared_error(y_test, y_pre)\n",
        "# mae = mean_absolute_error(y_test, y_pre)\n",
        "print('Среднеквадратичная ошибка равна:', mse)\n",
        "# print('Средняя абсолютная ошибка равна:', mae)"
      ],
      "metadata": {
        "colab": {
          "base_uri": "https://localhost:8080/"
        },
        "id": "8nwVwgfvJthB",
        "outputId": "db5c6744-84bf-4ebf-92f1-14d558ae0322"
      },
      "execution_count": 26,
      "outputs": [
        {
          "output_type": "stream",
          "name": "stdout",
          "text": [
            "Среднеквадратичная ошибка равна: 0.8101422340591539\n"
          ]
        }
      ]
    },
    {
      "cell_type": "code",
      "source": [
        "index = np.argsort(y_test)\n",
        "plt.figure(figsize=(8, 6))\n",
        "plt.plot(np.arange(len(y_test)), y_test[index], 'r', label = 'Original Y')\n",
        "plt.scatter(np.arange(len(y_pre)), y_pre[index], s = 3, c = 'b', label = 'Prediction')\n",
        "plt.legend(loc = 'upper left')\n",
        "plt.grid()\n",
        "plt.xlabel('Index')\n",
        "plt.ylabel('Y')\n",
        "plt.show()"
      ],
      "metadata": {
        "colab": {
          "base_uri": "https://localhost:8080/",
          "height": 388
        },
        "id": "JocXJRpXZJzB",
        "outputId": "e0e9e685-225e-47fc-f13e-1b5e5cc9e786"
      },
      "execution_count": 27,
      "outputs": [
        {
          "output_type": "display_data",
          "data": {
            "text/plain": [
              "<Figure size 576x432 with 1 Axes>"
            ],
            "image/png": "[encoded data removed]"
          },
          "metadata": {
            "needs_background": "light"
          }
        }
      ]
    },
    {
      "cell_type": "markdown",
      "source": [
        "### Наилучшая сходимость алгоритма для этой сети на нашем наборе данных достигается с оптимизатором SGD. Он же показывает и наилучшую метрику на тесте, так как правильно предсказывает тенденцию изменения цены на данных, не участвовавших в обучении. Были протестированы различные варианты параметров сети (с батчнормализацией и без нее, со слоями дропаута и без них). Без батчнормализации и дропаутов сеть быстро переобучалась и их пришлось вернуть. Могу предположить, что присутствующая в RMSprop и Adam функция накопления информации о предыдущем ингредиенте позволяет оптимизаторам более эффективно двигаться в сторону глобального минимума. Но при этом наступает переобучение сети и ухудшается предсказание на тесте. SGD оказался более устойчив к переобучению и показывал стабильные и примерно одинаковые результаты при различном количестве эпох (от 30 до 300). При этом метрика MSE на обучении у него самая плохая, но в массе предсказания более точные."
      ],
      "metadata": {
        "id": "NCeZOwtsSJGf"
      }
    }
  ],
  "metadata": {
    "kernelspec": {
      "display_name": "Python 3",
      "language": "python",
      "name": "python3"
    },
    "language_info": {
      "codemirror_mode": {
        "name": "ipython",
        "version": 3
      },
      "file_extension": ".py",
      "mimetype": "text/x-python",
      "name": "python",
      "nbconvert_exporter": "python",
      "pygments_lexer": "ipython3",
      "version": "3.7.4"
    },
    "colab": {
      "name": "HW_3.ipynb",
      "provenance": [],
      "collapsed_sections": [],
      "include_colab_link": true
    },
    "gpuClass": "standard"
  },
  "nbformat": 4,
  "nbformat_minor": 0
}